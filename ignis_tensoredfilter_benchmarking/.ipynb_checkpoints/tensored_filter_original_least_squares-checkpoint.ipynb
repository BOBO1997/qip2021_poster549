{
 "cells": [
  {
   "cell_type": "markdown",
   "metadata": {
    "id": "aT21s9W9e8Xz"
   },
   "source": [
    "# import libraries"
   ]
  },
  {
   "cell_type": "code",
   "execution_count": 1,
   "metadata": {
    "id": "vOqGZ75TS7ee"
   },
   "outputs": [],
   "source": [
    "import numpy as np\n",
    "import matplotlib.pyplot as plt\n",
    "%matplotlib inline\n",
    "from pprint import pprint\n",
    "import time\n",
    "import sys\n",
    "import platform"
   ]
  },
  {
   "cell_type": "code",
   "execution_count": 2,
   "metadata": {
    "id": "1ABk0TemrES1"
   },
   "outputs": [],
   "source": [
    "import qiskit\n",
    "from qiskit import QuantumCircuit, QuantumRegister, ClassicalRegister, Aer, execute\n",
    "from qiskit.tools.visualization import plot_histogram\n",
    "from qiskit.providers.aer import noise\n",
    "from qiskit.ignis.mitigation.measurement import tensored_meas_cal, TensoredMeasFitter"
   ]
  },
  {
   "cell_type": "markdown",
   "metadata": {
    "id": "OMrkLw_VfC5h"
   },
   "source": [
    "# Measure the time of tensored calibration for GHZ state from size 2 to 6 \n",
    "- Testing for \"least_squares\" method\n",
    "- Using the original TensoredFilter.apply() function"
   ]
  },
  {
   "cell_type": "code",
   "execution_count": 6,
   "metadata": {},
   "outputs": [
    {
     "name": "stdout",
     "output_type": "stream",
     "text": [
      "'x86_64'\n",
      "('Darwin Kernel Version 19.5.0: Tue May 26 20:41:44 PDT 2020; '\n",
      " 'root:xnu-6153.121.2~2/RELEASE_X86_64')\n",
      "'Darwin-19.5.0-x86_64-i386-64bit'\n",
      "uname_result(system='Darwin', node='Yang-no-MBP', release='19.5.0', version='Darwin Kernel Version 19.5.0: Tue May 26 20:41:44 PDT 2020; root:xnu-6153.121.2~2/RELEASE_X86_64', machine='x86_64', processor='i386')\n",
      "'Darwin'\n",
      "'i386'\n"
     ]
    }
   ],
   "source": [
    "# device version\n",
    "pprint(platform.machine())\n",
    "pprint(platform.version())\n",
    "pprint(platform.platform())\n",
    "pprint(platform.uname())\n",
    "pprint(platform.system())\n",
    "pprint(platform.processor())"
   ]
  },
  {
   "cell_type": "code",
   "execution_count": null,
   "metadata": {},
   "outputs": [],
   "source": [
    "# python version\n",
    "pprint(sys.version)"
   ]
  },
  {
   "cell_type": "code",
   "execution_count": 3,
   "metadata": {},
   "outputs": [
    {
     "data": {
      "text/plain": [
       "{'qiskit-terra': '0.16.1',\n",
       " 'qiskit-aer': '0.7.1',\n",
       " 'qiskit-ignis': '0.5.1',\n",
       " 'qiskit-ibmq-provider': '0.11.1',\n",
       " 'qiskit-aqua': '0.8.1',\n",
       " 'qiskit': '0.23.1'}"
      ]
     },
     "execution_count": 3,
     "metadata": {},
     "output_type": "execute_result"
    }
   ],
   "source": [
    "# qiskit version\n",
    "qiskit.__qiskit_version__"
   ]
  },
  {
   "cell_type": "code",
   "execution_count": null,
   "metadata": {},
   "outputs": [],
   "source": [
    "lim = 8\n",
    "times = []\n",
    "noisy_counts_of_each_size = []\n",
    "mitigated_counts_of_each_size = []"
   ]
  },
  {
   "cell_type": "code",
   "execution_count": null,
   "metadata": {
    "colab": {
     "base_uri": "https://localhost:8080/"
    },
    "id": "Z3ZcU3hHay-N",
    "outputId": "c5f4cdcd-86d1-4f2a-91e9-360ca9879b4c"
   },
   "outputs": [],
   "source": [
    "for n in range(2,lim):\n",
    "    # n = 14\n",
    "    print(\"experiment of \", n, \"-qubit GHZ state\")\n",
    "\n",
    "    # create n qubit tensored measurement calibration circuits\n",
    "    qr = qiskit.QuantumRegister(n)\n",
    "    mit_pattern = [[i] for i in range(n)]\n",
    "    meas_calibs, state_labels = tensored_meas_cal(mit_pattern=mit_pattern, qr=qr, circlabel='mcal')\n",
    "    print(\"mit pattern: \", mit_pattern)\n",
    "    print(\"number of calibration circuits: \", len(meas_calibs), \"-> the circuits for '000...0' and '111...1'\")\n",
    "\n",
    "    # prepare noise model of n qubits\n",
    "    noise_model = noise.NoiseModel()\n",
    "    for qi in range(n):\n",
    "        read_err = noise.errors.readout_error.ReadoutError([[0.9, 0.1],[0.25,0.75]])\n",
    "        noise_model.add_readout_error(read_err, [qi])\n",
    "\n",
    "    # execute the calibration circuits\n",
    "    job = qiskit.execute(meas_calibs, backend=Aer.get_backend('qasm_simulator'), shots=5000, noise_model=noise_model)\n",
    "    cal_results = job.result()\n",
    "    meas_fitter = TensoredMeasFitter(cal_results, mit_pattern=mit_pattern)\n",
    "    print(meas_fitter.cal_matrices)\n",
    "\n",
    "    # create n-qubit GHZ state\n",
    "    m = n\n",
    "    cr = ClassicalRegister(m)\n",
    "    ghz = QuantumCircuit(qr, cr)\n",
    "    ghz.h(qr[0])\n",
    "    for i in range(1,m):\n",
    "        ghz.cx(qr[0], qr[i])\n",
    "    ghz.barrier()\n",
    "    for i in range(m):\n",
    "        ghz.measure(qr[i],cr[i])\n",
    "    # ghz.draw(\"mpl\")\n",
    "\n",
    "    # execute GHZ circuit\n",
    "    job = qiskit.execute([ghz], backend=Aer.get_backend(\"qasm_simulator\"), shots=5000, noise_model=noise_model)\n",
    "    noisy_counts = job.result().get_counts()\n",
    "\n",
    "    # Get the filter object\n",
    "    meas_filter = meas_fitter.filter\n",
    "\n",
    "    t1 = time.time()\n",
    "    # Results with mitigation\n",
    "    mitigated_counts = meas_filter.apply(noisy_counts)\n",
    "    t2 = time.time()\n",
    "\n",
    "    print(\"time of mitigation for\", n, \"qubits GHZ state: \", t2 - t1, \"[s]\")\n",
    "    times.append(t2 - t1)\n",
    "\n",
    "    noisy_counts_of_each_size.append(noisy_counts)\n",
    "    mitigated_counts_of_each_size.append(mitigated_counts)\n",
    "    \n",
    "    print()"
   ]
  },
  {
   "cell_type": "code",
   "execution_count": null,
   "metadata": {
    "colab": {
     "base_uri": "https://localhost:8080/",
     "height": 281
    },
    "id": "4Lyw-wZxs3jB",
    "outputId": "4bf4706d-e491-477d-c2e9-bbe1c6f8dbe2"
   },
   "outputs": [],
   "source": [
    "pprint(times)"
   ]
  },
  {
   "cell_type": "code",
   "execution_count": null,
   "metadata": {},
   "outputs": [],
   "source": [
    "plt.plot(range(2, lim), times)"
   ]
  },
  {
   "cell_type": "markdown",
   "metadata": {},
   "source": [
    "# Check whether the mitigation is done successfully"
   ]
  },
  {
   "cell_type": "code",
   "execution_count": null,
   "metadata": {},
   "outputs": [],
   "source": [
    "print(0 + 2, \"-qubit GHZ state\")\n",
    "plot_histogram([noisy_counts_of_each_size[0], mitigated_counts_of_each_size[0]], legend=['noisy', 'mitigated'])"
   ]
  },
  {
   "cell_type": "code",
   "execution_count": null,
   "metadata": {},
   "outputs": [],
   "source": [
    "print(1 + 2, \"-qubit GHZ state\")\n",
    "plot_histogram([noisy_counts_of_each_size[1], mitigated_counts_of_each_size[1]], legend=['noisy', 'mitigated'])"
   ]
  },
  {
   "cell_type": "code",
   "execution_count": null,
   "metadata": {},
   "outputs": [],
   "source": [
    "print(2 + 2, \"-qubit GHZ state\")\n",
    "plot_histogram([noisy_counts_of_each_size[2], mitigated_counts_of_each_size[2]], legend=['noisy', 'mitigated'])"
   ]
  },
  {
   "cell_type": "code",
   "execution_count": null,
   "metadata": {},
   "outputs": [],
   "source": [
    "print(3 + 2, \"-qubit GHZ state\")\n",
    "plot_histogram([noisy_counts_of_each_size[3], mitigated_counts_of_each_size[3]], legend=['noisy', 'mitigated'])"
   ]
  },
  {
   "cell_type": "code",
   "execution_count": null,
   "metadata": {},
   "outputs": [],
   "source": [
    "print(4 + 2, \"-qubit GHZ state\")\n",
    "plot_histogram([noisy_counts_of_each_size[4], mitigated_counts_of_each_size[4]], legend=['noisy', 'mitigated'])"
   ]
  }
 ],
 "metadata": {
  "colab": {
   "collapsed_sections": [],
   "name": "tensored_filter.ipynb",
   "provenance": []
  },
  "kernelspec": {
   "display_name": "Python 3",
   "language": "python",
   "name": "python3"
  },
  "language_info": {
   "codemirror_mode": {
    "name": "ipython",
    "version": 3
   },
   "file_extension": ".py",
   "mimetype": "text/x-python",
   "name": "python",
   "nbconvert_exporter": "python",
   "pygments_lexer": "ipython3",
   "version": "3.7.7"
  }
 },
 "nbformat": 4,
 "nbformat_minor": 1
}
