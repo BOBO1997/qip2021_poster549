{
 "cells": [
  {
   "cell_type": "markdown",
   "metadata": {},
   "source": [
    "# Poly-time Error Mitigation [WIP]\n",
    "\n",
    "## The Method Inspired by [Mooney et al.](https://arxiv.org/abs/2101.08946)\n",
    "\n",
    "Use tensor product noise model: $A = A^{(0)}\\otimes\\cdots\\otimes A^{(n-1)}$.\n",
    "Assume we execute 8192 shots.\n",
    "\n",
    "The threshold $t$ is decided by the number of states and the number of shots.\n",
    "- If the number of states is smaller than the shots, then $t = 50$ (Mooney et al. set this value to $819.2$).\n",
    "- Otherwise the threshold is set to $0.5$.\n",
    "\n",
    "Let the original probability vector be $\\bf{y}_{0}=\\bf{x}$.\n",
    "\n",
    "1. For $i$ in $\\{0,1,2,\\cdots,n-1\\}$, we apply $A^{(i)}$ sequentially.\n",
    "    1. In $i$-th loop, we make a new probablity vector $\\bf{y}_i$ from the previous probability vector $\\bf{y}_{i-1}$ by the following protocol.\n",
    "        1. Prepare a void probability vector $\\bf{y}_i$ ($len(\\bf{y}_i) = 0$).\n",
    "        2. For every state $s$ in $\\bf{y}_{i-1}$, do mitigation of qubit $i$ using $A^{(i)}$. Mitigation itself can be done in constant time since $A^{(i)}$ only has 4 elements.\n",
    "             - If $c_s < 0$, we record the negative value for later use (sum up negative value while the whole loop).\n",
    "             - If the absolute value $|c_s|$ of mitigated value $c_s$ of state $s$ is bigger than the threshold $t$, we add the state $s$ and the value $c_s$ to $\\bf{y}_i$.\n",
    "             - Otherwise we abort the state $s$ and the value $c_s$.\n",
    "    2. Finally we get \"mitigated\" probability vector $\\bf{y}_i$ from qubit $0$ the qubit $i$.\n",
    "2. By the step 1, we get the full mitigated $\\bf{y} = \\bf{y}_{n-1}$. Next we deal with the negative value in the vector and normalize the vector to the number of shots.\n",
    "    1. Remove the negative value from $\\bf{y}$.\n",
    "    2. Average the recorded negative value among the positive values: $$\\bf{y}[state] \\leftarrow \\bf{y}[state] \\cdot \\left(1 -  \\frac {sum\\ of\\ negative value} {{}^t\\bf{1}\\cdot\\bf{y}}\\right)$$\n",
    "    3. Rescale $\\bf{y}$: $$\\bf{y}[state] \\leftarrow \\bf{y}[state] \\cdot \\frac {nshots}{{}^t\\bf{1}\\cdot\\bf{y}}$$\n",
    "    4. Check whether ${}^t\\bf{1}\\cdot\\bf{y} > 0$"
   ]
  }
 ],
 "metadata": {
  "kernelspec": {
   "display_name": "Python 3",
   "language": "python",
   "name": "python3"
  },
  "language_info": {
   "codemirror_mode": {
    "name": "ipython",
    "version": 3
   },
   "file_extension": ".py",
   "mimetype": "text/x-python",
   "name": "python",
   "nbconvert_exporter": "python",
   "pygments_lexer": "ipython3",
   "version": "3.6.10"
  }
 },
 "nbformat": 4,
 "nbformat_minor": 4
}
