{
 "cells": [
  {
   "cell_type": "markdown",
   "metadata": {
    "id": "m2GiFQGETOlU"
   },
   "source": [
    "# Experiment of star graph from size 2 to 39 on ibmq_manhattan, with measurement error mitigation proposed by Bravyi et al.\n",
    "\n",
    "External packages by my own:\n",
    "- bell_ineq.py \\\n",
    "importing the inequality by Baccari et al.\n",
    "\n",
    "- graph_lib.py \\\n",
    "importing graph library such as making adjacency list of star graph\n",
    "\n",
    "- graph_state_lib.py \\\n",
    "importing the circuit preparation functions for graph states"
   ]
  },
  {
   "cell_type": "markdown",
   "metadata": {
    "id": "_Y0MZiZn4Nqg"
   },
   "source": [
    "## import libraries"
   ]
  },
  {
   "cell_type": "markdown",
   "metadata": {
    "id": "aT21s9W9e8Xz"
   },
   "source": [
    "### import libraries"
   ]
  },
  {
   "cell_type": "code",
   "execution_count": 1,
   "metadata": {
    "id": "vOqGZ75TS7ee"
   },
   "outputs": [],
   "source": [
    "import numpy as np\n",
    "import matplotlib.pyplot as plt\n",
    "%matplotlib inline\n",
    "from IPython.display import Image, display\n",
    "import pickle\n",
    "import pprint\n",
    "import time"
   ]
  },
  {
   "cell_type": "code",
   "execution_count": 2,
   "metadata": {
    "id": "1ABk0TemrES1"
   },
   "outputs": [],
   "source": [
    "import qiskit\n",
    "from qiskit import QuantumCircuit, QuantumRegister, ClassicalRegister, Aer, execute, IBMQ\n",
    "from qiskit.tools.visualization import plot_histogram\n",
    "from qiskit.tools.monitor import job_monitor\n",
    "import qiskit.ignis.mitigation as mit\n",
    "import qiskit.quantum_info as qi\n",
    "# from qiskit.ignis.mitigation.measurement import complete_meas_cal, tensored_meas_cal, CompleteMeasFitter, TensoredMeasFitter"
   ]
  },
  {
   "cell_type": "markdown",
   "metadata": {
    "id": "0OlM_4hIerIk"
   },
   "source": [
    "### import original library"
   ]
  },
  {
   "cell_type": "code",
   "execution_count": 3,
   "metadata": {
    "colab": {
     "base_uri": "https://localhost:8080/"
    },
    "executionInfo": {
     "elapsed": 22040,
     "status": "ok",
     "timestamp": 1610516242061,
     "user": {
      "displayName": "Bo Yang",
      "photoUrl": "",
      "userId": "03206198380065904075"
     },
     "user_tz": -540
    },
    "id": "L6vq0TE6S7el",
    "outputId": "d02cd834-e136-45a4-8cc9-cd0493fba7c2"
   },
   "outputs": [],
   "source": [
    "import importlib\n",
    "import star_bell_ineq\n",
    "importlib.reload(star_bell_ineq)\n",
    "from star_bell_ineq import *\n",
    "import graph_lib\n",
    "from graph_lib import *\n",
    "import graph_state_lib\n",
    "from graph_state_lib import *"
   ]
  },
  {
   "cell_type": "markdown",
   "metadata": {
    "id": "OMrkLw_VfC5h"
   },
   "source": [
    "### load account"
   ]
  },
  {
   "cell_type": "code",
   "execution_count": 4,
   "metadata": {
    "colab": {
     "base_uri": "https://localhost:8080/"
    },
    "executionInfo": {
     "elapsed": 25109,
     "status": "ok",
     "timestamp": 1610516245426,
     "user": {
      "displayName": "Bo Yang",
      "photoUrl": "",
      "userId": "03206198380065904075"
     },
     "user_tz": -540
    },
    "id": "06_lYscyS7el",
    "outputId": "4daa70a7-b7b2-44b0-9f14-2d819d2dd439"
   },
   "outputs": [
    {
     "name": "stdout",
     "output_type": "stream",
     "text": [
      "<AccountProvider for IBMQ(hub='ibm-q-utokyo', group='internal', project='hirashi-jst')>\n"
     ]
    }
   ],
   "source": [
    "IBMQ.load_account()\n",
    "provider = IBMQ.get_provider(hub='ibm-q-utokyo', group='internal', project='hirashi-jst')\n",
    "print(provider)"
   ]
  },
  {
   "cell_type": "markdown",
   "metadata": {
    "id": "SKpSIOj8UBAg"
   },
   "source": [
    "## create star graph information from size 2 to 39\n",
    "we test the size from 2 to 39\n",
    "\n",
    "change the number of 27 of \"max_size = len(vertex_list[:27]) # largest graph size\" if you want to try up to other size"
   ]
  },
  {
   "cell_type": "code",
   "execution_count": 5,
   "metadata": {
    "id": "2hjI9HU3S7em"
   },
   "outputs": [],
   "source": [
    "vertex_list =  [19, \n",
    "                25, \n",
    "                20, 33,\n",
    "                18, 21, 32,\n",
    "                34, 17, 12, 31,\n",
    "                22, 35, 16, 8, 39, \n",
    "                11, 30, 23, 36, 15, 7, 45,\n",
    "                40, 9, 4, 29, 26, 37, 24, 6, 46,\n",
    "                14, 44, 49, 3, 28, 5, 47] # qubit layout\n",
    "max_size = len(vertex_list) # largest graph size\n",
    "Fs = [[0] for n in range(1, max_size + 1)] # subsets of focused vertices of graph size 1 to max_size\n",
    "adj_lists = [adjacency_list_for_star_graph(n) for n in range(1, max_size + 1)] # adjacency list of graph size 1 to max_size\n",
    "graphs = [list_to_matrix(adj_list) for adj_list in adj_lists] # adjacency matrix of graph size 1 to max_size\n",
    "shots_per_circuit = 1 << 13 # shots per one execution\n",
    "graph_sizes = [len(adj_list) for adj_list in adj_lists]\n",
    "system_size = len(vertex_list)"
   ]
  },
  {
   "cell_type": "code",
   "execution_count": 6,
   "metadata": {
    "colab": {
     "base_uri": "https://localhost:8080/"
    },
    "executionInfo": {
     "elapsed": 22741,
     "status": "ok",
     "timestamp": 1610516245427,
     "user": {
      "displayName": "Bo Yang",
      "photoUrl": "",
      "userId": "03206198380065904075"
     },
     "user_tz": -540
    },
    "id": "IFfTxEtES7en",
    "outputId": "e646a45a-ec29-4fd4-d010-6a3874c14ced"
   },
   "outputs": [
    {
     "name": "stdout",
     "output_type": "stream",
     "text": [
      "max_size: 39\n",
      "system_size: 39\n",
      "shots_per_circuit: 8192\n",
      "graph_sizes: [1, 2, 3, 4, 5, 6, 7, 8, 9, 10, 11, 12, 13, 14, 15, 16, 17, 18, 19, 20, 21, 22, 23, 24, 25, 26, 27, 28, 29, 30, 31, 32, 33, 34, 35, 36, 37, 38, 39]\n"
     ]
    }
   ],
   "source": [
    "print(\"max_size:\", max_size)\n",
    "print(\"system_size:\", system_size)\n",
    "print(\"shots_per_circuit:\", shots_per_circuit)\n",
    "print(\"graph_sizes:\", graph_sizes)"
   ]
  },
  {
   "cell_type": "code",
   "execution_count": 7,
   "metadata": {
    "id": "lT46dGROS7eo"
   },
   "outputs": [],
   "source": [
    "# indicate how to connect qubits\n",
    "order = [[0,1],\n",
    "         [0,2],[1,3],\n",
    "         [0,4],[2,5],[3,6],\n",
    "         [3,7],[4,8],[5,9],[6,10],\n",
    "         [5,11],[7,12],[8,13],[9,14],[10,15],\n",
    "         [8,16],[10,17],[11,18],[12,19],[13,20],[14,21],[15,22],\n",
    "         [12,23],[14,24],[16,25],[17,26],[18,27],[19,28],[20,29],[21,30],[22,31],\n",
    "         [20,32],[22,33],[23,34],[25,35],[26,36],[30,37],[31,38]]"
   ]
  },
  {
   "cell_type": "code",
   "execution_count": 8,
   "metadata": {
    "colab": {
     "base_uri": "https://localhost:8080/"
    },
    "executionInfo": {
     "elapsed": 22409,
     "status": "ok",
     "timestamp": 1610516245428,
     "user": {
      "displayName": "Bo Yang",
      "photoUrl": "",
      "userId": "03206198380065904075"
     },
     "user_tz": -540
    },
    "id": "dL2TwGGKS7eo",
    "outputId": "cf403021-ebe0-4508-97c3-cb419b80a421",
    "scrolled": true
   },
   "outputs": [
    {
     "name": "stdout",
     "output_type": "stream",
     "text": [
      "[0, 1, 2, 2, 3, 3, 3, 4, 4, 4, 4, 5, 5, 5, 5, 5, 6, 6, 6, 6, 6, 6, 6, 7, 7, 7, 7, 7, 7, 7, 7, 7, 8, 8, 8, 8, 8, 8, 8]\n",
      "39\n"
     ]
    }
   ],
   "source": [
    "qubit_depths = [0, \n",
    "                1, \n",
    "                2, 2,\n",
    "                3, 3, 3, \n",
    "                4, 4, 4, 4, \n",
    "                5, 5, 5, 5, 5, \n",
    "                6, 6, 6, 6, 6, 6, 6, \n",
    "                7, 7, 7, 7, 7, 7, 7, 7, 7,\n",
    "                8, 8, 8, 8, 8, 8, 8]\n",
    "print(qubit_depths)\n",
    "print(len(qubit_depths))"
   ]
  },
  {
   "cell_type": "markdown",
   "metadata": {
    "id": "BVbr64jYUT-J"
   },
   "source": [
    "## prepare quantum circuits (from size 2 to 39)"
   ]
  },
  {
   "cell_type": "code",
   "execution_count": 9,
   "metadata": {
    "colab": {
     "base_uri": "https://localhost:8080/"
    },
    "executionInfo": {
     "elapsed": 22509,
     "status": "ok",
     "timestamp": 1610516247224,
     "user": {
      "displayName": "Bo Yang",
      "photoUrl": "",
      "userId": "03206198380065904075"
     },
     "user_tz": -540
    },
    "id": "An6oOvP8W9O3",
    "outputId": "0b745d93-0075-4bc9-beb8-4e5ab2ef34ed"
   },
   "outputs": [
    {
     "name": "stdout",
     "output_type": "stream",
     "text": [
      "the number of graph state circuits is:  223\n"
     ]
    }
   ],
   "source": [
    "qcs = [refocusing_last_star_graph_state(size, order[:size-1], qubit_depths[:size], system_size) for size in range(1, max_size+1)]\n",
    "qcs_list, nums_divide_list, nums_meas_cal_list, metadatas_list, _, initial_layouts_list = \\\n",
    "    prepare_grouping_star_graph_qcs_list(qcs, \n",
    "                                        adj_lists, \n",
    "                                        measure_last=True,\n",
    "                                        optimization_level=0,\n",
    "                                        initial_layouts=[vertex_list[:system_size]] * len(qcs),\n",
    "                                        method=\"CTMP\",\n",
    "                                        mitigation_limit=15)\n",
    "print(\"the number of graph state circuits is: \", len(qcs_list))"
   ]
  },
  {
   "cell_type": "code",
   "execution_count": 10,
   "metadata": {
    "colab": {
     "base_uri": "https://localhost:8080/"
    },
    "executionInfo": {
     "elapsed": 21336,
     "status": "ok",
     "timestamp": 1610516247225,
     "user": {
      "displayName": "Bo Yang",
      "photoUrl": "",
      "userId": "03206198380065904075"
     },
     "user_tz": -540
    },
    "id": "vCujSCuS462u",
    "outputId": "e3105abe-e67c-49b1-af96-5e380e95c27e"
   },
   "outputs": [
    {
     "name": "stdout",
     "output_type": "stream",
     "text": [
      "223 quantum circuits\n",
      "length of initial_layouts_list:  223\n"
     ]
    }
   ],
   "source": [
    "ops_qcs_list = [qc.count_ops() for qc in qcs_list]\n",
    "print(len(qcs_list), \"quantum circuits\")\n",
    "print(\"length of initial_layouts_list: \", len(initial_layouts_list))"
   ]
  },
  {
   "cell_type": "code",
   "execution_count": 11,
   "metadata": {
    "colab": {
     "base_uri": "https://localhost:8080/"
    },
    "executionInfo": {
     "elapsed": 20234,
     "status": "ok",
     "timestamp": 1610516247226,
     "user": {
      "displayName": "Bo Yang",
      "photoUrl": "",
      "userId": "03206198380065904075"
     },
     "user_tz": -540
    },
    "id": "zAetsDCMS7ep",
    "outputId": "649396e6-f610-4eeb-ee6e-df6557250b18"
   },
   "outputs": [
    {
     "name": "stdout",
     "output_type": "stream",
     "text": [
      "qcs_depth: [4, 5, 5, 6, 6, 6, 7, 7, 7, 7, 8, 8, 8, 8, 8, 9, 9, 9, 9, 9, 9, 9, 10, 10, 10, 10, 10, 10, 10, 10, 10, 11, 11, 11, 11, 11, 11, 11]\n"
     ]
    }
   ],
   "source": [
    "qcs_depths = [qc.depth() for qc in qcs[1:]]\n",
    "print(\"qcs_depth:\", qcs_depths)"
   ]
  },
  {
   "cell_type": "markdown",
   "metadata": {
    "id": "cPHC7MnzUd2B"
   },
   "source": [
    "## cast jobs to ibmq_manhattan and save job ids"
   ]
  },
  {
   "cell_type": "code",
   "execution_count": 12,
   "metadata": {
    "id": "21Is3S6QS7er"
   },
   "outputs": [
    {
     "name": "stderr",
     "output_type": "stream",
     "text": [
      "/Users/yangbo/.pyenv/versions/anaconda3-5.1.0/lib/python3.6/site-packages/ipykernel_launcher.py:1: DeprecationWarning: The `backends` provider attribute is deprecated. Please use `provider.backend` (singular) instead. You can continue to use `provider.backends()` to retrieve all backends.\n",
      "  \"\"\"Entry point for launching an IPython kernel.\n"
     ]
    }
   ],
   "source": [
    "device = provider.backends.ibmq_manhattan\n",
    "backend = provider.get_backend('ibmq_manhattan')"
   ]
  },
  {
   "cell_type": "code",
   "execution_count": 13,
   "metadata": {
    "colab": {
     "base_uri": "https://localhost:8080/"
    },
    "executionInfo": {
     "elapsed": 8033,
     "status": "ok",
     "timestamp": 1610475592980,
     "user": {
      "displayName": "Bo Yang",
      "photoUrl": "",
      "userId": "03206198380065904075"
     },
     "user_tz": -540
    },
    "id": "orvQXVtQS7eq",
    "outputId": "be70825d-b81d-4038-a931-d26a8d6475be"
   },
   "outputs": [
    {
     "data": {
      "text/plain": [
       "'\\njobs = execute_circuits(qcs_list,\\n                        backend=\\'ibmq_manhattan\\', \\n                        provider=provider, \\n                        shots=shots_per_circuit,\\n                        max_experiments=900,\\n                        optimization_level=1,\\n                        initial_layout=initial_layouts_list)\\nprint(len(jobs), \"jobs\")\\n'"
      ]
     },
     "execution_count": 13,
     "metadata": {},
     "output_type": "execute_result"
    }
   ],
   "source": [
    "\"\"\"\n",
    "jobs = execute_circuits(qcs_list,\n",
    "                        backend='ibmq_manhattan', \n",
    "                        provider=provider, \n",
    "                        shots=shots_per_circuit,\n",
    "                        max_experiments=900,\n",
    "                        optimization_level=1,\n",
    "                        initial_layout=initial_layouts_list)\n",
    "print(len(jobs), \"jobs\")\n",
    "\"\"\""
   ]
  },
  {
   "cell_type": "code",
   "execution_count": 14,
   "metadata": {
    "id": "7JmhwSflsxKZ"
   },
   "outputs": [],
   "source": [
    "job_ids_filename = \"job_ids_manhattan_star.pkl\""
   ]
  },
  {
   "cell_type": "code",
   "execution_count": 15,
   "metadata": {
    "id": "vY8GBwyHS7eq"
   },
   "outputs": [],
   "source": [
    "# with open(job_ids_filename, \"wb\") as f:\n",
    "#     pickle.dump([job.job_id() for job in jobs], f)"
   ]
  },
  {
   "cell_type": "code",
   "execution_count": 16,
   "metadata": {
    "id": "WmBSJPged9fY"
   },
   "outputs": [],
   "source": [
    "# with open(\"manhattan_properties_star.pkl\", \"wb\") as f:\n",
    "#     pickle.dump(device.properties(), f)"
   ]
  },
  {
   "cell_type": "markdown",
   "metadata": {
    "id": "F3mNErX5UlB2"
   },
   "source": [
    "## retrieve jobs"
   ]
  },
  {
   "cell_type": "code",
   "execution_count": 17,
   "metadata": {
    "id": "pH4kUnIzS7er"
   },
   "outputs": [],
   "source": [
    "with open(job_ids_filename, \"rb\") as f:\n",
    "     job_ids = pickle.load(f)"
   ]
  },
  {
   "cell_type": "code",
   "execution_count": 18,
   "metadata": {
    "colab": {
     "base_uri": "https://localhost:8080/"
    },
    "executionInfo": {
     "elapsed": 20548,
     "status": "ok",
     "timestamp": 1610516253534,
     "user": {
      "displayName": "Bo Yang",
      "photoUrl": "",
      "userId": "03206198380065904075"
     },
     "user_tz": -540
    },
    "id": "vejTWsINS7er",
    "outputId": "3698c3ee-7d88-4e69-8c0a-a5d00ca11b58"
   },
   "outputs": [
    {
     "name": "stdout",
     "output_type": "stream",
     "text": [
      "1\n"
     ]
    }
   ],
   "source": [
    "# using job_ids_to_result function\n",
    "results_jobs_list = job_ids_to_result(job_ids, device)\n",
    "print(len(results_jobs_list))"
   ]
  },
  {
   "cell_type": "markdown",
   "metadata": {
    "id": "u_r_J8Qfitn3"
   },
   "source": [
    "## measurement error mitigation (CTMP)"
   ]
  },
  {
   "cell_type": "code",
   "execution_count": 19,
   "metadata": {
    "colab": {
     "base_uri": "https://localhost:8080/"
    },
    "executionInfo": {
     "elapsed": 18198,
     "status": "ok",
     "timestamp": 1610516253535,
     "user": {
      "displayName": "Bo Yang",
      "photoUrl": "",
      "userId": "03206198380065904075"
     },
     "user_tz": -540
    },
    "id": "I3SQNMfN6YM-",
    "outputId": "cc3b6b3b-d836-4c79-b21e-bd69af6acc96"
   },
   "outputs": [
    {
     "name": "stdout",
     "output_type": "stream",
     "text": [
      "length of results_list:  223\n"
     ]
    }
   ],
   "source": [
    "results_list = flatten_results_jobs_list(results_jobs_list)\n",
    "print(\"length of results_list: \", len(results_list))\n",
    "del results_jobs_list"
   ]
  },
  {
   "cell_type": "code",
   "execution_count": 20,
   "metadata": {},
   "outputs": [],
   "source": [
    "def arrange_results_list_for_grouping_star_graph(results_list, nums_divide_list, nums_meas_cal_list, limit=100):\n",
    "    pos = 0\n",
    "    results_graph_states = []\n",
    "    results_meas_cal = []\n",
    "    for i, (nums_divide, nums_meas_cal) in enumerate(zip(nums_divide_list, nums_meas_cal_list)): # graph wise\n",
    "        for num_divide in nums_divide: # term wise\n",
    "            results_graph_states += results_list[pos:pos + num_divide]\n",
    "            pos += num_divide\n",
    "        if i < limit: # start from 2\n",
    "            for num_meas_cal in nums_meas_cal: # term wise\n",
    "                results_meas_cal.append(merge_results(results_list[pos:pos + num_meas_cal]))\n",
    "                pos += num_meas_cal\n",
    "    return results_graph_states, results_meas_cal"
   ]
  },
  {
   "cell_type": "code",
   "execution_count": 21,
   "metadata": {
    "colab": {
     "base_uri": "https://localhost:8080/"
    },
    "executionInfo": {
     "elapsed": 669,
     "status": "ok",
     "timestamp": 1610516263859,
     "user": {
      "displayName": "Bo Yang",
      "photoUrl": "",
      "userId": "03206198380065904075"
     },
     "user_tz": -540
    },
    "id": "AZU5s1fK9qHl",
    "outputId": "a3935ce2-6b82-4414-bfbf-e8289302e3cb"
   },
   "outputs": [
    {
     "name": "stdout",
     "output_type": "stream",
     "text": [
      "length of results_graph_states:  76\n",
      "length of results_meas_cal:  14\n",
      "length of results_metadata_list:  38\n"
     ]
    }
   ],
   "source": [
    "results_graph_states, results_meas_cal = arrange_results_list_for_grouping_star_graph(results_list, nums_divide_list, nums_meas_cal_list, limit=15)\n",
    "print(\"length of results_graph_states: \", len(results_graph_states))\n",
    "print(\"length of results_meas_cal: \", len(results_meas_cal))\n",
    "print(\"length of results_metadata_list: \", len(metadatas_list))\n",
    "del results_list"
   ]
  },
  {
   "cell_type": "code",
   "execution_count": 22,
   "metadata": {
    "id": "NVs1_VzwGJ1g"
   },
   "outputs": [],
   "source": [
    "# meas_mitigator_list = prepare_meas_mitigator_list(results_meas_cal, metadatas_list[:14])\n",
    "# print(\"length of meas_mitigator_list: \", len(meas_mitigator_list))"
   ]
  },
  {
   "cell_type": "code",
   "execution_count": 23,
   "metadata": {
    "colab": {
     "base_uri": "https://localhost:8080/"
    },
    "executionInfo": {
     "elapsed": 106131,
     "status": "ok",
     "timestamp": 1610516376698,
     "user": {
      "displayName": "Bo Yang",
      "photoUrl": "",
      "userId": "03206198380065904075"
     },
     "user_tz": -540
    },
    "id": "b5KQLDyJmqa2",
    "outputId": "3d8fe8f7-bf27-4942-838f-70c64ad10c77"
   },
   "outputs": [
    {
     "name": "stdout",
     "output_type": "stream",
     "text": [
      "length of counts_dict_list:  76\n"
     ]
    }
   ],
   "source": [
    "counts_dict_list = results_list_to_counts_dict_list(results_graph_states)\n",
    "print(\"length of counts_dict_list: \", len(counts_dict_list))"
   ]
  },
  {
   "cell_type": "markdown",
   "metadata": {},
   "source": [
    "### Tensored"
   ]
  },
  {
   "cell_type": "code",
   "execution_count": 24,
   "metadata": {},
   "outputs": [],
   "source": [
    "def arrange_results_list_tensored(results_list, nums_divide_list, nums_meas_cal_list, limit=100):\n",
    "    pos = 0\n",
    "    results_graph_states = []\n",
    "    results_meas_cal = []\n",
    "    for i, (nums_divide, nums_meas_cal) in enumerate(zip(nums_divide_list, nums_meas_cal_list)): # graph wise\n",
    "        for num_divide in nums_divide: # term wise\n",
    "            results_graph_states += results_list[pos:pos + num_divide]\n",
    "            pos += num_divide\n",
    "        if i < limit: # start from 2\n",
    "            for num_meas_cal in nums_meas_cal: # term wise\n",
    "                results_meas_cal.append(merge_results(results_list[pos:pos + 2]))\n",
    "                pos += num_meas_cal\n",
    "    return results_graph_states, results_meas_cal"
   ]
  },
  {
   "cell_type": "code",
   "execution_count": 25,
   "metadata": {},
   "outputs": [
    {
     "name": "stdout",
     "output_type": "stream",
     "text": [
      "1\n",
      "length of results_list:  223\n",
      "length of results_meas_cal:  14\n"
     ]
    }
   ],
   "source": [
    "with open(job_ids_filename, \"rb\") as f:\n",
    "     job_ids = pickle.load(f)\n",
    "results_jobs_list = job_ids_to_result(job_ids, device)\n",
    "print(len(results_jobs_list))\n",
    "results_list = flatten_results_jobs_list(results_jobs_list)\n",
    "print(\"length of results_list: \", len(results_list))\n",
    "del results_jobs_list\n",
    "_, results_meas_cal = arrange_results_list_tensored(results_list, nums_divide_list, nums_meas_cal_list, limit=15)\n",
    "print(\"length of results_meas_cal: \", len(results_meas_cal))\n",
    "del results_list"
   ]
  },
  {
   "cell_type": "code",
   "execution_count": 26,
   "metadata": {},
   "outputs": [],
   "source": [
    "tensored_meas_mitigator_list = []\n",
    "pos = 0\n",
    "for n in range(2,16):\n",
    "    qr = qiskit.QuantumRegister(n)\n",
    "    mit_pattern = [[i] for i in range(n)]\n",
    "    _, state_labels = tensored_meas_cal(mit_pattern = mit_pattern, qr=qr, circlabel='mcal')\n",
    "    tensored_meas_mitigator_list.append( TensoredMeasFitter(results_meas_cal[pos:pos+2], mit_pattern=mit_pattern).filter )\n",
    "    pos += 2\n",
    "del results_meas_cal"
   ]
  },
  {
   "cell_type": "markdown",
   "metadata": {
    "id": "2_jndc_V4sRp"
   },
   "source": [
    "## compute correlation"
   ]
  },
  {
   "cell_type": "code",
   "execution_count": 27,
   "metadata": {
    "colab": {
     "base_uri": "https://localhost:8080/"
    },
    "executionInfo": {
     "elapsed": 104276,
     "status": "ok",
     "timestamp": 1610516376984,
     "user": {
      "displayName": "Bo Yang",
      "photoUrl": "",
      "userId": "03206198380065904075"
     },
     "user_tz": -540
    },
    "id": "M1kitM7wOFC_",
    "outputId": "d6fc24a3-fbb9-4300-e642-dbfef198dbd2"
   },
   "outputs": [
    {
     "name": "stdout",
     "output_type": "stream",
     "text": [
      "graph size: 1\n",
      "skipped\n",
      "\n",
      "graph size: 2\n",
      "total correlation: 2.611599459421409 \n",
      "\n",
      "graph size: 3\n",
      "total correlation: 5.006716520501039 \n",
      "\n",
      "graph size: 4\n",
      "total correlation: 6.98889426991118 \n",
      "\n",
      "graph size: 5\n",
      "total correlation: 7.239903366553084 \n",
      "\n",
      "graph size: 6\n",
      "total correlation: 9.498985236330222 \n",
      "\n",
      "graph size: 7\n",
      "total correlation: 11.859920866092729 \n",
      "\n",
      "graph size: 8\n",
      "total correlation: 9.1872091506801 \n",
      "\n",
      "graph size: 9\n",
      "total correlation: 10.365260096680345 \n",
      "\n",
      "graph size: 10\n",
      "total correlation: 7.209865139031976 \n",
      "\n",
      "graph size: 11\n",
      "total correlation: 10.136002819967517 \n",
      "\n",
      "graph size: 12\n",
      "total correlation: 16.183008760251305 \n",
      "\n",
      "graph size: 13\n",
      "total correlation: 16.9591689380381 \n",
      "\n",
      "graph size: 14\n",
      "total correlation: -4.371080004795748 \n",
      "\n",
      "graph size: 15\n",
      "total correlation: 14.152148366237988 \n",
      "\n",
      "graph size: 16\n",
      "total correlation: 16.552099165079635 \n",
      "\n",
      "graph size: 17\n",
      "total correlation: 14.725636825003054 \n",
      "\n",
      "graph size: 18\n",
      "total correlation: 17.460841864338907 \n",
      "\n",
      "graph size: 19\n",
      "total correlation: 16.256205360647566 \n",
      "\n",
      "graph size: 20\n",
      "total correlation: 19.037330908722588 \n",
      "\n",
      "graph size: 21\n",
      "total correlation: -1.718393774397191 \n",
      "\n",
      "graph size: 22\n",
      "total correlation: 16.103597354161018 \n",
      "\n",
      "graph size: 23\n",
      "total correlation: 20.251980154920965 \n",
      "\n",
      "graph size: 24\n",
      "total correlation: 20.760213153898796 \n",
      "\n",
      "graph size: 25\n",
      "total correlation: 21.38307479123304 \n",
      "\n",
      "graph size: 26\n",
      "total correlation: 22.961635437514726 \n",
      "\n",
      "graph size: 27\n",
      "total correlation: 24.107921821078858 \n",
      "\n",
      "graph size: 28\n",
      "total correlation: 22.217239822164043 \n",
      "\n",
      "graph size: 29\n",
      "total correlation: 26.546887788999644 \n",
      "\n",
      "graph size: 30\n",
      "total correlation: -1.101056408790967 \n",
      "\n",
      "graph size: 31\n",
      "total correlation: 25.775216081991864 \n",
      "\n",
      "graph size: 32\n",
      "total correlation: 26.44020029125226 \n",
      "\n",
      "graph size: 33\n",
      "total correlation: 0.1878252387526767 \n",
      "\n",
      "graph size: 34\n",
      "total correlation: 27.41178158141776 \n",
      "\n",
      "graph size: 35\n",
      "total correlation: 29.292796104808538 \n",
      "\n",
      "graph size: 36\n",
      "total correlation: 28.65267111832423 \n",
      "\n",
      "graph size: 37\n",
      "total correlation: 28.335716027929088 \n",
      "\n",
      "graph size: 38\n",
      "total correlation: 28.015653534686937 \n",
      "\n",
      "graph size: 39\n",
      "total correlation: 31.856748720575773 \n",
      "\n"
     ]
    }
   ],
   "source": [
    "# without CTMP mitigation\n",
    "corr_list_real, stddev_list_real, Es_list_real, Ds_list_real = analyze_circuits_for_star_graph(adj_lists, \n",
    "                                                                                            counts_dict_list,\n",
    "                                                                                            None)"
   ]
  },
  {
   "cell_type": "code",
   "execution_count": 28,
   "metadata": {},
   "outputs": [],
   "source": [
    "def analyze_circuits_tensored(adj_lists, counts_dict_list, tensored_meas_mitigator_list=None, limit=100, method='fast', threshold=0.1):\n",
    "    \"\"\"\n",
    "    Input\n",
    "        adj_lists         : list of adjacency list\n",
    "        counts_list       : list of int list (list of counts)\n",
    "        meas_mitigator : measurement mitigator\n",
    "    Output\n",
    "        expval_all_list : list of float (correlation of each graph)\n",
    "        stddev_all_list : list of float (standard deviation of each graph)\n",
    "        Es_all_list   : list of list (term-wise correlation of each graph)\n",
    "        Ds_all_list   : list of list (term-wise stddev of each graph)\n",
    "    \"\"\"\n",
    "    expval_all_list, stddev_all_list, Es_all_list, Ds_all_list = [], [], [], []\n",
    "    # begin = 0\n",
    "    for adj_list in adj_lists:\n",
    "        t1 = time.time()\n",
    "        n = len(adj_list)\n",
    "        if n > limit:\n",
    "            break\n",
    "        print(\"graph size:\", n)\n",
    "        if n <= 1:\n",
    "            print(\"skipped\\n\")\n",
    "            expval_all_list.append(0)\n",
    "            stddev_all_list.append(0)\n",
    "            Es_all_list.append([])\n",
    "            Ds_all_list.append([])\n",
    "            continue\n",
    "\n",
    "        # for the first term\n",
    "        counts = tensored_meas_mitigator_list[n - 2].apply( counts_dict_list[2 * (n - 2)], method=method, threshold=threshold ) # n = 2 -> 0, n = 10 -> 16\n",
    "        expval1, stddev1 = mit.expectation_value(counts, \n",
    "                                                 qubits=range(n),\n",
    "                                                 clbits=range(n),\n",
    "                                                 meas_mitigator=None)\n",
    "        Es_1, Ds_1 = [expval1], [stddev1]\n",
    "        # begin += 1 # update index of counts_dict_list\n",
    "\n",
    "\n",
    "        # for the second term\n",
    "        Es_2, Ds_2 = [], []\n",
    "        sum_expval2, sum_stddev2 = 0, 0\n",
    "        for pos in range(1, n): # recover the two qubit expectation values\n",
    "            counts = tensored_meas_mitigator_list[n - 2].apply( counts_dict_list[2 * (n - 2) + 1], method=method, threshold=threshold ) # n = 2 -> 1, n = 10 -> 17\n",
    "            expval2, stddev2 = mit.expectation_value(extract_two_qubit_counts(counts, 0, pos), \n",
    "                                                     qubits=[0,pos],\n",
    "                                                     clbits=[0,pos],\n",
    "                                                     meas_mitigator=None)\n",
    "            Es_2.append(expval2)\n",
    "            Ds_2.append(stddev2)\n",
    "        sum_stddev2 = compute_stddev_of_grouping(Ds_2)\n",
    "        # begin += 1 # update index of counts_dict_list\n",
    "\n",
    "        sum_expval = np.sqrt(2) * ((n - 1) * sum(Es_1) + sum(Es_2))\n",
    "        sum_stddev = np.sqrt(2 * ((stddev1 * (n - 1)) ** 2 +  sum_stddev2 ** 2) )\n",
    "        Es = [Es_1, Es_2]\n",
    "        Ds = [Ds_1, Ds_2]\n",
    "\n",
    "        expval_all_list.append(sum_expval)\n",
    "        stddev_all_list.append(sum_stddev)\n",
    "        Es_all_list.append(Es)\n",
    "        Ds_all_list.append(Ds)\n",
    "        t2 = time.time()\n",
    "        print(\"time:\", t2 - t1)\n",
    "        print(\"total correlation:\", sum_expval, \"\\n\")\n",
    "    return expval_all_list, stddev_all_list, Es_all_list, Ds_all_list"
   ]
  },
  {
   "cell_type": "code",
   "execution_count": 29,
   "metadata": {
    "colab": {
     "base_uri": "https://localhost:8080/"
    },
    "id": "MhLzFYNZS7et",
    "outputId": "a4199864-2822-4f68-d081-260cb804ed68",
    "scrolled": false
   },
   "outputs": [
    {
     "name": "stdout",
     "output_type": "stream",
     "text": [
      "graph size: 1\n",
      "skipped\n",
      "\n",
      "graph size: 2\n",
      "{'00': 4204, '01': 149, '10': 135, '11': 3704}\n",
      "{'00': 4236.63472940583, '11': 3794.650750599218}\n",
      "{'00': 4271.750145385088, '11': 3902.211872792729}\n",
      "\n",
      "[0.35093485 0.64906515] 2\n",
      "((0, 8192), (0, 8192)) 2\n",
      "[4271.75014539 3902.21187279] 2\n",
      "{'00': 4271.750145385088, '11': 3902.211872792729} 2\n",
      "{'00': 4118, '01': 203, '10': 141, '11': 3730}\n",
      "{'00': 4148.552983474203, '11': 3821.2434086035073}\n",
      "{'00': 4182.938332467252, '11': 3929.5583119286803}\n",
      "\n",
      "[0.71451719 0.28548281] 2\n",
      "((0, 8192), (0, 8192)) 2\n",
      "[4182.93833247 3929.55831193] 2\n",
      "{'00': 4182.938332467252, '11': 3929.5583119286803} 2\n",
      "time: 0.008838891983032227\n",
      "total correlation: 2.8284271247461903 \n",
      "\n",
      "graph size: 3\n",
      "{'000': 2137, '001': 129, '010': 166, '011': 1733, '100': 169, '101': 1945, '110': 1814, '111': 99}\n",
      "{'000': 2151.947948831055, '011': 1773.2059991177766, '101': 1990.270590459386, '110': 1826.940765013549}\n",
      "{'000': 2176.156671577612, '011': 1847.6405271085143, '101': 2012.6604948904994, '110': 1903.630937265661}\n",
      "{'000': 2204.135427078578, '011': 1871.395564251207, '101': 2104.5942699187704, '110': 1990.5844889291068}\n",
      "\n",
      "[0.03097931 0.16218694 0.26004494 0.54678881] 4\n",
      "((0, 8192), (0, 8192), (0, 8192), (0, 8192)) 4\n",
      "[2204.13542708 1871.39556425 2104.59426992 1990.58448893] 4\n",
      "{'000': 2204.135427078578, '011': 1871.395564251207, '101': 2104.5942699187704, '110': 1990.5844889291068} 4\n",
      "{'000': 3864, '001': 37, '010': 140, '011': 103, '100': 68, '101': 155, '110': 83, '111': 3742}\n",
      "{'000': 3895.739807171216, '111': 3831.1410926964522}\n",
      "{'000': 3939.565627835588, '111': 3991.962327816714}\n",
      "{'000': 3990.2164586883655, '111': 4174.306129714014}\n",
      "\n",
      "[0.70472877 0.29527123] 2\n",
      "((0, 8192), (0, 8192)) 2\n",
      "[3990.21645869 4174.30612971] 2\n",
      "{'000': 3990.2164586883655, '111': 4174.306129714014} 2\n",
      "{'000': 3864, '001': 37, '010': 140, '011': 103, '100': 68, '101': 155, '110': 83, '111': 3742}\n",
      "{'000': 3895.739807171216, '111': 3831.1410926964522}\n",
      "{'000': 3939.565627835588, '111': 3991.962327816714}\n",
      "{'000': 3990.2164586883655, '111': 4174.306129714014}\n",
      "\n",
      "[0.75347565 0.24652435] 2\n",
      "((0, 8192), (0, 8192)) 2\n",
      "[3990.21645869 4174.30612971] 2\n",
      "{'000': 3990.2164586883655, '111': 4174.306129714014} 2\n",
      "time: 0.007258892059326172\n",
      "total correlation: 5.656854249492381 \n",
      "\n",
      "graph size: 4\n",
      "{'0000': 1223, '0001': 153, '0010': 127, '0011': 977, '0100': 132, '0101': 1115, '0110': 1008, '0111': 125, '1000': 83, '1001': 718, '1010': 838, '1011': 47, '1100': 731, '1101': 69, '1110': 59, '1111': 787}\n",
      "{'0000': 1231.2998646645613, '0011': 1018.0710188825158, '0101': 1162.030676032738, '0110': 1014.8888960494941, '1010': 846.2104143842237, '1111': 820.6140362183411}\n",
      "{'0000': 1248.4178388580872, '0011': 1064.4157972396633, '0101': 1178.1856450173507, '0110': 1061.088817343955, '1010': 884.7317290771748, '1111': 857.9701488273103}\n",
      "{'0000': 1259.6009913383957, '0011': 1073.9506851533672, '0101': 1207.172044308088, '0110': 1087.1943332892076, '1010': 892.6570322268694, '1111': 879.0784227386561}\n",
      "{'0000': 1273.8639891171752, '0011': 1086.1114855514243, '0101': 1220.841366819716, '0110': 1099.5050971481094, '1010': 930.8489466855242, '1111': 916.6893827284398}\n",
      "\n",
      "[0.19600543 0.00538065 0.02923469 0.2968234  0.32906497 0.14349087] 6\n",
      "((0, 8192), (0, 8192), (0, 8192), (0, 8192), (0, 8192), (0, 8192)) 6\n",
      "[1273.86398912 1086.11148555 1220.84136682 1099.50509715  930.84894669\n",
      "  916.68938273] 6\n",
      "{'0000': 1273.8639891171752, '0011': 1086.1114855514243, '0101': 1220.841366819716, '0110': 1099.5050971481094, '1010': 930.8489466855242, '1111': 916.6893827284398} 6\n",
      "{'0000': 3718, '0001': 74, '0010': 38, '0011': 8, '0100': 52, '0101': 75, '0110': 5, '0111': 279, '1000': 103, '1001': 2, '1010': 98, '1011': 102, '1100': 2, '1101': 73, '1110': 84, '1111': 3479}\n",
      "{'0000': 3760.296964619449, '1111': 3629.7587162466966}\n",
      "{'0000': 3812.5739673606827, '1111': 3794.993125314764}\n",
      "{'0000': 3846.7264719888194, '1111': 3888.3597237801164}\n",
      "{'0000': 3890.284591983033, '1111': 4054.7213795939097}\n",
      "\n",
      "[0.57944888 0.42055112] 2\n",
      "((0, 8192), (0, 8192)) 2\n",
      "[3890.28459198 4054.72137959] 2\n",
      "{'0000': 3890.284591983033, '1111': 4054.7213795939097} 2\n",
      "{'0000': 3718, '0001': 74, '0010': 38, '0011': 8, '0100': 52, '0101': 75, '0110': 5, '0111': 279, '1000': 103, '1001': 2, '1010': 98, '1011': 102, '1100': 2, '1101': 73, '1110': 84, '1111': 3479}\n",
      "{'0000': 3760.296964619449, '1111': 3629.7587162466966}\n",
      "{'0000': 3812.5739673606827, '1111': 3794.993125314764}\n",
      "{'0000': 3846.7264719888194, '1111': 3888.3597237801164}\n",
      "{'0000': 3890.284591983033, '1111': 4054.7213795939097}\n",
      "\n",
      "[0.36482617 0.63517383] 2\n",
      "((0, 8192), (0, 8192)) 2\n",
      "[3890.28459198 4054.72137959] 2\n",
      "{'0000': 3890.284591983033, '1111': 4054.7213795939097} 2\n",
      "{'0000': 3718, '0001': 74, '0010': 38, '0011': 8, '0100': 52, '0101': 75, '0110': 5, '0111': 279, '1000': 103, '1001': 2, '1010': 98, '1011': 102, '1100': 2, '1101': 73, '1110': 84, '1111': 3479}\n",
      "{'0000': 3760.296964619449, '1111': 3629.7587162466966}\n",
      "{'0000': 3812.5739673606827, '1111': 3794.993125314764}\n",
      "{'0000': 3846.7264719888194, '1111': 3888.3597237801164}\n",
      "{'0000': 3890.284591983033, '1111': 4054.7213795939097}\n",
      "\n",
      "[0.36149996 0.63850004] 2\n",
      "((0, 8192), (0, 8192)) 2\n",
      "[3890.28459198 4054.72137959] 2\n",
      "{'0000': 3890.284591983033, '1111': 4054.7213795939097} 2\n",
      "time: 0.013741731643676758\n",
      "total correlation: 8.485281374238571 \n",
      "\n",
      "graph size: 5\n",
      "{'00000': 476, '00001': 208, '10000': 170, '10001': 466, '10010': 380, '10011': 132, '10100': 435, '10101': 169, '10110': 141, '10111': 373, '11000': 297, '11001': 129, '11010': 114, '11011': 295, '11100': 120, '11101': 293, '11110': 292, '11111': 112, '00010': 168, '00011': 425, '00100': 181, '00101': 454, '00110': 420, '00111': 192, '01000': 141, '01001': 298, '01010': 273, '01011': 139, '01100': 327, '01101': 174, '01110': 123, '01111': 275}\n",
      "{}\n",
      "{}\n",
      "{}\n",
      "{}\n",
      "{}\n",
      "\n",
      "[] 0\n",
      "() 0\n",
      "[] 0\n",
      "{} 0\n"
     ]
    },
    {
     "ename": "ValueError",
     "evalue": "unexpected array size: new_size=1, got array with arr_size=0\n",
     "output_type": "error",
     "traceback": [
      "\u001b[0;31m---------------------------------------------------------------------------\u001b[0m",
      "\u001b[0;31mValueError\u001b[0m                                Traceback (most recent call last)",
      "\u001b[0;32m<ipython-input-29-b24454eb0d96>\u001b[0m in \u001b[0;36m<module>\u001b[0;34m\u001b[0m\n\u001b[1;32m      5\u001b[0m                                                                                                                             \u001b[0mlimit\u001b[0m\u001b[0;34m=\u001b[0m\u001b[0;36m11\u001b[0m\u001b[0;34m,\u001b[0m\u001b[0;34m\u001b[0m\u001b[0;34m\u001b[0m\u001b[0m\n\u001b[1;32m      6\u001b[0m                                                                                                                             \u001b[0mmethod\u001b[0m\u001b[0;34m=\u001b[0m\u001b[0;34m'fast'\u001b[0m\u001b[0;34m,\u001b[0m\u001b[0;34m\u001b[0m\u001b[0;34m\u001b[0m\u001b[0m\n\u001b[0;32m----> 7\u001b[0;31m                                                                                                                             threshold=0.1)\n\u001b[0m",
      "\u001b[0;32m<ipython-input-28-b2c6110b7e0a>\u001b[0m in \u001b[0;36manalyze_circuits_tensored\u001b[0;34m(adj_lists, counts_dict_list, tensored_meas_mitigator_list, limit, method, threshold)\u001b[0m\n\u001b[1;32m     28\u001b[0m \u001b[0;34m\u001b[0m\u001b[0m\n\u001b[1;32m     29\u001b[0m         \u001b[0;31m# for the first term\u001b[0m\u001b[0;34m\u001b[0m\u001b[0;34m\u001b[0m\u001b[0;34m\u001b[0m\u001b[0m\n\u001b[0;32m---> 30\u001b[0;31m         \u001b[0mcounts\u001b[0m \u001b[0;34m=\u001b[0m \u001b[0mtensored_meas_mitigator_list\u001b[0m\u001b[0;34m[\u001b[0m\u001b[0mn\u001b[0m \u001b[0;34m-\u001b[0m \u001b[0;36m2\u001b[0m\u001b[0;34m]\u001b[0m\u001b[0;34m.\u001b[0m\u001b[0mapply\u001b[0m\u001b[0;34m(\u001b[0m \u001b[0mcounts_dict_list\u001b[0m\u001b[0;34m[\u001b[0m\u001b[0;36m2\u001b[0m \u001b[0;34m*\u001b[0m \u001b[0;34m(\u001b[0m\u001b[0mn\u001b[0m \u001b[0;34m-\u001b[0m \u001b[0;36m2\u001b[0m\u001b[0;34m)\u001b[0m\u001b[0;34m]\u001b[0m\u001b[0;34m,\u001b[0m \u001b[0mmethod\u001b[0m\u001b[0;34m=\u001b[0m\u001b[0mmethod\u001b[0m\u001b[0;34m,\u001b[0m \u001b[0mthreshold\u001b[0m\u001b[0;34m=\u001b[0m\u001b[0mthreshold\u001b[0m \u001b[0;34m)\u001b[0m \u001b[0;31m# n = 2 -> 0, n = 10 -> 16\u001b[0m\u001b[0;34m\u001b[0m\u001b[0;34m\u001b[0m\u001b[0m\n\u001b[0m\u001b[1;32m     31\u001b[0m         expval1, stddev1 = mit.expectation_value(counts, \n\u001b[1;32m     32\u001b[0m                                                  \u001b[0mqubits\u001b[0m\u001b[0;34m=\u001b[0m\u001b[0mrange\u001b[0m\u001b[0;34m(\u001b[0m\u001b[0mn\u001b[0m\u001b[0;34m)\u001b[0m\u001b[0;34m,\u001b[0m\u001b[0;34m\u001b[0m\u001b[0;34m\u001b[0m\u001b[0m\n",
      "\u001b[0;32m~/Documents/oss/qiskit-ignis/qiskit/ignis/mitigation/measurement/filters.py\u001b[0m in \u001b[0;36mapply\u001b[0;34m(self, raw_data, method, meas_layout, threshold)\u001b[0m\n\u001b[1;32m    341\u001b[0m                                                        \u001b[0mmeas_layout\u001b[0m\u001b[0;34m=\u001b[0m\u001b[0mmeas_layout\u001b[0m\u001b[0;34m,\u001b[0m\u001b[0;34m\u001b[0m\u001b[0;34m\u001b[0m\u001b[0m\n\u001b[1;32m    342\u001b[0m                                                        \u001b[0mqubits_to_clbits\u001b[0m\u001b[0;34m=\u001b[0m\u001b[0mqubits_to_clbits\u001b[0m\u001b[0;34m,\u001b[0m\u001b[0;34m\u001b[0m\u001b[0;34m\u001b[0m\u001b[0m\n\u001b[0;32m--> 343\u001b[0;31m                                                        threshold=threshold)\n\u001b[0m\u001b[1;32m    344\u001b[0m             \u001b[0;32mreturn\u001b[0m \u001b[0mnew_counts\u001b[0m\u001b[0;34m\u001b[0m\u001b[0;34m\u001b[0m\u001b[0m\n\u001b[1;32m    345\u001b[0m \u001b[0;34m\u001b[0m\u001b[0m\n",
      "\u001b[0;32m~/Documents/oss/qiskit-ignis/qiskit/ignis/mitigation/measurement/filters.py\u001b[0m in \u001b[0;36mfast_tensored_mitigation\u001b[0;34m(self, counts, meas_layout, qubits_to_clbits, threshold)\u001b[0m\n\u001b[1;32m    507\u001b[0m         \u001b[0mprint\u001b[0m\u001b[0;34m(\u001b[0m\u001b[0mnumpy_counts\u001b[0m\u001b[0;34m,\u001b[0m \u001b[0mlen\u001b[0m\u001b[0;34m(\u001b[0m\u001b[0mnumpy_counts\u001b[0m\u001b[0;34m)\u001b[0m\u001b[0;34m)\u001b[0m\u001b[0;34m\u001b[0m\u001b[0;34m\u001b[0m\u001b[0m\n\u001b[1;32m    508\u001b[0m         \u001b[0mprint\u001b[0m\u001b[0;34m(\u001b[0m\u001b[0mcounts\u001b[0m\u001b[0;34m,\u001b[0m \u001b[0mlen\u001b[0m\u001b[0;34m(\u001b[0m\u001b[0mcounts\u001b[0m\u001b[0;34m)\u001b[0m\u001b[0;34m)\u001b[0m\u001b[0;34m\u001b[0m\u001b[0;34m\u001b[0m\u001b[0m\n\u001b[0;32m--> 509\u001b[0;31m         \u001b[0mres\u001b[0m \u001b[0;34m=\u001b[0m \u001b[0mminimize\u001b[0m\u001b[0;34m(\u001b[0m\u001b[0mfun\u001b[0m\u001b[0;34m,\u001b[0m \u001b[0mx0\u001b[0m\u001b[0;34m,\u001b[0m \u001b[0mmethod\u001b[0m\u001b[0;34m=\u001b[0m\u001b[0;34m'SLSQP'\u001b[0m\u001b[0;34m,\u001b[0m \u001b[0mconstraints\u001b[0m\u001b[0;34m=\u001b[0m\u001b[0mcons\u001b[0m\u001b[0;34m,\u001b[0m \u001b[0mbounds\u001b[0m\u001b[0;34m=\u001b[0m\u001b[0mbnds\u001b[0m\u001b[0;34m,\u001b[0m \u001b[0mtol\u001b[0m\u001b[0;34m=\u001b[0m\u001b[0;36m1e-6\u001b[0m\u001b[0;34m)\u001b[0m\u001b[0;34m\u001b[0m\u001b[0;34m\u001b[0m\u001b[0m\n\u001b[0m\u001b[1;32m    510\u001b[0m \u001b[0;34m\u001b[0m\u001b[0m\n\u001b[1;32m    511\u001b[0m         \u001b[0;32mfor\u001b[0m \u001b[0mi\u001b[0m\u001b[0;34m,\u001b[0m \u001b[0mkey\u001b[0m \u001b[0;32min\u001b[0m \u001b[0menumerate\u001b[0m\u001b[0;34m(\u001b[0m\u001b[0mcounts\u001b[0m\u001b[0;34m)\u001b[0m\u001b[0;34m:\u001b[0m\u001b[0;34m\u001b[0m\u001b[0;34m\u001b[0m\u001b[0m\n",
      "\u001b[0;32m~/.pyenv/versions/anaconda3-5.1.0/lib/python3.6/site-packages/scipy/optimize/_minimize.py\u001b[0m in \u001b[0;36mminimize\u001b[0;34m(fun, x0, args, method, jac, hess, hessp, bounds, constraints, tol, callback, options)\u001b[0m\n\u001b[1;32m    616\u001b[0m     \u001b[0;32melif\u001b[0m \u001b[0mmeth\u001b[0m \u001b[0;34m==\u001b[0m \u001b[0;34m'slsqp'\u001b[0m\u001b[0;34m:\u001b[0m\u001b[0;34m\u001b[0m\u001b[0;34m\u001b[0m\u001b[0m\n\u001b[1;32m    617\u001b[0m         return _minimize_slsqp(fun, x0, args, jac, bounds,\n\u001b[0;32m--> 618\u001b[0;31m                                constraints, callback=callback, **options)\n\u001b[0m\u001b[1;32m    619\u001b[0m     \u001b[0;32melif\u001b[0m \u001b[0mmeth\u001b[0m \u001b[0;34m==\u001b[0m \u001b[0;34m'trust-constr'\u001b[0m\u001b[0;34m:\u001b[0m\u001b[0;34m\u001b[0m\u001b[0;34m\u001b[0m\u001b[0m\n\u001b[1;32m    620\u001b[0m         return _minimize_trustregion_constr(fun, x0, args, jac, hess, hessp,\n",
      "\u001b[0;32m~/.pyenv/versions/anaconda3-5.1.0/lib/python3.6/site-packages/scipy/optimize/slsqp.py\u001b[0m in \u001b[0;36m_minimize_slsqp\u001b[0;34m(func, x0, args, jac, bounds, constraints, maxiter, ftol, iprint, disp, eps, callback, **unknown_options)\u001b[0m\n\u001b[1;32m    447\u001b[0m               \u001b[0malpha\u001b[0m\u001b[0;34m,\u001b[0m \u001b[0mf0\u001b[0m\u001b[0;34m,\u001b[0m \u001b[0mgs\u001b[0m\u001b[0;34m,\u001b[0m \u001b[0mh1\u001b[0m\u001b[0;34m,\u001b[0m \u001b[0mh2\u001b[0m\u001b[0;34m,\u001b[0m \u001b[0mh3\u001b[0m\u001b[0;34m,\u001b[0m \u001b[0mh4\u001b[0m\u001b[0;34m,\u001b[0m \u001b[0mt\u001b[0m\u001b[0;34m,\u001b[0m \u001b[0mt0\u001b[0m\u001b[0;34m,\u001b[0m \u001b[0mtol\u001b[0m\u001b[0;34m,\u001b[0m\u001b[0;34m\u001b[0m\u001b[0;34m\u001b[0m\u001b[0m\n\u001b[1;32m    448\u001b[0m               \u001b[0miexact\u001b[0m\u001b[0;34m,\u001b[0m \u001b[0mincons\u001b[0m\u001b[0;34m,\u001b[0m \u001b[0mireset\u001b[0m\u001b[0;34m,\u001b[0m \u001b[0mitermx\u001b[0m\u001b[0;34m,\u001b[0m \u001b[0mline\u001b[0m\u001b[0;34m,\u001b[0m\u001b[0;34m\u001b[0m\u001b[0;34m\u001b[0m\u001b[0m\n\u001b[0;32m--> 449\u001b[0;31m               n1, n2, n3)\n\u001b[0m\u001b[1;32m    450\u001b[0m \u001b[0;34m\u001b[0m\u001b[0m\n\u001b[1;32m    451\u001b[0m         \u001b[0;31m# call callback if major iteration has incremented\u001b[0m\u001b[0;34m\u001b[0m\u001b[0;34m\u001b[0m\u001b[0;34m\u001b[0m\u001b[0m\n",
      "\u001b[0;31mValueError\u001b[0m: unexpected array size: new_size=1, got array with arr_size=0\n"
     ]
    }
   ],
   "source": [
    "# with tensored mitigation\n",
    "tensored_corr_list_real, tensored_stddev_list_real, tensored_Es_list_real, tensored_Ds_list_real = analyze_circuits_tensored(adj_lists, \n",
    "                                                                                                                            counts_dict_list,\n",
    "                                                                                                                            tensored_meas_mitigator_list,\n",
    "                                                                                                                            limit=11,\n",
    "                                                                                                                            method='fast',\n",
    "                                                                                                                            threshold=0.1)"
   ]
  },
  {
   "cell_type": "code",
   "execution_count": null,
   "metadata": {
    "id": "AIsrZM49S7eu"
   },
   "outputs": [],
   "source": [
    "# theoretical bounds\n",
    "c_bounds = [2 * i for i in range(max_size)]\n",
    "q_bounds = [2 * np.sqrt(2) * i for i in range(max_size)]"
   ]
  },
  {
   "cell_type": "markdown",
   "metadata": {
    "id": "suNXUgRhbt_M"
   },
   "source": [
    "## Plot correlations"
   ]
  },
  {
   "cell_type": "code",
   "execution_count": null,
   "metadata": {
    "colab": {
     "base_uri": "https://localhost:8080/",
     "height": 294
    },
    "executionInfo": {
     "elapsed": 1019,
     "status": "ok",
     "timestamp": 1610516035823,
     "user": {
      "displayName": "Bo Yang",
      "photoUrl": "",
      "userId": "03206198380065904075"
     },
     "user_tz": -540
    },
    "id": "uXhSZLMNS7eu",
    "outputId": "d0c6ac94-d1f7-4f57-bfd2-14f1f20ee045"
   },
   "outputs": [],
   "source": [
    "plt.clf()\n",
    "plt.plot(list(range(1, max_size + 1)), c_bounds, label=\"Classical bounds\", marker=\"o\", markersize=3)\n",
    "plt.plot(list(range(1, max_size + 1)), q_bounds, label=\"Quantum bounds\", marker=\"x\", markersize=3)\n",
    "plt.errorbar(list(range(1, max_size + 1)), corr_list_real, label=\"Actual correlations\", fmt=\"v\", yerr=stddev_list_real, capsize=3)\n",
    "plt.errorbar(list(range(1, 11 + 1)), tensored_corr_list_real, label=\"Mitigated correlations\", fmt=\"*\", yerr=tensored_stddev_list_real, capsize=3)\n",
    "plt.legend(bbox_to_anchor=(1.05, 1), loc='upper left', borderaxespad=0)\n",
    "plt.xlabel(\"graph size\")\n",
    "plt.ylabel(\"correlation\")\n",
    "plt.xticks(list(range(max_size + 2)))\n",
    "plt.title(\"correlation of star graphs (ibmq_manhattan)\")\n",
    "plt.show()"
   ]
  },
  {
   "cell_type": "code",
   "execution_count": null,
   "metadata": {},
   "outputs": [],
   "source": [
    "max_size = 39\n",
    "plt.clf()\n",
    "plt.plot(list(range(1, max_size + 1)), c_bounds, label=\"Classical bounds\") # , marker=\"o\", markersize=3)\n",
    "plt.plot(list(range(1, max_size + 1)), q_bounds, label=\"Quantum bounds\") # , marker=\"x\", markersize=3)\n",
    "plt.errorbar(list(range(1, max_size + 1)), corr_list_real, label=\"Actual correlations\", fmt=\"o\", yerr=stddev_list_real, capsize=3)\n",
    "plt.errorbar(list(range(1, 11 + 1)), tensored_corr_list_real, label=\"Mitigated correlations\", fmt=\"*\", yerr=tensored_stddev_list_real, capsize=3)\n",
    "plt.legend(bbox_to_anchor=(1.05, 1), loc='upper left', borderaxespad=0)\n",
    "plt.xlabel(\"graph size\")\n",
    "plt.ylabel(\"correlation\")\n",
    "plt.xticks(list(range(max_size + 2))[::2])\n",
    "plt.title(\"correlation of star graphs (ibmq_sydney)\")\n",
    "plt.show()"
   ]
  },
  {
   "cell_type": "code",
   "execution_count": null,
   "metadata": {
    "id": "E6ZP3z57S7eu",
    "scrolled": true
   },
   "outputs": [],
   "source": [
    "each_corr_list = [[0]] + [E_1 + Es_2 for E_1, Es_2 in Es_list_real[1:]]\n",
    "tp_each_corr_list = []\n",
    "for i in range(len(each_corr_list)):\n",
    "    tp_each_corr_list.append([each_corr_list[j][i] for j in range(i, len(each_corr_list))])\n",
    "# pprint.pprint(tp_each_corr_list)"
   ]
  },
  {
   "cell_type": "code",
   "execution_count": null,
   "metadata": {
    "id": "hURa_Ys5ZAVX"
   },
   "outputs": [],
   "source": [
    "each_stddev_list = [[0]] + [D_1 + Ds_2 for D_1, Ds_2 in Ds_list_real[1:]]\n",
    "tp_each_stddev_list = []\n",
    "for i in range(len(each_stddev_list)):\n",
    "    tp_each_stddev_list.append([each_stddev_list[j][i] for j in range(i, len(each_stddev_list))])\n",
    "# pprint.pprint(tp_each_corr_list)"
   ]
  },
  {
   "cell_type": "code",
   "execution_count": null,
   "metadata": {
    "colab": {
     "base_uri": "https://localhost:8080/",
     "height": 294
    },
    "executionInfo": {
     "elapsed": 1121,
     "status": "ok",
     "timestamp": 1610360637149,
     "user": {
      "displayName": "Bo Yang",
      "photoUrl": "",
      "userId": "03206198380065904075"
     },
     "user_tz": -540
    },
    "id": "dNLAmHZUS7eu",
    "outputId": "84c2ba28-27cf-4a86-f564-9ec86655e72c"
   },
   "outputs": [],
   "source": [
    "max_size = 39\n",
    "plt.clf()\n",
    "for i, (each_corr, each_stddev) in enumerate(zip(tp_each_corr_list, tp_each_stddev_list)):\n",
    "    if i == 0:\n",
    "        plt.plot(list(range(2, max_size + 1)), each_corr[1:], color=[min(1, 2*i/max_size), 0, min(1, 2*(1-i/max_size))])\n",
    "        plt.errorbar(list(range(2, max_size + 1)), each_corr[1:], label=str(i), color=[min(1, 2*i/max_size), 0, min(1, 2*(1-i/max_size))], fmt=\"x\", yerr=each_stddev[1:], capsize=3)\n",
    "    else:\n",
    "        plt.plot(list(range(i+1, max_size + 1)), each_corr, color=[min(1, 2*i/max_size), 0, min(1, 2*(1-i/max_size))])\n",
    "        plt.errorbar(list(range(i+1, max_size + 1)), each_corr, label=str(i), color=[min(1, 2*i/max_size), 0, min(1, 2*(1-i/max_size))], fmt=\"v\", yerr=each_stddev, capsize=3)\n",
    "#  plt.plot(list(range(1, max_size + 1)), damped_vibration, label=\"damped vibration\", color=[0, 0, 1])\n",
    "plt.legend(bbox_to_anchor=(1.05, 1), loc='upper left', borderaxespad=0)\n",
    "plt.xlabel(\"graph size\")\n",
    "plt.ylabel(\"correlation\")\n",
    "plt.xticks(list(range(max_size + 2)))\n",
    "plt.ylim([-1,1])\n",
    "plt.title(\"correlation of each term (ibmq_manhattan)\")\n",
    "plt.show()"
   ]
  },
  {
   "cell_type": "code",
   "execution_count": null,
   "metadata": {
    "id": "ADOKuOVES7ev"
   },
   "outputs": [],
   "source": [
    "mitigated_each_corr_list = [[0]] + [E_1 + Es_2 for E_1, Es_2 in tensored_Es_list_real[1:]]\n",
    "mitigated_tp_each_corr_list = []\n",
    "for i in range(len(mitigated_each_corr_list)):\n",
    "    mitigated_tp_each_corr_list.append([mitigated_each_corr_list[j][i] for j in range(i, len(mitigated_each_corr_list))])\n",
    "# pprint.pprint(tp_each_corr_list)"
   ]
  },
  {
   "cell_type": "code",
   "execution_count": null,
   "metadata": {
    "id": "14Ug4Xzx3gPK"
   },
   "outputs": [],
   "source": [
    "mitigated_each_stddev_list = [[0]] + [D_1 + Ds_2 for D_1, Ds_2 in tensored_Ds_list_real[1:]]\n",
    "mitigated_tp_each_stddev_list = []\n",
    "for i in range(len(mitigated_each_stddev_list)):\n",
    "    mitigated_tp_each_stddev_list.append([mitigated_each_stddev_list[j][i] for j in range(i, len(mitigated_each_stddev_list))])\n",
    "# pprint.pprint(tp_each_corr_list)"
   ]
  },
  {
   "cell_type": "code",
   "execution_count": null,
   "metadata": {
    "colab": {
     "base_uri": "https://localhost:8080/",
     "height": 294
    },
    "executionInfo": {
     "elapsed": 816,
     "status": "ok",
     "timestamp": 1610360640850,
     "user": {
      "displayName": "Bo Yang",
      "photoUrl": "",
      "userId": "03206198380065904075"
     },
     "user_tz": -540
    },
    "id": "dyPyB6L4a6Cw",
    "outputId": "14dae8a1-fa51-4e85-963a-b8643c913e89"
   },
   "outputs": [],
   "source": [
    "max_size = 11\n",
    "plt.clf()\n",
    "for i, (each_corr, each_stddev) in enumerate(zip(mitigated_tp_each_corr_list, mitigated_tp_each_stddev_list)):\n",
    "    if i == 0:\n",
    "        plt.plot(list(range(2, max_size + 1)), each_corr[1:], color=[min(1, 2*i/max_size), 0, min(1, 2*(1-i/max_size))])\n",
    "        plt.errorbar(list(range(2, max_size + 1)), each_corr[1:], label=str(i), color=[min(1, 2*i/max_size), 0, min(1, 2*(1-i/max_size))], fmt=\"x\", yerr=each_stddev[1:], capsize=3)\n",
    "    else:\n",
    "        plt.plot(list(range(i+1, max_size + 1)), each_corr, color=[min(1, 2*i/max_size), 0, min(1, 2*(1-i/max_size))])\n",
    "        plt.errorbar(list(range(i+1, max_size + 1)), each_corr, label=str(i), color=[min(1, 2*i/max_size), 0, min(1, 2*(1-i/max_size))], fmt=\"v\", yerr=each_stddev, capsize=3)\n",
    "#  plt.plot(list(range(1, max_size + 1)), damped_vibration, label=\"damped vibration\", color=[0, 0, 1])\n",
    "plt.legend(bbox_to_anchor=(1.05, 1), loc='upper left', borderaxespad=0)\n",
    "plt.xlabel(\"graph size\")\n",
    "plt.ylabel(\"correlation\")\n",
    "plt.xticks(list(range(max_size + 2)))\n",
    "plt.ylim([-1,1])\n",
    "plt.title(\"mitigated correlation of each term (ibmq_manhattan)\")\n",
    "plt.show()"
   ]
  },
  {
   "cell_type": "code",
   "execution_count": null,
   "metadata": {},
   "outputs": [],
   "source": [
    "max_size = 11\n",
    "plt.clf()\n",
    "for i, (each_corr, each_stddev) in enumerate(zip(mitigated_tp_each_corr_list, mitigated_tp_each_stddev_list)):\n",
    "    if i == 0:\n",
    "        plt.plot(list(range(2, max_size + 1)), each_corr[1:], color=[min(1, 2*i/max_size), 0, min(1, 2*(1-i/max_size))])\n",
    "        plt.errorbar(list(range(2, max_size + 1)), each_corr[1:], label=str(i), color=[min(1, 2*i/max_size), 0, min(1, 2*(1-i/max_size))], fmt=\"x\", yerr=each_stddev[1:], capsize=3)\n",
    "    else:\n",
    "        plt.plot(list(range(i+1, max_size + 1)), each_corr, color=[min(1, 2*i/max_size), 0, min(1, 2*(1-i/max_size))])\n",
    "        plt.errorbar(list(range(i+1, max_size + 1)), each_corr, label=str(i), color=[min(1, 2*i/max_size), 0, min(1, 2*(1-i/max_size))], fmt=\"v\", yerr=each_stddev, capsize=3)\n",
    "#  plt.plot(list(range(1, max_size + 1)), damped_vibration, label=\"damped vibration\", color=[0, 0, 1])\n",
    "plt.legend(bbox_to_anchor=(1.05, 1), loc='upper left', borderaxespad=0)\n",
    "plt.xlabel(\"graph size\")\n",
    "plt.ylabel(\"correlation\")\n",
    "plt.xticks(list(range(max_size + 2)))\n",
    "plt.ylim([-1,1.1])\n",
    "plt.title(\"mitigated correlation of each term (ibmq_manhattan)\")\n",
    "plt.show()"
   ]
  },
  {
   "cell_type": "code",
   "execution_count": null,
   "metadata": {},
   "outputs": [],
   "source": []
  }
 ],
 "metadata": {
  "colab": {
   "collapsed_sections": [],
   "name": "manhattan.ipynb",
   "provenance": []
  },
  "kernelspec": {
   "display_name": "Python 3",
   "language": "python",
   "name": "python3"
  },
  "language_info": {
   "codemirror_mode": {
    "name": "ipython",
    "version": 3
   },
   "file_extension": ".py",
   "mimetype": "text/x-python",
   "name": "python",
   "nbconvert_exporter": "python",
   "pygments_lexer": "ipython3",
   "version": "3.6.10"
  }
 },
 "nbformat": 4,
 "nbformat_minor": 1
}
