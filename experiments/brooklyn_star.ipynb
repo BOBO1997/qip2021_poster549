{
 "cells": [
  {
   "cell_type": "markdown",
   "metadata": {
    "id": "m2GiFQGETOlU"
   },
   "source": [
    "# Experiment of star graph from size 2 to 27 on ibmq_brooklyn, with measurement error mitigation proposed by Bravyi et al.\n",
    "\n",
    "External packages by my own:\n",
    "- bell_ineq.py \\\n",
    "importing the inequality by Baccari et al.\n",
    "\n",
    "- graph_lib.py \\\n",
    "importing graph library such as making adjacency list of star graph\n",
    "\n",
    "- graph_state_lib.py \\\n",
    "importing the circuit preparation functions for graph states\n",
    "\n",
    "### circuits\n",
    "\n",
    "[circquit of size 2 (term1), \\\n",
    "circquit of size 2 (term2), \\\n",
    "circquits of 2 qubit calibration, \\\n",
    "circquit of size 3 (term1), \\\n",
    "circquit of size 3 (term2), \\\n",
    "circquits of 3 qubit calibration, \\\n",
    "circquit of size 4 (term1), \\\n",
    "circquit of size 4 (term2), \\\n",
    "circquits of 4 qubit calibration, \\\n",
    "…, \\\n",
    "circquit of size n (term1), \\\n",
    "circquit of size n (term2), \\\n",
    "circquits of n qubit calibration]"
   ]
  },
  {
   "cell_type": "markdown",
   "metadata": {
    "id": "_Y0MZiZn4Nqg"
   },
   "source": [
    "## imports"
   ]
  },
  {
   "cell_type": "markdown",
   "metadata": {
    "id": "aT21s9W9e8Xz"
   },
   "source": [
    "### import qiskit libraries"
   ]
  },
  {
   "cell_type": "code",
   "execution_count": 1,
   "metadata": {
    "executionInfo": {
     "elapsed": 35079,
     "status": "ok",
     "timestamp": 1610811747437,
     "user": {
      "displayName": "Bo Yang",
      "photoUrl": "",
      "userId": "03206198380065904075"
     },
     "user_tz": -540
    },
    "id": "vOqGZ75TS7ee"
   },
   "outputs": [],
   "source": [
    "from typing import List, Union\n",
    "import numpy as np\n",
    "import matplotlib.pyplot as plt\n",
    "%matplotlib inline\n",
    "from IPython.display import Image, display\n",
    "import pickle\n",
    "import pprint\n",
    "import time\n",
    "import pdb"
   ]
  },
  {
   "cell_type": "code",
   "execution_count": 2,
   "metadata": {
    "executionInfo": {
     "elapsed": 46731,
     "status": "ok",
     "timestamp": 1610811760546,
     "user": {
      "displayName": "Bo Yang",
      "photoUrl": "",
      "userId": "03206198380065904075"
     },
     "user_tz": -540
    },
    "id": "1ABk0TemrES1"
   },
   "outputs": [
    {
     "name": "stderr",
     "output_type": "stream",
     "text": [
      "/Users/yangbo/.pyenv/versions/anaconda3-5.1.0/lib/python3.6/site-packages/qiskit/__init__.py:67: DeprecationWarning: Using Qiskit with Python 3.6 is deprecated as of the 0.17.0 release. Support for running Qiskit with Python 3.6 will be removed in a future release.\n",
      "  \"future release.\", DeprecationWarning)\n"
     ]
    }
   ],
   "source": [
    "import qiskit\n",
    "from qiskit import QuantumCircuit, QuantumRegister, ClassicalRegister, Aer, execute, IBMQ\n",
    "from qiskit.tools.visualization import plot_histogram\n",
    "from qiskit.tools.monitor import job_monitor\n",
    "import qiskit.ignis.mitigation as mit\n",
    "import qiskit.quantum_info as qi\n",
    "# from qiskit.ignis.mitigation.measurement import complete_meas_cal, tensored_meas_cal, CompleteMeasFitter, TensoredMeasFitter"
   ]
  },
  {
   "cell_type": "markdown",
   "metadata": {
    "id": "0OlM_4hIerIk"
   },
   "source": [
    "### import original library"
   ]
  },
  {
   "cell_type": "code",
   "execution_count": 3,
   "metadata": {
    "colab": {
     "base_uri": "https://localhost:8080/"
    },
    "executionInfo": {
     "elapsed": 51860,
     "status": "ok",
     "timestamp": 1610811766412,
     "user": {
      "displayName": "Bo Yang",
      "photoUrl": "",
      "userId": "03206198380065904075"
     },
     "user_tz": -540
    },
    "id": "L6vq0TE6S7el",
    "outputId": "3b3414d3-33c6-4179-e9a4-eac5d3d221ad"
   },
   "outputs": [],
   "source": [
    "import importlib\n",
    "import star_bell_ineq\n",
    "importlib.reload(star_bell_ineq)\n",
    "from star_bell_ineq import *\n",
    "import graph_lib\n",
    "from graph_lib import *\n",
    "import graph_state_lib\n",
    "from graph_state_lib import *"
   ]
  },
  {
   "cell_type": "markdown",
   "metadata": {
    "id": "OMrkLw_VfC5h"
   },
   "source": [
    "### load account"
   ]
  },
  {
   "cell_type": "code",
   "execution_count": 4,
   "metadata": {
    "colab": {
     "base_uri": "https://localhost:8080/"
    },
    "executionInfo": {
     "elapsed": 3968,
     "status": "ok",
     "timestamp": 1610811775067,
     "user": {
      "displayName": "Bo Yang",
      "photoUrl": "",
      "userId": "03206198380065904075"
     },
     "user_tz": -540
    },
    "id": "06_lYscyS7el",
    "outputId": "338351a3-e908-401b-ff1e-ea8ba253ec2f"
   },
   "outputs": [
    {
     "name": "stdout",
     "output_type": "stream",
     "text": [
      "<AccountProvider for IBMQ(hub='ibm-q-utokyo', group='internal', project='hirashi-jst')>\n"
     ]
    }
   ],
   "source": [
    "IBMQ.load_account()\n",
    "provider = IBMQ.get_provider(hub='ibm-q-utokyo', group='internal', project='hirashi-jst')\n",
    "# provider = IBMQ.get_provider(hub=\"ibm-q-utokyo\", group=\"reservations\", project=\"reservations\")\n",
    "print(provider)"
   ]
  },
  {
   "cell_type": "markdown",
   "metadata": {
    "id": "SKpSIOj8UBAg"
   },
   "source": [
    "## create star graph information from size 2 to 27\n",
    "we test the size from 2 to 27\n",
    "\n",
    "change the number of 27 of \"max_size = len(vertex_list[:27]) # largest graph size\" if you want to try up to other size"
   ]
  },
  {
   "cell_type": "code",
   "execution_count": 5,
   "metadata": {
    "executionInfo": {
     "elapsed": 610,
     "status": "ok",
     "timestamp": 1610811779451,
     "user": {
      "displayName": "Bo Yang",
      "photoUrl": "",
      "userId": "03206198380065904075"
     },
     "user_tz": -540
    },
    "id": "2hjI9HU3S7em"
   },
   "outputs": [],
   "source": [
    "vertex_list =  [19, \n",
    "                25, \n",
    "                20, 33,\n",
    "                18, 21, 32,\n",
    "                34, 17, 12, 31,\n",
    "                22, 35, 16, 8, 39, \n",
    "                11, 30, 23, 36, 15, 7, 45,\n",
    "                40, 9, 4, 29, 26, 37, 24, 6, 46,\n",
    "                14, 44, 49, 3, 28, 5, 47] # qubit layout\n",
    "max_size = len(vertex_list) # largest graph size\n",
    "Fs = [[0] for n in range(1, max_size + 1)] # subsets of focused vertices of graph size 1 to max_size\n",
    "adj_lists = [adjacency_list_for_star_graph(n) for n in range(1, max_size + 1)] # adjacency list of graph size 1 to max_size\n",
    "graphs = [list_to_matrix(adj_list) for adj_list in adj_lists] # adjacency matrix of graph size 1 to max_size\n",
    "shots_per_circuit = 1 << 13 # shots per one execution\n",
    "graph_sizes = [len(adj_list) for adj_list in adj_lists]\n",
    "system_size = len(vertex_list)"
   ]
  },
  {
   "cell_type": "code",
   "execution_count": 6,
   "metadata": {
    "colab": {
     "base_uri": "https://localhost:8080/"
    },
    "executionInfo": {
     "elapsed": 722,
     "status": "ok",
     "timestamp": 1610811780221,
     "user": {
      "displayName": "Bo Yang",
      "photoUrl": "",
      "userId": "03206198380065904075"
     },
     "user_tz": -540
    },
    "id": "IFfTxEtES7en",
    "outputId": "20eac2d3-3238-4791-df16-a028260f0ab0"
   },
   "outputs": [
    {
     "name": "stdout",
     "output_type": "stream",
     "text": [
      "max_size: 39\n",
      "system_size: 39\n",
      "shots_per_circuit: 8192\n",
      "graph_sizes: [1, 2, 3, 4, 5, 6, 7, 8, 9, 10, 11, 12, 13, 14, 15, 16, 17, 18, 19, 20, 21, 22, 23, 24, 25, 26, 27, 28, 29, 30, 31, 32, 33, 34, 35, 36, 37, 38, 39]\n"
     ]
    }
   ],
   "source": [
    "print(\"max_size:\", max_size)\n",
    "print(\"system_size:\", system_size)\n",
    "print(\"shots_per_circuit:\", shots_per_circuit)\n",
    "print(\"graph_sizes:\", graph_sizes)"
   ]
  },
  {
   "cell_type": "code",
   "execution_count": 7,
   "metadata": {
    "executionInfo": {
     "elapsed": 695,
     "status": "ok",
     "timestamp": 1610811781842,
     "user": {
      "displayName": "Bo Yang",
      "photoUrl": "",
      "userId": "03206198380065904075"
     },
     "user_tz": -540
    },
    "id": "lT46dGROS7eo"
   },
   "outputs": [],
   "source": [
    "# indicate how to connect qubits\n",
    "order = [[0,1],\n",
    "         [0,2],[1,3],\n",
    "         [0,4],[2,5],[3,6],\n",
    "         [3,7],[4,8],[5,9],[6,10],\n",
    "         [5,11],[7,12],[8,13],[9,14],[10,15],\n",
    "         [8,16],[10,17],[11,18],[12,19],[13,20],[14,21],[15,22],\n",
    "         [12,23],[14,24],[16,25],[17,26],[18,27],[19,28],[20,29],[21,30],[22,31],\n",
    "         [20,32],[22,33],[23,34],[25,35],[26,36],[30,37],[31,38]]"
   ]
  },
  {
   "cell_type": "code",
   "execution_count": 8,
   "metadata": {
    "colab": {
     "base_uri": "https://localhost:8080/"
    },
    "executionInfo": {
     "elapsed": 641,
     "status": "ok",
     "timestamp": 1610811783736,
     "user": {
      "displayName": "Bo Yang",
      "photoUrl": "",
      "userId": "03206198380065904075"
     },
     "user_tz": -540
    },
    "id": "dL2TwGGKS7eo",
    "outputId": "8aade5dd-99dd-4e44-d7f3-23a1262a03ec"
   },
   "outputs": [
    {
     "name": "stdout",
     "output_type": "stream",
     "text": [
      "[0, 1, 2, 2, 3, 3, 3, 4, 4, 4, 4, 5, 5, 5, 5, 5, 6, 6, 6, 6, 6, 6, 6, 7, 7, 7, 7, 7, 7, 7, 7, 7, 8, 8, 8, 8, 8, 8, 8]\n",
      "39\n"
     ]
    }
   ],
   "source": [
    "qubit_depths = [0, \n",
    "                1, \n",
    "                2, 2,\n",
    "                3, 3, 3, \n",
    "                4, 4, 4, 4, \n",
    "                5, 5, 5, 5, 5, \n",
    "                6, 6, 6, 6, 6, 6, 6, \n",
    "                7, 7, 7, 7, 7, 7, 7, 7, 7,\n",
    "                8, 8, 8, 8, 8, 8, 8]\n",
    "print(qubit_depths)\n",
    "print(len(qubit_depths))"
   ]
  },
  {
   "cell_type": "markdown",
   "metadata": {
    "id": "BVbr64jYUT-J"
   },
   "source": [
    "## prepare quantum circuits (from size 2 to 27)"
   ]
  },
  {
   "cell_type": "code",
   "execution_count": 9,
   "metadata": {},
   "outputs": [],
   "source": [
    "def refocusing_last_star_graph_state(size, order, qubit_depths, system_size):\n",
    "    if size <= 1:\n",
    "        return None\n",
    "    qc = QuantumCircuit(system_size)\n",
    "    qc.h(0)\n",
    "    if size < system_size:\n",
    "        qc.h(range(size,system_size))\n",
    "    depth = 0\n",
    "    for i, j in order:\n",
    "        if depth != qubit_depths[j]:\n",
    "            qc.barrier()\n",
    "            depth += 1\n",
    "            if depth ==(qubit_depths[-1] + 1) // 2:\n",
    "                if size < system_size:\n",
    "                    qc.x(range(size,system_size))\n",
    "        qc.cx(i, j)\n",
    "    qc.barrier()\n",
    "    qc.x(range(size))\n",
    "    qc.h(range(1,system_size))\n",
    "    return qc"
   ]
  },
  {
   "cell_type": "code",
   "execution_count": 10,
   "metadata": {},
   "outputs": [],
   "source": [
    "def star_graph_state(size, order, qubit_depths):\n",
    "    if size <= 1:\n",
    "        return None\n",
    "    qc = QuantumCircuit(size)\n",
    "    qc.h(0)\n",
    "    depth = 0\n",
    "    for i, j in order:\n",
    "        if depth != qubit_depths[j]:\n",
    "            qc.barrier()\n",
    "            depth += 1\n",
    "        qc.cx(i, j)\n",
    "    qc.barrier()\n",
    "    qc.h(range(1,size))\n",
    "    return qc"
   ]
  },
  {
   "cell_type": "code",
   "execution_count": 11,
   "metadata": {
    "colab": {
     "base_uri": "https://localhost:8080/"
    },
    "executionInfo": {
     "elapsed": 1838,
     "status": "ok",
     "timestamp": 1610811789681,
     "user": {
      "displayName": "Bo Yang",
      "photoUrl": "",
      "userId": "03206198380065904075"
     },
     "user_tz": -540
    },
    "id": "An6oOvP8W9O3",
    "outputId": "6b66f592-c844-4244-84b4-a5cac35337c7"
   },
   "outputs": [
    {
     "name": "stderr",
     "output_type": "stream",
     "text": [
      "/Users/yangbo/.pyenv/versions/anaconda3-5.1.0/lib/python3.6/site-packages/qiskit/circuit/quantumcircuit.py:876: DeprecationWarning: The QuantumCircuit.extend() method is being deprecated. Use the compose() (potentially with the inplace=True argument) and tensor() methods which are more flexible w.r.t circuit register compatibility.\n",
      "  return self.extend(rhs)\n"
     ]
    },
    {
     "name": "stdout",
     "output_type": "stream",
     "text": [
      "the number of graph state circuits is:  152\n"
     ]
    }
   ],
   "source": [
    "qcs = [star_graph_state(size, order[:size-1], qubit_depths[:size]) for size in range(1, max_size+1)]\n",
    "qcs_list, nums_divide_list, nums_meas_cal_list, metadatas_list, _, initial_layouts_list = \\\n",
    "    prepare_grouping_star_graph_qcs_list(qcs, \n",
    "                                        adj_lists, \n",
    "                                        measure_last=True,\n",
    "                                        optimization_level=0,\n",
    "                                        # initial_layouts=[vertex_list[:size] for size in range(1,max_size+1)] * len(qcs),\n",
    "                                        method=\"tensored\",\n",
    "                                        mitigation_limit=100)\n",
    "print(\"the number of graph state circuits is: \", len(qcs_list))"
   ]
  },
  {
   "cell_type": "code",
   "execution_count": 13,
   "metadata": {
    "colab": {
     "base_uri": "https://localhost:8080/"
    },
    "executionInfo": {
     "elapsed": 622,
     "status": "ok",
     "timestamp": 1610811792049,
     "user": {
      "displayName": "Bo Yang",
      "photoUrl": "",
      "userId": "03206198380065904075"
     },
     "user_tz": -540
    },
    "id": "vCujSCuS462u",
    "outputId": "c9aa4b4b-21d2-44c0-af91-1f9fdeafc0c6"
   },
   "outputs": [
    {
     "name": "stdout",
     "output_type": "stream",
     "text": [
      "152 quantum circuits\n",
      "length of initial_layouts_list:  152\n"
     ]
    }
   ],
   "source": [
    "ops_qcs_list = [qc.count_ops() for qc in qcs_list]\n",
    "print(len(qcs_list), \"quantum circuits\")\n",
    "print(\"length of initial_layouts_list: \", len(initial_layouts_list))"
   ]
  },
  {
   "cell_type": "code",
   "execution_count": 14,
   "metadata": {},
   "outputs": [
    {
     "name": "stdout",
     "output_type": "stream",
     "text": [
      "[[19], [19, 25], [19, 25, 20], [19, 25, 20, 33], [19, 25, 20, 33, 18], [19, 25, 20, 33, 18, 21], [19, 25, 20, 33, 18, 21, 32], [19, 25, 20, 33, 18, 21, 32, 34], [19, 25, 20, 33, 18, 21, 32, 34, 17], [19, 25, 20, 33, 18, 21, 32, 34, 17, 12], [19, 25, 20, 33, 18, 21, 32, 34, 17, 12, 31], [19, 25, 20, 33, 18, 21, 32, 34, 17, 12, 31, 22], [19, 25, 20, 33, 18, 21, 32, 34, 17, 12, 31, 22, 35], [19, 25, 20, 33, 18, 21, 32, 34, 17, 12, 31, 22, 35, 16], [19, 25, 20, 33, 18, 21, 32, 34, 17, 12, 31, 22, 35, 16, 8], [19, 25, 20, 33, 18, 21, 32, 34, 17, 12, 31, 22, 35, 16, 8, 39], [19, 25, 20, 33, 18, 21, 32, 34, 17, 12, 31, 22, 35, 16, 8, 39, 11], [19, 25, 20, 33, 18, 21, 32, 34, 17, 12, 31, 22, 35, 16, 8, 39, 11, 30], [19, 25, 20, 33, 18, 21, 32, 34, 17, 12, 31, 22, 35, 16, 8, 39, 11, 30, 23], [19, 25, 20, 33, 18, 21, 32, 34, 17, 12, 31, 22, 35, 16, 8, 39, 11, 30, 23, 36], [19, 25, 20, 33, 18, 21, 32, 34, 17, 12, 31, 22, 35, 16, 8, 39, 11, 30, 23, 36, 15], [19, 25, 20, 33, 18, 21, 32, 34, 17, 12, 31, 22, 35, 16, 8, 39, 11, 30, 23, 36, 15, 7], [19, 25, 20, 33, 18, 21, 32, 34, 17, 12, 31, 22, 35, 16, 8, 39, 11, 30, 23, 36, 15, 7, 45], [19, 25, 20, 33, 18, 21, 32, 34, 17, 12, 31, 22, 35, 16, 8, 39, 11, 30, 23, 36, 15, 7, 45, 40], [19, 25, 20, 33, 18, 21, 32, 34, 17, 12, 31, 22, 35, 16, 8, 39, 11, 30, 23, 36, 15, 7, 45, 40, 9], [19, 25, 20, 33, 18, 21, 32, 34, 17, 12, 31, 22, 35, 16, 8, 39, 11, 30, 23, 36, 15, 7, 45, 40, 9, 4], [19, 25, 20, 33, 18, 21, 32, 34, 17, 12, 31, 22, 35, 16, 8, 39, 11, 30, 23, 36, 15, 7, 45, 40, 9, 4, 29], [19, 25, 20, 33, 18, 21, 32, 34, 17, 12, 31, 22, 35, 16, 8, 39, 11, 30, 23, 36, 15, 7, 45, 40, 9, 4, 29, 26], [19, 25, 20, 33, 18, 21, 32, 34, 17, 12, 31, 22, 35, 16, 8, 39, 11, 30, 23, 36, 15, 7, 45, 40, 9, 4, 29, 26, 37], [19, 25, 20, 33, 18, 21, 32, 34, 17, 12, 31, 22, 35, 16, 8, 39, 11, 30, 23, 36, 15, 7, 45, 40, 9, 4, 29, 26, 37, 24], [19, 25, 20, 33, 18, 21, 32, 34, 17, 12, 31, 22, 35, 16, 8, 39, 11, 30, 23, 36, 15, 7, 45, 40, 9, 4, 29, 26, 37, 24, 6], [19, 25, 20, 33, 18, 21, 32, 34, 17, 12, 31, 22, 35, 16, 8, 39, 11, 30, 23, 36, 15, 7, 45, 40, 9, 4, 29, 26, 37, 24, 6, 46], [19, 25, 20, 33, 18, 21, 32, 34, 17, 12, 31, 22, 35, 16, 8, 39, 11, 30, 23, 36, 15, 7, 45, 40, 9, 4, 29, 26, 37, 24, 6, 46, 14], [19, 25, 20, 33, 18, 21, 32, 34, 17, 12, 31, 22, 35, 16, 8, 39, 11, 30, 23, 36, 15, 7, 45, 40, 9, 4, 29, 26, 37, 24, 6, 46, 14, 44], [19, 25, 20, 33, 18, 21, 32, 34, 17, 12, 31, 22, 35, 16, 8, 39, 11, 30, 23, 36, 15, 7, 45, 40, 9, 4, 29, 26, 37, 24, 6, 46, 14, 44, 49], [19, 25, 20, 33, 18, 21, 32, 34, 17, 12, 31, 22, 35, 16, 8, 39, 11, 30, 23, 36, 15, 7, 45, 40, 9, 4, 29, 26, 37, 24, 6, 46, 14, 44, 49, 3], [19, 25, 20, 33, 18, 21, 32, 34, 17, 12, 31, 22, 35, 16, 8, 39, 11, 30, 23, 36, 15, 7, 45, 40, 9, 4, 29, 26, 37, 24, 6, 46, 14, 44, 49, 3, 28], [19, 25, 20, 33, 18, 21, 32, 34, 17, 12, 31, 22, 35, 16, 8, 39, 11, 30, 23, 36, 15, 7, 45, 40, 9, 4, 29, 26, 37, 24, 6, 46, 14, 44, 49, 3, 28, 5], [19, 25, 20, 33, 18, 21, 32, 34, 17, 12, 31, 22, 35, 16, 8, 39, 11, 30, 23, 36, 15, 7, 45, 40, 9, 4, 29, 26, 37, 24, 6, 46, 14, 44, 49, 3, 28, 5, 47]]\n",
      "2 2 [19, 25]\n",
      "2 2 [19, 25]\n",
      "2 2 [19, 25]\n",
      "2 2 [19, 25]\n",
      "3 3 [19, 25, 20]\n",
      "3 3 [19, 25, 20]\n",
      "3 3 [19, 25, 20]\n",
      "3 3 [19, 25, 20]\n",
      "4 4 [19, 25, 20, 33]\n",
      "4 4 [19, 25, 20, 33]\n",
      "4 4 [19, 25, 20, 33]\n",
      "4 4 [19, 25, 20, 33]\n",
      "5 5 [19, 25, 20, 33, 18]\n",
      "5 5 [19, 25, 20, 33, 18]\n",
      "5 5 [19, 25, 20, 33, 18]\n",
      "5 5 [19, 25, 20, 33, 18]\n",
      "6 6 [19, 25, 20, 33, 18, 21]\n",
      "6 6 [19, 25, 20, 33, 18, 21]\n",
      "6 6 [19, 25, 20, 33, 18, 21]\n",
      "6 6 [19, 25, 20, 33, 18, 21]\n",
      "7 7 [19, 25, 20, 33, 18, 21, 32]\n",
      "7 7 [19, 25, 20, 33, 18, 21, 32]\n",
      "7 7 [19, 25, 20, 33, 18, 21, 32]\n",
      "7 7 [19, 25, 20, 33, 18, 21, 32]\n",
      "8 8 [19, 25, 20, 33, 18, 21, 32, 34]\n",
      "8 8 [19, 25, 20, 33, 18, 21, 32, 34]\n",
      "8 8 [19, 25, 20, 33, 18, 21, 32, 34]\n",
      "8 8 [19, 25, 20, 33, 18, 21, 32, 34]\n",
      "9 9 [19, 25, 20, 33, 18, 21, 32, 34, 17]\n",
      "9 9 [19, 25, 20, 33, 18, 21, 32, 34, 17]\n",
      "9 9 [19, 25, 20, 33, 18, 21, 32, 34, 17]\n",
      "9 9 [19, 25, 20, 33, 18, 21, 32, 34, 17]\n",
      "10 10 [19, 25, 20, 33, 18, 21, 32, 34, 17, 12]\n",
      "10 10 [19, 25, 20, 33, 18, 21, 32, 34, 17, 12]\n",
      "10 10 [19, 25, 20, 33, 18, 21, 32, 34, 17, 12]\n",
      "10 10 [19, 25, 20, 33, 18, 21, 32, 34, 17, 12]\n",
      "11 11 [19, 25, 20, 33, 18, 21, 32, 34, 17, 12, 31]\n",
      "11 11 [19, 25, 20, 33, 18, 21, 32, 34, 17, 12, 31]\n",
      "11 11 [19, 25, 20, 33, 18, 21, 32, 34, 17, 12, 31]\n",
      "11 11 [19, 25, 20, 33, 18, 21, 32, 34, 17, 12, 31]\n",
      "12 12 [19, 25, 20, 33, 18, 21, 32, 34, 17, 12, 31, 22]\n",
      "12 12 [19, 25, 20, 33, 18, 21, 32, 34, 17, 12, 31, 22]\n",
      "12 12 [19, 25, 20, 33, 18, 21, 32, 34, 17, 12, 31, 22]\n",
      "12 12 [19, 25, 20, 33, 18, 21, 32, 34, 17, 12, 31, 22]\n",
      "13 13 [19, 25, 20, 33, 18, 21, 32, 34, 17, 12, 31, 22, 35]\n",
      "13 13 [19, 25, 20, 33, 18, 21, 32, 34, 17, 12, 31, 22, 35]\n",
      "13 13 [19, 25, 20, 33, 18, 21, 32, 34, 17, 12, 31, 22, 35]\n",
      "13 13 [19, 25, 20, 33, 18, 21, 32, 34, 17, 12, 31, 22, 35]\n",
      "14 14 [19, 25, 20, 33, 18, 21, 32, 34, 17, 12, 31, 22, 35, 16]\n",
      "14 14 [19, 25, 20, 33, 18, 21, 32, 34, 17, 12, 31, 22, 35, 16]\n",
      "14 14 [19, 25, 20, 33, 18, 21, 32, 34, 17, 12, 31, 22, 35, 16]\n",
      "14 14 [19, 25, 20, 33, 18, 21, 32, 34, 17, 12, 31, 22, 35, 16]\n",
      "15 15 [19, 25, 20, 33, 18, 21, 32, 34, 17, 12, 31, 22, 35, 16, 8]\n",
      "15 15 [19, 25, 20, 33, 18, 21, 32, 34, 17, 12, 31, 22, 35, 16, 8]\n",
      "15 15 [19, 25, 20, 33, 18, 21, 32, 34, 17, 12, 31, 22, 35, 16, 8]\n",
      "15 15 [19, 25, 20, 33, 18, 21, 32, 34, 17, 12, 31, 22, 35, 16, 8]\n",
      "16 16 [19, 25, 20, 33, 18, 21, 32, 34, 17, 12, 31, 22, 35, 16, 8, 39]\n",
      "16 16 [19, 25, 20, 33, 18, 21, 32, 34, 17, 12, 31, 22, 35, 16, 8, 39]\n",
      "16 16 [19, 25, 20, 33, 18, 21, 32, 34, 17, 12, 31, 22, 35, 16, 8, 39]\n",
      "16 16 [19, 25, 20, 33, 18, 21, 32, 34, 17, 12, 31, 22, 35, 16, 8, 39]\n",
      "17 17 [19, 25, 20, 33, 18, 21, 32, 34, 17, 12, 31, 22, 35, 16, 8, 39, 11]\n",
      "17 17 [19, 25, 20, 33, 18, 21, 32, 34, 17, 12, 31, 22, 35, 16, 8, 39, 11]\n",
      "17 17 [19, 25, 20, 33, 18, 21, 32, 34, 17, 12, 31, 22, 35, 16, 8, 39, 11]\n",
      "17 17 [19, 25, 20, 33, 18, 21, 32, 34, 17, 12, 31, 22, 35, 16, 8, 39, 11]\n",
      "18 18 [19, 25, 20, 33, 18, 21, 32, 34, 17, 12, 31, 22, 35, 16, 8, 39, 11, 30]\n",
      "18 18 [19, 25, 20, 33, 18, 21, 32, 34, 17, 12, 31, 22, 35, 16, 8, 39, 11, 30]\n",
      "18 18 [19, 25, 20, 33, 18, 21, 32, 34, 17, 12, 31, 22, 35, 16, 8, 39, 11, 30]\n",
      "18 18 [19, 25, 20, 33, 18, 21, 32, 34, 17, 12, 31, 22, 35, 16, 8, 39, 11, 30]\n",
      "19 19 [19, 25, 20, 33, 18, 21, 32, 34, 17, 12, 31, 22, 35, 16, 8, 39, 11, 30, 23]\n",
      "19 19 [19, 25, 20, 33, 18, 21, 32, 34, 17, 12, 31, 22, 35, 16, 8, 39, 11, 30, 23]\n",
      "19 19 [19, 25, 20, 33, 18, 21, 32, 34, 17, 12, 31, 22, 35, 16, 8, 39, 11, 30, 23]\n",
      "19 19 [19, 25, 20, 33, 18, 21, 32, 34, 17, 12, 31, 22, 35, 16, 8, 39, 11, 30, 23]\n",
      "20 20 [19, 25, 20, 33, 18, 21, 32, 34, 17, 12, 31, 22, 35, 16, 8, 39, 11, 30, 23, 36]\n",
      "20 20 [19, 25, 20, 33, 18, 21, 32, 34, 17, 12, 31, 22, 35, 16, 8, 39, 11, 30, 23, 36]\n",
      "20 20 [19, 25, 20, 33, 18, 21, 32, 34, 17, 12, 31, 22, 35, 16, 8, 39, 11, 30, 23, 36]\n",
      "20 20 [19, 25, 20, 33, 18, 21, 32, 34, 17, 12, 31, 22, 35, 16, 8, 39, 11, 30, 23, 36]\n",
      "21 21 [19, 25, 20, 33, 18, 21, 32, 34, 17, 12, 31, 22, 35, 16, 8, 39, 11, 30, 23, 36, 15]\n",
      "21 21 [19, 25, 20, 33, 18, 21, 32, 34, 17, 12, 31, 22, 35, 16, 8, 39, 11, 30, 23, 36, 15]\n",
      "21 21 [19, 25, 20, 33, 18, 21, 32, 34, 17, 12, 31, 22, 35, 16, 8, 39, 11, 30, 23, 36, 15]\n",
      "21 21 [19, 25, 20, 33, 18, 21, 32, 34, 17, 12, 31, 22, 35, 16, 8, 39, 11, 30, 23, 36, 15]\n",
      "22 22 [19, 25, 20, 33, 18, 21, 32, 34, 17, 12, 31, 22, 35, 16, 8, 39, 11, 30, 23, 36, 15, 7]\n",
      "22 22 [19, 25, 20, 33, 18, 21, 32, 34, 17, 12, 31, 22, 35, 16, 8, 39, 11, 30, 23, 36, 15, 7]\n",
      "22 22 [19, 25, 20, 33, 18, 21, 32, 34, 17, 12, 31, 22, 35, 16, 8, 39, 11, 30, 23, 36, 15, 7]\n",
      "22 22 [19, 25, 20, 33, 18, 21, 32, 34, 17, 12, 31, 22, 35, 16, 8, 39, 11, 30, 23, 36, 15, 7]\n",
      "23 23 [19, 25, 20, 33, 18, 21, 32, 34, 17, 12, 31, 22, 35, 16, 8, 39, 11, 30, 23, 36, 15, 7, 45]\n",
      "23 23 [19, 25, 20, 33, 18, 21, 32, 34, 17, 12, 31, 22, 35, 16, 8, 39, 11, 30, 23, 36, 15, 7, 45]\n",
      "23 23 [19, 25, 20, 33, 18, 21, 32, 34, 17, 12, 31, 22, 35, 16, 8, 39, 11, 30, 23, 36, 15, 7, 45]\n",
      "23 23 [19, 25, 20, 33, 18, 21, 32, 34, 17, 12, 31, 22, 35, 16, 8, 39, 11, 30, 23, 36, 15, 7, 45]\n",
      "24 24 [19, 25, 20, 33, 18, 21, 32, 34, 17, 12, 31, 22, 35, 16, 8, 39, 11, 30, 23, 36, 15, 7, 45, 40]\n",
      "24 24 [19, 25, 20, 33, 18, 21, 32, 34, 17, 12, 31, 22, 35, 16, 8, 39, 11, 30, 23, 36, 15, 7, 45, 40]\n",
      "24 24 [19, 25, 20, 33, 18, 21, 32, 34, 17, 12, 31, 22, 35, 16, 8, 39, 11, 30, 23, 36, 15, 7, 45, 40]\n",
      "24 24 [19, 25, 20, 33, 18, 21, 32, 34, 17, 12, 31, 22, 35, 16, 8, 39, 11, 30, 23, 36, 15, 7, 45, 40]\n",
      "25 25 [19, 25, 20, 33, 18, 21, 32, 34, 17, 12, 31, 22, 35, 16, 8, 39, 11, 30, 23, 36, 15, 7, 45, 40, 9]\n",
      "25 25 [19, 25, 20, 33, 18, 21, 32, 34, 17, 12, 31, 22, 35, 16, 8, 39, 11, 30, 23, 36, 15, 7, 45, 40, 9]\n",
      "25 25 [19, 25, 20, 33, 18, 21, 32, 34, 17, 12, 31, 22, 35, 16, 8, 39, 11, 30, 23, 36, 15, 7, 45, 40, 9]\n",
      "25 25 [19, 25, 20, 33, 18, 21, 32, 34, 17, 12, 31, 22, 35, 16, 8, 39, 11, 30, 23, 36, 15, 7, 45, 40, 9]\n",
      "26 26 [19, 25, 20, 33, 18, 21, 32, 34, 17, 12, 31, 22, 35, 16, 8, 39, 11, 30, 23, 36, 15, 7, 45, 40, 9, 4]\n",
      "26 26 [19, 25, 20, 33, 18, 21, 32, 34, 17, 12, 31, 22, 35, 16, 8, 39, 11, 30, 23, 36, 15, 7, 45, 40, 9, 4]\n",
      "26 26 [19, 25, 20, 33, 18, 21, 32, 34, 17, 12, 31, 22, 35, 16, 8, 39, 11, 30, 23, 36, 15, 7, 45, 40, 9, 4]\n",
      "26 26 [19, 25, 20, 33, 18, 21, 32, 34, 17, 12, 31, 22, 35, 16, 8, 39, 11, 30, 23, 36, 15, 7, 45, 40, 9, 4]\n",
      "27 27 [19, 25, 20, 33, 18, 21, 32, 34, 17, 12, 31, 22, 35, 16, 8, 39, 11, 30, 23, 36, 15, 7, 45, 40, 9, 4, 29]\n",
      "27 27 [19, 25, 20, 33, 18, 21, 32, 34, 17, 12, 31, 22, 35, 16, 8, 39, 11, 30, 23, 36, 15, 7, 45, 40, 9, 4, 29]\n",
      "27 27 [19, 25, 20, 33, 18, 21, 32, 34, 17, 12, 31, 22, 35, 16, 8, 39, 11, 30, 23, 36, 15, 7, 45, 40, 9, 4, 29]\n",
      "27 27 [19, 25, 20, 33, 18, 21, 32, 34, 17, 12, 31, 22, 35, 16, 8, 39, 11, 30, 23, 36, 15, 7, 45, 40, 9, 4, 29]\n",
      "28 28 [19, 25, 20, 33, 18, 21, 32, 34, 17, 12, 31, 22, 35, 16, 8, 39, 11, 30, 23, 36, 15, 7, 45, 40, 9, 4, 29, 26]\n",
      "28 28 [19, 25, 20, 33, 18, 21, 32, 34, 17, 12, 31, 22, 35, 16, 8, 39, 11, 30, 23, 36, 15, 7, 45, 40, 9, 4, 29, 26]\n",
      "28 28 [19, 25, 20, 33, 18, 21, 32, 34, 17, 12, 31, 22, 35, 16, 8, 39, 11, 30, 23, 36, 15, 7, 45, 40, 9, 4, 29, 26]\n",
      "28 28 [19, 25, 20, 33, 18, 21, 32, 34, 17, 12, 31, 22, 35, 16, 8, 39, 11, 30, 23, 36, 15, 7, 45, 40, 9, 4, 29, 26]\n",
      "29 29 [19, 25, 20, 33, 18, 21, 32, 34, 17, 12, 31, 22, 35, 16, 8, 39, 11, 30, 23, 36, 15, 7, 45, 40, 9, 4, 29, 26, 37]\n",
      "29 29 [19, 25, 20, 33, 18, 21, 32, 34, 17, 12, 31, 22, 35, 16, 8, 39, 11, 30, 23, 36, 15, 7, 45, 40, 9, 4, 29, 26, 37]\n",
      "29 29 [19, 25, 20, 33, 18, 21, 32, 34, 17, 12, 31, 22, 35, 16, 8, 39, 11, 30, 23, 36, 15, 7, 45, 40, 9, 4, 29, 26, 37]\n",
      "29 29 [19, 25, 20, 33, 18, 21, 32, 34, 17, 12, 31, 22, 35, 16, 8, 39, 11, 30, 23, 36, 15, 7, 45, 40, 9, 4, 29, 26, 37]\n",
      "30 30 [19, 25, 20, 33, 18, 21, 32, 34, 17, 12, 31, 22, 35, 16, 8, 39, 11, 30, 23, 36, 15, 7, 45, 40, 9, 4, 29, 26, 37, 24]\n",
      "30 30 [19, 25, 20, 33, 18, 21, 32, 34, 17, 12, 31, 22, 35, 16, 8, 39, 11, 30, 23, 36, 15, 7, 45, 40, 9, 4, 29, 26, 37, 24]\n",
      "30 30 [19, 25, 20, 33, 18, 21, 32, 34, 17, 12, 31, 22, 35, 16, 8, 39, 11, 30, 23, 36, 15, 7, 45, 40, 9, 4, 29, 26, 37, 24]\n",
      "30 30 [19, 25, 20, 33, 18, 21, 32, 34, 17, 12, 31, 22, 35, 16, 8, 39, 11, 30, 23, 36, 15, 7, 45, 40, 9, 4, 29, 26, 37, 24]\n",
      "31 31 [19, 25, 20, 33, 18, 21, 32, 34, 17, 12, 31, 22, 35, 16, 8, 39, 11, 30, 23, 36, 15, 7, 45, 40, 9, 4, 29, 26, 37, 24, 6]\n",
      "31 31 [19, 25, 20, 33, 18, 21, 32, 34, 17, 12, 31, 22, 35, 16, 8, 39, 11, 30, 23, 36, 15, 7, 45, 40, 9, 4, 29, 26, 37, 24, 6]\n",
      "31 31 [19, 25, 20, 33, 18, 21, 32, 34, 17, 12, 31, 22, 35, 16, 8, 39, 11, 30, 23, 36, 15, 7, 45, 40, 9, 4, 29, 26, 37, 24, 6]\n",
      "31 31 [19, 25, 20, 33, 18, 21, 32, 34, 17, 12, 31, 22, 35, 16, 8, 39, 11, 30, 23, 36, 15, 7, 45, 40, 9, 4, 29, 26, 37, 24, 6]\n",
      "32 32 [19, 25, 20, 33, 18, 21, 32, 34, 17, 12, 31, 22, 35, 16, 8, 39, 11, 30, 23, 36, 15, 7, 45, 40, 9, 4, 29, 26, 37, 24, 6, 46]\n",
      "32 32 [19, 25, 20, 33, 18, 21, 32, 34, 17, 12, 31, 22, 35, 16, 8, 39, 11, 30, 23, 36, 15, 7, 45, 40, 9, 4, 29, 26, 37, 24, 6, 46]\n",
      "32 32 [19, 25, 20, 33, 18, 21, 32, 34, 17, 12, 31, 22, 35, 16, 8, 39, 11, 30, 23, 36, 15, 7, 45, 40, 9, 4, 29, 26, 37, 24, 6, 46]\n",
      "32 32 [19, 25, 20, 33, 18, 21, 32, 34, 17, 12, 31, 22, 35, 16, 8, 39, 11, 30, 23, 36, 15, 7, 45, 40, 9, 4, 29, 26, 37, 24, 6, 46]\n",
      "33 33 [19, 25, 20, 33, 18, 21, 32, 34, 17, 12, 31, 22, 35, 16, 8, 39, 11, 30, 23, 36, 15, 7, 45, 40, 9, 4, 29, 26, 37, 24, 6, 46, 14]\n",
      "33 33 [19, 25, 20, 33, 18, 21, 32, 34, 17, 12, 31, 22, 35, 16, 8, 39, 11, 30, 23, 36, 15, 7, 45, 40, 9, 4, 29, 26, 37, 24, 6, 46, 14]\n",
      "33 33 [19, 25, 20, 33, 18, 21, 32, 34, 17, 12, 31, 22, 35, 16, 8, 39, 11, 30, 23, 36, 15, 7, 45, 40, 9, 4, 29, 26, 37, 24, 6, 46, 14]\n",
      "33 33 [19, 25, 20, 33, 18, 21, 32, 34, 17, 12, 31, 22, 35, 16, 8, 39, 11, 30, 23, 36, 15, 7, 45, 40, 9, 4, 29, 26, 37, 24, 6, 46, 14]\n",
      "34 34 [19, 25, 20, 33, 18, 21, 32, 34, 17, 12, 31, 22, 35, 16, 8, 39, 11, 30, 23, 36, 15, 7, 45, 40, 9, 4, 29, 26, 37, 24, 6, 46, 14, 44]\n",
      "34 34 [19, 25, 20, 33, 18, 21, 32, 34, 17, 12, 31, 22, 35, 16, 8, 39, 11, 30, 23, 36, 15, 7, 45, 40, 9, 4, 29, 26, 37, 24, 6, 46, 14, 44]\n",
      "34 34 [19, 25, 20, 33, 18, 21, 32, 34, 17, 12, 31, 22, 35, 16, 8, 39, 11, 30, 23, 36, 15, 7, 45, 40, 9, 4, 29, 26, 37, 24, 6, 46, 14, 44]\n",
      "34 34 [19, 25, 20, 33, 18, 21, 32, 34, 17, 12, 31, 22, 35, 16, 8, 39, 11, 30, 23, 36, 15, 7, 45, 40, 9, 4, 29, 26, 37, 24, 6, 46, 14, 44]\n",
      "35 35 [19, 25, 20, 33, 18, 21, 32, 34, 17, 12, 31, 22, 35, 16, 8, 39, 11, 30, 23, 36, 15, 7, 45, 40, 9, 4, 29, 26, 37, 24, 6, 46, 14, 44, 49]\n",
      "35 35 [19, 25, 20, 33, 18, 21, 32, 34, 17, 12, 31, 22, 35, 16, 8, 39, 11, 30, 23, 36, 15, 7, 45, 40, 9, 4, 29, 26, 37, 24, 6, 46, 14, 44, 49]\n",
      "35 35 [19, 25, 20, 33, 18, 21, 32, 34, 17, 12, 31, 22, 35, 16, 8, 39, 11, 30, 23, 36, 15, 7, 45, 40, 9, 4, 29, 26, 37, 24, 6, 46, 14, 44, 49]\n",
      "35 35 [19, 25, 20, 33, 18, 21, 32, 34, 17, 12, 31, 22, 35, 16, 8, 39, 11, 30, 23, 36, 15, 7, 45, 40, 9, 4, 29, 26, 37, 24, 6, 46, 14, 44, 49]\n",
      "36 36 [19, 25, 20, 33, 18, 21, 32, 34, 17, 12, 31, 22, 35, 16, 8, 39, 11, 30, 23, 36, 15, 7, 45, 40, 9, 4, 29, 26, 37, 24, 6, 46, 14, 44, 49, 3]\n",
      "36 36 [19, 25, 20, 33, 18, 21, 32, 34, 17, 12, 31, 22, 35, 16, 8, 39, 11, 30, 23, 36, 15, 7, 45, 40, 9, 4, 29, 26, 37, 24, 6, 46, 14, 44, 49, 3]\n",
      "36 36 [19, 25, 20, 33, 18, 21, 32, 34, 17, 12, 31, 22, 35, 16, 8, 39, 11, 30, 23, 36, 15, 7, 45, 40, 9, 4, 29, 26, 37, 24, 6, 46, 14, 44, 49, 3]\n",
      "36 36 [19, 25, 20, 33, 18, 21, 32, 34, 17, 12, 31, 22, 35, 16, 8, 39, 11, 30, 23, 36, 15, 7, 45, 40, 9, 4, 29, 26, 37, 24, 6, 46, 14, 44, 49, 3]\n",
      "37 37 [19, 25, 20, 33, 18, 21, 32, 34, 17, 12, 31, 22, 35, 16, 8, 39, 11, 30, 23, 36, 15, 7, 45, 40, 9, 4, 29, 26, 37, 24, 6, 46, 14, 44, 49, 3, 28]\n",
      "37 37 [19, 25, 20, 33, 18, 21, 32, 34, 17, 12, 31, 22, 35, 16, 8, 39, 11, 30, 23, 36, 15, 7, 45, 40, 9, 4, 29, 26, 37, 24, 6, 46, 14, 44, 49, 3, 28]\n",
      "37 37 [19, 25, 20, 33, 18, 21, 32, 34, 17, 12, 31, 22, 35, 16, 8, 39, 11, 30, 23, 36, 15, 7, 45, 40, 9, 4, 29, 26, 37, 24, 6, 46, 14, 44, 49, 3, 28]\n",
      "37 37 [19, 25, 20, 33, 18, 21, 32, 34, 17, 12, 31, 22, 35, 16, 8, 39, 11, 30, 23, 36, 15, 7, 45, 40, 9, 4, 29, 26, 37, 24, 6, 46, 14, 44, 49, 3, 28]\n",
      "38 38 [19, 25, 20, 33, 18, 21, 32, 34, 17, 12, 31, 22, 35, 16, 8, 39, 11, 30, 23, 36, 15, 7, 45, 40, 9, 4, 29, 26, 37, 24, 6, 46, 14, 44, 49, 3, 28, 5]\n",
      "38 38 [19, 25, 20, 33, 18, 21, 32, 34, 17, 12, 31, 22, 35, 16, 8, 39, 11, 30, 23, 36, 15, 7, 45, 40, 9, 4, 29, 26, 37, 24, 6, 46, 14, 44, 49, 3, 28, 5]\n",
      "38 38 [19, 25, 20, 33, 18, 21, 32, 34, 17, 12, 31, 22, 35, 16, 8, 39, 11, 30, 23, 36, 15, 7, 45, 40, 9, 4, 29, 26, 37, 24, 6, 46, 14, 44, 49, 3, 28, 5]\n",
      "38 38 [19, 25, 20, 33, 18, 21, 32, 34, 17, 12, 31, 22, 35, 16, 8, 39, 11, 30, 23, 36, 15, 7, 45, 40, 9, 4, 29, 26, 37, 24, 6, 46, 14, 44, 49, 3, 28, 5]\n",
      "39 39 [19, 25, 20, 33, 18, 21, 32, 34, 17, 12, 31, 22, 35, 16, 8, 39, 11, 30, 23, 36, 15, 7, 45, 40, 9, 4, 29, 26, 37, 24, 6, 46, 14, 44, 49, 3, 28, 5, 47]\n",
      "39 39 [19, 25, 20, 33, 18, 21, 32, 34, 17, 12, 31, 22, 35, 16, 8, 39, 11, 30, 23, 36, 15, 7, 45, 40, 9, 4, 29, 26, 37, 24, 6, 46, 14, 44, 49, 3, 28, 5, 47]\n",
      "39 39 [19, 25, 20, 33, 18, 21, 32, 34, 17, 12, 31, 22, 35, 16, 8, 39, 11, 30, 23, 36, 15, 7, 45, 40, 9, 4, 29, 26, 37, 24, 6, 46, 14, 44, 49, 3, 28, 5, 47]\n",
      "39 39 [19, 25, 20, 33, 18, 21, 32, 34, 17, 12, 31, 22, 35, 16, 8, 39, 11, 30, 23, 36, 15, 7, 45, 40, 9, 4, 29, 26, 37, 24, 6, 46, 14, 44, 49, 3, 28, 5, 47]\n"
     ]
    }
   ],
   "source": [
    "initial_layouts=[vertex_list[:size] for size in range(1,max_size+1)]\n",
    "print(initial_layouts)\n",
    "initial_layouts_list = []\n",
    "for initial_layout in initial_layouts[1:]:\n",
    "    for _ in range(4):\n",
    "        initial_layouts_list.append(initial_layout)\n",
    "for i in range(len(initial_layouts_list)):\n",
    "    print(qcs_list[i].num_qubits, len(initial_layouts_list[i]), initial_layouts_list[i])"
   ]
  },
  {
   "cell_type": "code",
   "execution_count": 12,
   "metadata": {},
   "outputs": [
    {
     "name": "stdout",
     "output_type": "stream",
     "text": [
      "qcs_depth: [3, 4, 4, 5, 5, 5, 6, 6, 6, 6, 7, 7, 7, 7, 7, 8, 8, 8, 8, 8, 8, 8, 9, 9, 9, 9, 9, 9, 9, 9, 9, 10, 10, 10, 10, 10, 10, 10]\n"
     ]
    }
   ],
   "source": [
    "qcs_depths = [qc.depth() for qc in qcs[1:]]\n",
    "print(\"qcs_depth:\", qcs_depths)"
   ]
  },
  {
   "cell_type": "code",
   "execution_count": 15,
   "metadata": {},
   "outputs": [
    {
     "data": {
      "image/png": "[encoded data removed]",
      "text/plain": [
       "<Figure size 605.838x204.68 with 1 Axes>"
      ]
     },
     "execution_count": 15,
     "metadata": {},
     "output_type": "execute_result"
    }
   ],
   "source": [
    "qcs_list[0].draw(\"mpl\")"
   ]
  },
  {
   "cell_type": "code",
   "execution_count": 16,
   "metadata": {
    "scrolled": false
   },
   "outputs": [
    {
     "data": {
      "image/png": "[encoded data removed]",
      "text/plain": [
       "<Figure size 786.729x264.88 with 1 Axes>"
      ]
     },
     "execution_count": 16,
     "metadata": {},
     "output_type": "execute_result"
    }
   ],
   "source": [
    "qcs_list[4].draw(\"mpl\")"
   ]
  },
  {
   "cell_type": "markdown",
   "metadata": {
    "id": "cPHC7MnzUd2B"
   },
   "source": [
    "## cast jobs to ibmq_brooklyn and save job ids\n",
    "\n",
    "indicate arbitrary job_ids_filename as you like"
   ]
  },
  {
   "cell_type": "code",
   "execution_count": 17,
   "metadata": {
    "executionInfo": {
     "elapsed": 625,
     "status": "ok",
     "timestamp": 1610811851686,
     "user": {
      "displayName": "Bo Yang",
      "photoUrl": "",
      "userId": "03206198380065904075"
     },
     "user_tz": -540
    },
    "id": "21Is3S6QS7er",
    "scrolled": true
   },
   "outputs": [
    {
     "name": "stderr",
     "output_type": "stream",
     "text": [
      "/Users/yangbo/.pyenv/versions/anaconda3-5.1.0/lib/python3.6/site-packages/ipykernel_launcher.py:1: DeprecationWarning: The `backends` provider attribute is deprecated. Please use `provider.backend` (singular) instead. You can continue to use `provider.backends()` to retrieve all backends.\n",
      "  \"\"\"Entry point for launching an IPython kernel.\n"
     ]
    }
   ],
   "source": [
    "device = provider.backends.ibmq_brooklyn\n",
    "backend = provider.get_backend('ibmq_brooklyn')"
   ]
  },
  {
   "cell_type": "code",
   "execution_count": 18,
   "metadata": {
    "colab": {
     "base_uri": "https://localhost:8080/"
    },
    "executionInfo": {
     "elapsed": 27288,
     "status": "ok",
     "timestamp": 1610811879575,
     "user": {
      "displayName": "Bo Yang",
      "photoUrl": "",
      "userId": "03206198380065904075"
     },
     "user_tz": -540
    },
    "id": "orvQXVtQS7eq",
    "outputId": "22b6c057-40cf-456f-f3dc-0b816704d710"
   },
   "outputs": [
    {
     "name": "stdout",
     "output_type": "stream",
     "text": [
      "given provider:  <AccountProvider for IBMQ(hub='ibm-q-utokyo', group='internal', project='hirashi-jst')>\n",
      "running on ibmq_brooklyn\n",
      "circuits from 0 to 152 are put on the real device.\n",
      "1 jobs\n"
     ]
    }
   ],
   "source": [
    "jobs = execute_circuits(qcs_list,\n",
    "                        backend='ibmq_brooklyn', \n",
    "                        provider=provider, \n",
    "                        shots=shots_per_circuit,\n",
    "                        max_experiments=900,\n",
    "                        optimization_level=1,\n",
    "                        initial_layout=initial_layouts_list)\n",
    "print(len(jobs), \"jobs\")"
   ]
  },
  {
   "cell_type": "code",
   "execution_count": 19,
   "metadata": {
    "executionInfo": {
     "elapsed": 25284,
     "status": "ok",
     "timestamp": 1610811879576,
     "user": {
      "displayName": "Bo Yang",
      "photoUrl": "",
      "userId": "03206198380065904075"
     },
     "user_tz": -540
    },
    "id": "7JmhwSflsxKZ"
   },
   "outputs": [],
   "source": [
    "job_ids_filename = \"job_ids_brooklyn_star.pkl\""
   ]
  },
  {
   "cell_type": "code",
   "execution_count": 20,
   "metadata": {
    "executionInfo": {
     "elapsed": 748,
     "status": "ok",
     "timestamp": 1610811906566,
     "user": {
      "displayName": "Bo Yang",
      "photoUrl": "",
      "userId": "03206198380065904075"
     },
     "user_tz": -540
    },
    "id": "vY8GBwyHS7eq"
   },
   "outputs": [],
   "source": [
    "with open(job_ids_filename, \"wb\") as f:\n",
    "    pickle.dump([job.job_id() for job in jobs], f)"
   ]
  },
  {
   "cell_type": "code",
   "execution_count": 21,
   "metadata": {
    "executionInfo": {
     "elapsed": 582,
     "status": "ok",
     "timestamp": 1610811909316,
     "user": {
      "displayName": "Bo Yang",
      "photoUrl": "",
      "userId": "03206198380065904075"
     },
     "user_tz": -540
    },
    "id": "WmBSJPged9fY"
   },
   "outputs": [],
   "source": [
    "with open(\"brooklyn_properties_star.pkl\", \"wb\") as f:\n",
    "    pickle.dump(device.properties(), f)"
   ]
  },
  {
   "cell_type": "markdown",
   "metadata": {},
   "source": [
    "## Tensored"
   ]
  },
  {
   "cell_type": "code",
   "execution_count": 22,
   "metadata": {},
   "outputs": [],
   "source": [
    "class TensoredMitigation(object):\n",
    "    \n",
    "    def __init__(self, \n",
    "                 num_qubits: int, \n",
    "                 cal_matrices: List[np.array],\n",
    "                 mit_pattern: List[List[int]] = None,\n",
    "                 meas_layout: List[int] = None):\n",
    "        \"\"\"\n",
    "        Initialize the Mitigation class\n",
    "        \n",
    "        Arguments\n",
    "            num_qubits: number of qubits (int)\n",
    "            cal_matrices: calibration matrices (list of 2 * 2 numpy array)\n",
    "            meas_layout: the mapping from classical registers to qubits\n",
    "        \"\"\"\n",
    "        self.num_qubits = num_qubits\n",
    "        self.cal_matrices = cal_matrices\n",
    "        self.mit_pattern = mit_pattern if mit_pattern is not None else [[i] for i in range(self.num_qubits)]\n",
    "        self.pinv_matrices = None\n",
    "        self.pinv_svd_matrices = None\n",
    "        \n",
    "        if meas_layout is None:\n",
    "            meas_layout = [i for i in range(self.num_qubits)]\n",
    "        meas_layout = meas_layout[::-1]  # reverse endian\n",
    "        \n",
    "        self.qubits_to_clbits = [-1 for _ in range(max(meas_layout) + 1)]\n",
    "        for i, qubit in enumerate(meas_layout):\n",
    "            self.qubits_to_clbits[qubit] = i\n",
    "    \n",
    "    def run_inv(self):\n",
    "        \"\"\"\n",
    "        Prepare inverse calibration matrices.\n",
    "        \n",
    "        Internal Method.\n",
    "        \"\"\"\n",
    "        if self.pinv_matrices is None:\n",
    "            self.pinv_matrices = list(map(np.linalg.pinv, self.cal_matrices))\n",
    "\n",
    "    def run_inv_svd(self):\n",
    "        \"\"\"\n",
    "        Do singular value decomposition of all inverse calibration matrices.\n",
    "        \n",
    "        Internal Method.\n",
    "        \"\"\"\n",
    "        self.run_inv()\n",
    "        if self.pinv_svd_matrices is None:\n",
    "            self.pinv_svd_matrices = list(map(np.linalg.svd, self.pinv_matrices))\n",
    "    \n",
    "    def flip_state(self, state: str, mat_index: int, flip_poses: List[int]) -> str:\n",
    "        \"\"\"\n",
    "        Flip the state according to the chosen qubit positions\n",
    "        \n",
    "        Arguments\n",
    "            state: label of focusing state (source state)\n",
    "            mat_index: the digit to be flipped\n",
    "            flip_poses: candidate of digit to be flipped\n",
    "        \"\"\"\n",
    "        flip_poses = [pos for i, pos in enumerate(flip_poses) if (mat_index >> i) & 1]\n",
    "        flip_poses = sorted(flip_poses)\n",
    "        new_state = \"\"\n",
    "        pos = 0\n",
    "        for flip_pos in flip_poses:\n",
    "            new_state += state[pos:flip_pos]\n",
    "            new_state += str(int(state[flip_pos], 2) ^ 1)  # flip the state\n",
    "            pos = flip_pos + 1\n",
    "        new_state += state[pos:]\n",
    "        return new_state\n",
    "\n",
    "    def compute_index_of_cal_mat(self, state: str, pos_clbits: List[int]) -> int:\n",
    "        \"\"\"\n",
    "        Return the index of (pseudo inverse) calibration matrix for the input quantum state\n",
    "        \"\"\"\n",
    "        sub_state = \"\"\n",
    "        for pos in pos_clbits:\n",
    "            sub_state += state[pos]\n",
    "        return int(sub_state, 2)\n",
    "    \n",
    "    def mitigate_one_state(self, target_state: str, counts: dict):\n",
    "        \"\"\"\n",
    "        Mitigate one state using inverse calibration matrices.\n",
    "        Time complexity of this function: O(self.num_qubits * shots)\n",
    "        \n",
    "        Arguments\n",
    "            target_state: quanutum state to be mitigated\n",
    "            counts: raw counts\n",
    "        Returns\n",
    "            new_count: mitigated count of target state (int)\n",
    "        \"\"\"\n",
    "        new_count = 0\n",
    "        for source_state in counts:# O(shots)\n",
    "            tensor_elem = 1.\n",
    "            for pinv_mat, pos_qubits in zip(self.pinv_matrices, self.mit_pattern):\n",
    "                pos_clbits = [self.qubits_to_clbits[qubit] for qubit in pos_qubits] # if completely tensored, then len(pos_clbits) == 1\n",
    "                first_index = self.compute_index_of_cal_mat(target_state, pos_clbits)\n",
    "                second_index = self.compute_index_of_cal_mat(source_state, pos_clbits)\n",
    "                tensor_elem *= pinv_mat[first_index, second_index]\n",
    "            new_count += tensor_elem * counts[source_state]\n",
    "        return new_count\n",
    "    \n",
    "    def fast_subproblem(self, x_sorted: np.array):\n",
    "        \"\"\"\n",
    "        Remove the negative elements from mitigated probability vector with sum(x_sorted) = 1\n",
    "        \n",
    "        Arguments\n",
    "            x_sorted: sorted probability vector with sum(x_sorted) = 1, x_sorted is sorted in the descending order\n",
    "        \"\"\"\n",
    "        x_tilde = []\n",
    "        bound = len(x_sorted) - 1\n",
    "        accumulator = 0\n",
    "        for _ in x_sorted:\n",
    "            # print(bound, x_sorted[bound], accumulator)\n",
    "            if x_sorted[bound] + accumulator / (bound + 1) < 0:\n",
    "                accumulator += x_sorted[bound]\n",
    "                x_tilde.append(0)\n",
    "                bound -= 1\n",
    "            else:\n",
    "                break\n",
    "        for i in range(bound + 1)[::-1]:\n",
    "            x_tilde.append(x_sorted[i] + accumulator / bound)\n",
    "            \n",
    "        return list(reversed(x_tilde))\n",
    "    \n",
    "    def apply(self,\n",
    "              counts: dict,\n",
    "              shots: int = None,\n",
    "              method: str = \"default\"):\n",
    "        \"\"\"\n",
    "        Do whole process of mitigation\n",
    "\n",
    "        Arguments\n",
    "            counts: raw counts (dict of str to int)\n",
    "            shots: total number of shot (int)\n",
    "            method: mitigation option (str)\n",
    "            \n",
    "                * \"default\": `O(n2^n)` time and `O(2^n)` space\n",
    "                    \n",
    "                \n",
    "                * \"memory_efficient\": `O(2^n)` times and `O()`\n",
    "                    \n",
    "        Returns\n",
    "            mitigated_counts: mitigated counts (dict of str to float)\n",
    "        \"\"\"\n",
    "        \n",
    "        if shots is None:\n",
    "            shots = sum(counts.values())\n",
    "        \n",
    "        # make probability vector (dict)\n",
    "        y = {state : counts[state] / shots for state in counts}\n",
    "        \n",
    "        # compute pseudo inverse and svd of all calibartion matrices\n",
    "        self.run_inv_svd()\n",
    "\n",
    "        if method==\"memory_efficient\":\n",
    "            return\n",
    "        else:\n",
    "            # mitigate raw counts y using tensored mitigation\n",
    "            x = np.zeros(2 ** self.num_qubits, dtype=float)\n",
    "            for state_idx in range(2 ** self.num_qubits):\n",
    "                x[state_idx] = self.mitigate_one_state(format(state_idx, \"0\" + str(self.num_qubits) + \"b\"), y)\n",
    "            print(\"sum of mitigated probability vector x:\", sum(x))\n",
    "        \n",
    "            # sort the mitigated counts x in descending order -> O(n * 2^n) time\n",
    "            x_argsorted = np.argsort(x)[::-1]\n",
    "            x_sorted = x[x_argsorted]\n",
    "        \n",
    "            # do fast algorthm by Smolin et al. -> O(2^n) time\n",
    "            x_tilde = self.fast_subproblem(x_sorted)\n",
    "            # print(\"len(x_tilde): \", len(x_tilde))\n",
    "            print(\"sum of mitigated probability vector x_tilde:\", sum(x_tilde))\n",
    "        \n",
    "            # recover the finally mitigated counts dict\n",
    "            new_counts = {format(state_idx, \"0\"+ str(self.num_qubits) + \"b\"): x_tilde[i] * shots for i, state_idx in enumerate(x_argsorted[:len(x_tilde)])}\n",
    "        \n",
    "            return new_counts"
   ]
  },
  {
   "cell_type": "code",
   "execution_count": 23,
   "metadata": {},
   "outputs": [],
   "source": [
    "def arrange_results_list_tensored(results_list, nums_divide_list, nums_meas_cal_list, limit=100):\n",
    "    pos = 0\n",
    "    results_graph_states = []\n",
    "    results_meas_cal = []\n",
    "    for i, (nums_divide, nums_meas_cal) in enumerate(zip(nums_divide_list, nums_meas_cal_list)): # graph wise\n",
    "        for num_divide in nums_divide: # term wise\n",
    "            results_graph_states += results_list[pos:pos + num_divide]\n",
    "            pos += num_divide\n",
    "        if i < limit: # start from 2\n",
    "            for num_meas_cal in nums_meas_cal: # term wise\n",
    "                results_meas_cal.append(merge_results(results_list[pos:pos + 2]))\n",
    "                pos += num_meas_cal\n",
    "    return results_graph_states, results_meas_cal"
   ]
  },
  {
   "cell_type": "code",
   "execution_count": 24,
   "metadata": {},
   "outputs": [
    {
     "name": "stdout",
     "output_type": "stream",
     "text": [
      "1\n",
      "length of results_list:  152\n",
      "length of results_meas_cal:  38\n"
     ]
    }
   ],
   "source": [
    "with open(job_ids_filename, \"rb\") as f:\n",
    "     job_ids = pickle.load(f)\n",
    "results_jobs_list = job_ids_to_result(job_ids, device)\n",
    "print(len(results_jobs_list))\n",
    "results_list = flatten_results_jobs_list(results_jobs_list)\n",
    "print(\"length of results_list: \", len(results_list))\n",
    "del results_jobs_list\n",
    "results_graph_states, results_meas_cal = arrange_results_list_tensored(results_list, nums_divide_list, nums_meas_cal_list, limit=100)\n",
    "print(\"length of results_meas_cal: \", len(results_meas_cal))\n",
    "del results_list"
   ]
  },
  {
   "cell_type": "code",
   "execution_count": 25,
   "metadata": {
    "colab": {
     "base_uri": "https://localhost:8080/"
    },
    "executionInfo": {
     "elapsed": 1204,
     "status": "ok",
     "timestamp": 1610828285228,
     "user": {
      "displayName": "Bo Yang",
      "photoUrl": "",
      "userId": "03206198380065904075"
     },
     "user_tz": -540
    },
    "id": "b5KQLDyJmqa2",
    "outputId": "4268b6ab-b36c-4013-955c-038a0428faf5"
   },
   "outputs": [
    {
     "name": "stdout",
     "output_type": "stream",
     "text": [
      "length of counts_dict_list:  76\n"
     ]
    }
   ],
   "source": [
    "counts_dict_list = results_list_to_counts_dict_list(results_graph_states)\n",
    "print(\"length of counts_dict_list: \", len(counts_dict_list))\n",
    "del results_graph_states"
   ]
  },
  {
   "cell_type": "code",
   "execution_count": 26,
   "metadata": {},
   "outputs": [
    {
     "name": "stdout",
     "output_type": "stream",
     "text": [
      "length of tensored_meas_mitigator_list:  38\n"
     ]
    }
   ],
   "source": [
    "tensored_meas_mitigator_list = []\n",
    "for n in range(2,max_size + 1):\n",
    "    qr = qiskit.QuantumRegister(n)\n",
    "    mit_pattern = [[i] for i in range(n)]\n",
    "    meas_fitter = TensoredMeasFitter(results_meas_cal[n - 2], mit_pattern=mit_pattern).filter\n",
    "    meas_filter = TensoredMitigation(n, meas_fitter.cal_matrices, mit_pattern)\n",
    "    tensored_meas_mitigator_list.append( meas_filter )\n",
    "print(\"length of tensored_meas_mitigator_list: \", len(tensored_meas_mitigator_list))\n",
    "del results_meas_cal"
   ]
  },
  {
   "cell_type": "markdown",
   "metadata": {
    "id": "2_jndc_V4sRp"
   },
   "source": [
    "## compute correlation"
   ]
  },
  {
   "cell_type": "code",
   "execution_count": 27,
   "metadata": {
    "executionInfo": {
     "elapsed": 672,
     "status": "ok",
     "timestamp": 1610828288772,
     "user": {
      "displayName": "Bo Yang",
      "photoUrl": "",
      "userId": "03206198380065904075"
     },
     "user_tz": -540
    },
    "id": "pcj72iST2QhM"
   },
   "outputs": [],
   "source": [
    "def analyze_circuits_tensored(adj_lists, counts_dict_list, tensored_meas_mitigator_list=None, limit=100, method='fast', threshold=0.1):\n",
    "    \"\"\"\n",
    "    Input\n",
    "        adj_lists         : list of adjacency list\n",
    "        counts_list       : list of int list (list of counts)\n",
    "        meas_mitigator : measurement mitigator\n",
    "    Output\n",
    "        expval_all_list : list of float (correlation of each graph)\n",
    "        stddev_all_list : list of float (standard deviation of each graph)\n",
    "        Es_all_list   : list of list (term-wise correlation of each graph)\n",
    "        Ds_all_list   : list of list (term-wise stddev of each graph)\n",
    "    \"\"\"\n",
    "    expval_all_list, stddev_all_list, Es_all_list, Ds_all_list = [], [], [], []\n",
    "    # begin = 0\n",
    "    for adj_list in adj_lists:\n",
    "        t1 = time.time()\n",
    "        n = len(adj_list)\n",
    "        if n > limit:\n",
    "            break\n",
    "        print(\"graph size:\", n)\n",
    "        if n <= 1:\n",
    "            print(\"skipped\\n\")\n",
    "            expval_all_list.append(0)\n",
    "            stddev_all_list.append(0)\n",
    "            Es_all_list.append([])\n",
    "            Ds_all_list.append([])\n",
    "            continue\n",
    "\n",
    "        # for the first term\n",
    "        print(\"first term\")\n",
    "        counts = tensored_meas_mitigator_list[n - 2].apply( counts_dict_list[2 * (n - 2)], method=method) # n = 2 -> 0, n = 10 -> 16\n",
    "        expval1, stddev1 = mit.expectation_value(counts,\n",
    "                                                 qubits=range(n),\n",
    "                                                 clbits=range(n),\n",
    "                                                 meas_mitigator=None)\n",
    "        Es_1, Ds_1 = [expval1], [stddev1]\n",
    "        # begin += 1 # update index of counts_dict_list\n",
    "\n",
    "\n",
    "        # for the second term\n",
    "        print(\"second term\")\n",
    "        Es_2, Ds_2 = [], []\n",
    "        sum_expval2, sum_stddev2 = 0, 0\n",
    "        counts = tensored_meas_mitigator_list[n - 2].apply( counts_dict_list[2 * (n - 2) + 1], method=method) # n = 2 -> 1, n = 10 -> 17\n",
    "        for pos in range(1, n): # recover the two qubit expectation values\n",
    "            expval2, stddev2 = mit.expectation_value(extract_two_qubit_counts(counts, 0, pos), \n",
    "                                                     qubits=[0,pos],\n",
    "                                                     clbits=[0,pos],\n",
    "                                                     meas_mitigator=None)\n",
    "            Es_2.append(expval2)\n",
    "            Ds_2.append(stddev2)\n",
    "        sum_stddev2 = compute_stddev_of_grouping(Ds_2)\n",
    "        # begin += 1 # update index of counts_dict_list\n",
    "\n",
    "        sum_expval = np.sqrt(2) * ((n - 1) * sum(Es_1) + sum(Es_2))\n",
    "        sum_stddev = np.sqrt(2 * ((stddev1 * (n - 1)) ** 2 +  sum_stddev2 ** 2) )\n",
    "        Es = [Es_1, Es_2]\n",
    "        Ds = [Ds_1, Ds_2]\n",
    "\n",
    "        expval_all_list.append(sum_expval)\n",
    "        stddev_all_list.append(sum_stddev)\n",
    "        Es_all_list.append(Es)\n",
    "        Ds_all_list.append(Ds)\n",
    "        t2 = time.time()\n",
    "        print(\"time:\", t2 - t1)\n",
    "        print(\"total correlation:\", sum_expval, \"\\n\\n\")\n",
    "    return expval_all_list, stddev_all_list, Es_all_list, Ds_all_list"
   ]
  },
  {
   "cell_type": "code",
   "execution_count": 28,
   "metadata": {
    "colab": {
     "base_uri": "https://localhost:8080/"
    },
    "executionInfo": {
     "elapsed": 896,
     "status": "ok",
     "timestamp": 1610828299949,
     "user": {
      "displayName": "Bo Yang",
      "photoUrl": "",
      "userId": "03206198380065904075"
     },
     "user_tz": -540
    },
    "id": "M1kitM7wOFC_",
    "outputId": "e187080d-749b-47ac-f1b1-e56601b8d69d",
    "scrolled": true
   },
   "outputs": [
    {
     "name": "stdout",
     "output_type": "stream",
     "text": [
      "graph size: 1\n",
      "skipped\n",
      "\n",
      "graph size: 2\n",
      "total correlation: 2.0981874556985596 \n",
      "\n",
      "graph size: 3\n",
      "total correlation: 4.213292993564179 \n",
      "\n",
      "graph size: 4\n",
      "total correlation: 5.900267472508258 \n",
      "\n",
      "graph size: 5\n",
      "total correlation: 7.542357243662174 \n",
      "\n",
      "graph size: 6\n",
      "total correlation: 9.307016793781532 \n",
      "\n",
      "graph size: 7\n",
      "total correlation: 10.104928791497406 \n",
      "\n",
      "graph size: 8\n",
      "total correlation: 9.597041059502576 \n",
      "\n",
      "graph size: 9\n",
      "total correlation: 11.106203042201013 \n",
      "\n",
      "graph size: 10\n",
      "total correlation: 12.704789173496772 \n",
      "\n",
      "graph size: 11\n",
      "total correlation: 12.962013075832699 \n",
      "\n",
      "graph size: 12\n",
      "total correlation: 9.104690341742803 \n",
      "\n",
      "graph size: 13\n",
      "total correlation: 8.731111466135456 \n",
      "\n",
      "graph size: 14\n",
      "total correlation: 9.897078067730657 \n",
      "\n",
      "graph size: 15\n",
      "total correlation: 11.428337137341174 \n",
      "\n",
      "graph size: 16\n",
      "total correlation: 10.530988248520941 \n",
      "\n",
      "graph size: 17\n",
      "total correlation: 19.18821258029413 \n",
      "\n",
      "graph size: 18\n",
      "total correlation: 19.419886725887967 \n",
      "\n",
      "graph size: 19\n",
      "total correlation: 21.121707685101097 \n",
      "\n",
      "graph size: 20\n",
      "total correlation: 20.65801412693043 \n",
      "\n",
      "graph size: 21\n",
      "total correlation: 22.519003165307133 \n",
      "\n",
      "graph size: 22\n",
      "total correlation: 22.29872283015234 \n",
      "\n",
      "graph size: 23\n",
      "total correlation: 20.881747131915233 \n",
      "\n",
      "graph size: 24\n",
      "total correlation: 19.088775689189774 \n",
      "\n",
      "graph size: 25\n",
      "total correlation: 20.79439458521592 \n",
      "\n",
      "graph size: 26\n",
      "total correlation: 22.380205838140633 \n",
      "\n",
      "graph size: 27\n",
      "total correlation: 20.443603330486656 \n",
      "\n",
      "graph size: 28\n",
      "total correlation: 1.7404908613092707 \n",
      "\n",
      "graph size: 29\n",
      "total correlation: 27.133496393118758 \n",
      "\n",
      "graph size: 30\n",
      "total correlation: 26.95326702799211 \n",
      "\n",
      "graph size: 31\n",
      "total correlation: 28.153415060904432 \n",
      "\n",
      "graph size: 32\n",
      "total correlation: 26.36251522007698 \n",
      "\n",
      "graph size: 33\n",
      "total correlation: 27.862009727251383 \n",
      "\n",
      "graph size: 34\n",
      "total correlation: 25.209668763835825 \n",
      "\n",
      "graph size: 35\n",
      "total correlation: 28.842222691991914 \n",
      "\n",
      "graph size: 36\n",
      "total correlation: 30.640718406445394 \n",
      "\n",
      "graph size: 37\n",
      "total correlation: 25.999984887925674 \n",
      "\n",
      "graph size: 38\n",
      "total correlation: 32.31319167210342 \n",
      "\n",
      "graph size: 39\n",
      "total correlation: 29.831757865273477 \n",
      "\n"
     ]
    }
   ],
   "source": [
    "# without CTMP mitigation\n",
    "corr_list_real, stddev_list_real, Es_list_real, Ds_list_real = analyze_circuits_for_star_graph(adj_lists, \n",
    "                                                                                            counts_dict_list,\n",
    "                                                                                            None)"
   ]
  },
  {
   "cell_type": "code",
   "execution_count": 29,
   "metadata": {
    "scrolled": true
   },
   "outputs": [
    {
     "name": "stdout",
     "output_type": "stream",
     "text": [
      "graph size: 1\n",
      "skipped\n",
      "\n",
      "graph size: 2\n",
      "first term\n",
      "sum of mitigated probability vector x: 0.9999999999999996\n",
      "sum of mitigated probability vector x_tilde: 0.9999999999999996\n",
      "second term\n",
      "sum of mitigated probability vector x: 0.9999999999999996\n",
      "sum of mitigated probability vector x_tilde: 0.9999999999999996\n",
      "time: 0.001983165740966797\n",
      "total correlation: 2.4835857715474963 \n",
      "\n",
      "\n",
      "graph size: 3\n",
      "first term\n",
      "sum of mitigated probability vector x: 0.9999999999999993\n",
      "sum of mitigated probability vector x_tilde: 0.9999999999999994\n",
      "second term\n",
      "sum of mitigated probability vector x: 0.9999999999999993\n",
      "sum of mitigated probability vector x_tilde: 0.9996148057464612\n",
      "time: 0.0025997161865234375\n",
      "total correlation: 4.894749661933201 \n",
      "\n",
      "\n",
      "graph size: 4\n",
      "first term\n",
      "sum of mitigated probability vector x: 0.9999999999999996\n",
      "sum of mitigated probability vector x_tilde: 0.9999999999999996\n",
      "second term\n",
      "sum of mitigated probability vector x: 0.9999999999999996\n",
      "sum of mitigated probability vector x_tilde: 0.9982027610042701\n",
      "time: 0.006607770919799805\n",
      "total correlation: 7.145998576301514 \n",
      "\n",
      "\n",
      "graph size: 5\n",
      "first term\n",
      "sum of mitigated probability vector x: 1.0000000000000009\n",
      "sum of mitigated probability vector x_tilde: 1.0000000000000009\n",
      "second term\n",
      "sum of mitigated probability vector x: 1.0000000000000007\n",
      "sum of mitigated probability vector x_tilde: 0.9997508666531508\n",
      "time: 0.023051977157592773\n",
      "total correlation: 9.16531898138195 \n",
      "\n",
      "\n",
      "graph size: 6\n",
      "first term\n",
      "sum of mitigated probability vector x: 1.000000000000001\n",
      "sum of mitigated probability vector x_tilde: 0.9999956816113788\n",
      "second term\n",
      "sum of mitigated probability vector x: 1.000000000000001\n",
      "sum of mitigated probability vector x_tilde: 0.9994660285621346\n",
      "time: 0.08178091049194336\n",
      "total correlation: 11.630808388672467 \n",
      "\n",
      "\n",
      "graph size: 7\n",
      "first term\n",
      "sum of mitigated probability vector x: 1.000000000000001\n",
      "sum of mitigated probability vector x_tilde: 0.9999970977975757\n",
      "second term\n",
      "sum of mitigated probability vector x: 1.0000000000000013\n",
      "sum of mitigated probability vector x_tilde: 0.9993778147288989\n",
      "time: 0.3273470401763916\n",
      "total correlation: 13.052376245235997 \n",
      "\n",
      "\n",
      "graph size: 8\n",
      "first term\n",
      "sum of mitigated probability vector x: 1.0000000000000002\n",
      "sum of mitigated probability vector x_tilde: 0.9999999999999999\n",
      "second term\n",
      "sum of mitigated probability vector x: 1.0000000000000007\n",
      "sum of mitigated probability vector x_tilde: 0.9996922172760395\n",
      "time: 1.3058640956878662\n",
      "total correlation: 11.873608138446897 \n",
      "\n",
      "\n",
      "graph size: 9\n",
      "first term\n",
      "sum of mitigated probability vector x: 1.000000000000001\n",
      "sum of mitigated probability vector x_tilde: 0.9999992562757715\n",
      "second term\n",
      "sum of mitigated probability vector x: 0.9999999999999994\n",
      "sum of mitigated probability vector x_tilde: 0.9996382451155215\n",
      "time: 5.1295177936553955\n",
      "total correlation: 13.648206255679465 \n",
      "\n",
      "\n",
      "graph size: 10\n",
      "first term\n",
      "sum of mitigated probability vector x: 0.9999999999999999\n",
      "sum of mitigated probability vector x_tilde: 0.9999957560271138\n",
      "second term\n",
      "sum of mitigated probability vector x: 1.0000000000000009\n",
      "sum of mitigated probability vector x_tilde: 0.999644241613324\n",
      "time: 20.46113419532776\n",
      "total correlation: 15.656623864933465 \n",
      "\n",
      "\n",
      "graph size: 11\n",
      "first term\n",
      "sum of mitigated probability vector x: 1.000000000000001\n",
      "sum of mitigated probability vector x_tilde: 0.9999908453333731\n",
      "second term\n",
      "sum of mitigated probability vector x: 0.9999999999999999\n",
      "sum of mitigated probability vector x_tilde: 0.9996749222506542\n",
      "time: 84.33279204368591\n",
      "total correlation: 16.16418967404486 \n",
      "\n",
      "\n",
      "graph size: 12\n",
      "first term\n",
      "sum of mitigated probability vector x: 1.0000000000000007\n",
      "sum of mitigated probability vector x_tilde: 0.9999836573522833\n",
      "second term\n",
      "sum of mitigated probability vector x: 1.000000000000005\n",
      "sum of mitigated probability vector x_tilde: 0.9996995332736535\n",
      "time: 408.7553369998932\n",
      "total correlation: 8.70610923328739 \n",
      "\n",
      "\n"
     ]
    }
   ],
   "source": [
    "# with tensored mitigation\n",
    "tensored_corr_list_real, tensored_stddev_list_real, tensored_Es_list_real, tensored_Ds_list_real = analyze_circuits_tensored(adj_lists, \n",
    "                                                                                                                            counts_dict_list,\n",
    "                                                                                                                            tensored_meas_mitigator_list,\n",
    "                                                                                                                            limit=12,\n",
    "                                                                                                                            method=\"default\")"
   ]
  },
  {
   "cell_type": "code",
   "execution_count": 30,
   "metadata": {},
   "outputs": [],
   "source": [
    "tensored_size = 12"
   ]
  },
  {
   "cell_type": "code",
   "execution_count": 31,
   "metadata": {
    "executionInfo": {
     "elapsed": 616352,
     "status": "ok",
     "timestamp": 1610829002692,
     "user": {
      "displayName": "Bo Yang",
      "photoUrl": "",
      "userId": "03206198380065904075"
     },
     "user_tz": -540
    },
    "id": "AIsrZM49S7eu"
   },
   "outputs": [],
   "source": [
    "# theoretical bounds\n",
    "c_bounds = [2 * i for i in range(max_size)]\n",
    "q_bounds = [2 * np.sqrt(2) * i for i in range(max_size)]"
   ]
  },
  {
   "cell_type": "markdown",
   "metadata": {
    "id": "suNXUgRhbt_M"
   },
   "source": [
    "## Plot correlations"
   ]
  },
  {
   "cell_type": "code",
   "execution_count": 32,
   "metadata": {
    "colab": {
     "base_uri": "https://localhost:8080/",
     "height": 294
    },
    "executionInfo": {
     "elapsed": 797,
     "status": "ok",
     "timestamp": 1610831203535,
     "user": {
      "displayName": "Bo Yang",
      "photoUrl": "",
      "userId": "03206198380065904075"
     },
     "user_tz": -540
    },
    "id": "uXhSZLMNS7eu",
    "outputId": "14db31d7-40a8-4348-f1ab-4f1dde99102d"
   },
   "outputs": [
    {
     "data": {
      "image/png": "[encoded data removed]",
      "text/plain": [
       "<Figure size 432x288 with 1 Axes>"
      ]
     },
     "metadata": {
      "needs_background": "light"
     },
     "output_type": "display_data"
    }
   ],
   "source": [
    "plt.clf()\n",
    "plt.plot(list(range(1, max_size + 1)), c_bounds[:max_size], label=\"Classical bounds\", marker=\"o\", markersize=3)\n",
    "plt.plot(list(range(1, max_size + 1)), q_bounds[:max_size], label=\"Quantum bounds\", marker=\"x\", markersize=3)\n",
    "plt.errorbar(list(range(1, max_size + 1)), corr_list_real[:max_size], label=\"Actual correlations\", fmt=\"v\", yerr=stddev_list_real[:max_size], capsize=3)\n",
    "plt.errorbar(list(range(1, tensored_size + 1)), tensored_corr_list_real[:tensored_size], label=\"Mitigated correlations\", fmt=\"*\", yerr=tensored_stddev_list_real[:tensored_size], capsize=3)\n",
    "plt.legend(bbox_to_anchor=(1.05, 1), loc='upper left', borderaxespad=0)\n",
    "plt.xlabel(\"graph size\")\n",
    "plt.ylabel(\"correlation\")\n",
    "plt.xticks(list(range(max_size + 2)))\n",
    "plt.title(\"correlation of star graphs (ibmq_brooklyn)\")\n",
    "plt.show()"
   ]
  },
  {
   "cell_type": "code",
   "execution_count": 33,
   "metadata": {},
   "outputs": [
    {
     "data": {
      "image/png": "[encoded data removed]",
      "text/plain": [
       "<Figure size 432x288 with 1 Axes>"
      ]
     },
     "metadata": {
      "needs_background": "light"
     },
     "output_type": "display_data"
    }
   ],
   "source": [
    "plt.clf()\n",
    "plt.plot(list(range(1, max_size + 1)), c_bounds[:max_size], label=\"Classical bounds\") # , marker=\"o\", markersize=3)\n",
    "plt.plot(list(range(1, max_size + 1)), q_bounds[:max_size], label=\"Quantum bounds\") # , marker=\"x\", markersize=3)\n",
    "plt.errorbar(list(range(1, max_size + 1)), corr_list_real[:max_size], label=\"Actual correlations\", fmt=\"o\", yerr=stddev_list_real[:max_size], capsize=3)\n",
    "plt.errorbar(list(range(1, tensored_size + 1)), tensored_corr_list_real[:tensored_size], label=\"Mitigated correlations\", fmt=\"*\", yerr=tensored_stddev_list_real[:tensored_size], capsize=3)\n",
    "plt.legend(bbox_to_anchor=(1.05, 1), loc='upper left', borderaxespad=0)\n",
    "plt.xlabel(\"graph size\")\n",
    "plt.ylabel(\"correlation\")\n",
    "plt.xticks(list(range(max_size + 2))[::2])\n",
    "plt.title(\"correlation of star graphs (ibmq_brooklyn)\")\n",
    "plt.show()"
   ]
  },
  {
   "cell_type": "code",
   "execution_count": 34,
   "metadata": {
    "executionInfo": {
     "elapsed": 728,
     "status": "ok",
     "timestamp": 1610831208563,
     "user": {
      "displayName": "Bo Yang",
      "photoUrl": "",
      "userId": "03206198380065904075"
     },
     "user_tz": -540
    },
    "id": "E6ZP3z57S7eu",
    "scrolled": true
   },
   "outputs": [],
   "source": [
    "each_corr_list = [[0]] + [E_1 + Es_2 for E_1, Es_2 in Es_list_real[1:]]\n",
    "tp_each_corr_list = []\n",
    "for i in range(len(each_corr_list)):\n",
    "    tp_each_corr_list.append([each_corr_list[j][i] for j in range(i, len(each_corr_list))])"
   ]
  },
  {
   "cell_type": "code",
   "execution_count": 35,
   "metadata": {
    "executionInfo": {
     "elapsed": 884,
     "status": "ok",
     "timestamp": 1610831208863,
     "user": {
      "displayName": "Bo Yang",
      "photoUrl": "",
      "userId": "03206198380065904075"
     },
     "user_tz": -540
    },
    "id": "hURa_Ys5ZAVX"
   },
   "outputs": [],
   "source": [
    "each_stddev_list = [[0]] + [D_1 + Ds_2 for D_1, Ds_2 in Ds_list_real[1:]]\n",
    "tp_each_stddev_list = []\n",
    "for i in range(len(each_stddev_list)):\n",
    "    tp_each_stddev_list.append([each_stddev_list[j][i] for j in range(i, len(each_stddev_list))])"
   ]
  },
  {
   "cell_type": "code",
   "execution_count": 36,
   "metadata": {
    "colab": {
     "base_uri": "https://localhost:8080/",
     "height": 454
    },
    "executionInfo": {
     "elapsed": 1171,
     "status": "ok",
     "timestamp": 1610831211195,
     "user": {
      "displayName": "Bo Yang",
      "photoUrl": "",
      "userId": "03206198380065904075"
     },
     "user_tz": -540
    },
    "id": "dNLAmHZUS7eu",
    "outputId": "42dcfbd2-e683-494d-b16b-20efa7381775"
   },
   "outputs": [
    {
     "data": {
      "image/png": "[encoded data removed]",
      "text/plain": [
       "<Figure size 432x288 with 1 Axes>"
      ]
     },
     "metadata": {
      "needs_background": "light"
     },
     "output_type": "display_data"
    }
   ],
   "source": [
    "plt.clf()\n",
    "for i, (each_corr, each_stddev) in enumerate(zip(tp_each_corr_list, tp_each_stddev_list)):\n",
    "    if i == 0:\n",
    "        plt.plot(list(range(2, max_size + 1)), each_corr[1:], color=[min(1, 2*i/max_size), 0, min(1, 2*(1-i/max_size))])\n",
    "        plt.errorbar(list(range(2, max_size + 1)), each_corr[1:], label=str(i), color=[min(1, 2*i/max_size), 0, min(1, 2*(1-i/max_size))], fmt=\"x\", yerr=each_stddev[1:], capsize=3)\n",
    "    else:\n",
    "        plt.plot(list(range(i+1, max_size + 1)), each_corr, color=[min(1, 2*i/max_size), 0, min(1, 2*(1-i/max_size))])\n",
    "        plt.errorbar(list(range(i+1, max_size + 1)), each_corr, label=str(i), color=[min(1, 2*i/max_size), 0, min(1, 2*(1-i/max_size))], fmt=\"v\", yerr=each_stddev, capsize=3)\n",
    "#  plt.plot(list(range(1, max_size + 1)), damped_vibration, label=\"damped vibration\", color=[0, 0, 1])\n",
    "plt.legend(bbox_to_anchor=(1.05, 1), loc='upper left', borderaxespad=0)\n",
    "plt.xlabel(\"graph size\")\n",
    "plt.ylabel(\"correlation\")\n",
    "plt.xticks(list(range(max_size + 2)))\n",
    "plt.ylim([-1,1])\n",
    "plt.title(\"correlation of each term (ibmq_brooklyn)\")\n",
    "plt.show()"
   ]
  },
  {
   "cell_type": "code",
   "execution_count": 37,
   "metadata": {
    "executionInfo": {
     "elapsed": 672,
     "status": "ok",
     "timestamp": 1610831214722,
     "user": {
      "displayName": "Bo Yang",
      "photoUrl": "",
      "userId": "03206198380065904075"
     },
     "user_tz": -540
    },
    "id": "ADOKuOVES7ev"
   },
   "outputs": [],
   "source": [
    "mitigated_each_corr_list = [[0]] + [E_1 + Es_2 for E_1, Es_2 in tensored_Es_list_real[1:]]\n",
    "mitigated_tp_each_corr_list = []\n",
    "for i in range(len(mitigated_each_corr_list)):\n",
    "    mitigated_tp_each_corr_list.append([mitigated_each_corr_list[j][i] for j in range(i, len(mitigated_each_corr_list))])"
   ]
  },
  {
   "cell_type": "code",
   "execution_count": 38,
   "metadata": {
    "executionInfo": {
     "elapsed": 419,
     "status": "ok",
     "timestamp": 1610831215014,
     "user": {
      "displayName": "Bo Yang",
      "photoUrl": "",
      "userId": "03206198380065904075"
     },
     "user_tz": -540
    },
    "id": "14Ug4Xzx3gPK"
   },
   "outputs": [],
   "source": [
    "mitigated_each_stddev_list = [[0]] + [D_1 + Ds_2 for D_1, Ds_2 in tensored_Ds_list_real[1:]]\n",
    "mitigated_tp_each_stddev_list = []\n",
    "for i in range(len(mitigated_each_stddev_list)):\n",
    "    mitigated_tp_each_stddev_list.append([mitigated_each_stddev_list[j][i] for j in range(i, len(mitigated_each_stddev_list))])"
   ]
  },
  {
   "cell_type": "code",
   "execution_count": 39,
   "metadata": {
    "colab": {
     "base_uri": "https://localhost:8080/",
     "height": 294
    },
    "executionInfo": {
     "elapsed": 1048,
     "status": "ok",
     "timestamp": 1610831217808,
     "user": {
      "displayName": "Bo Yang",
      "photoUrl": "",
      "userId": "03206198380065904075"
     },
     "user_tz": -540
    },
    "id": "dyPyB6L4a6Cw",
    "outputId": "2009dd08-4fc9-467a-f43d-ce65ad7f18c9"
   },
   "outputs": [
    {
     "data": {
      "image/png": "[encoded data removed]",
      "text/plain": [
       "<Figure size 432x288 with 1 Axes>"
      ]
     },
     "metadata": {
      "needs_background": "light"
     },
     "output_type": "display_data"
    }
   ],
   "source": [
    "plt.clf()\n",
    "for i, (each_corr, each_stddev) in enumerate(zip(mitigated_tp_each_corr_list, mitigated_tp_each_stddev_list)):\n",
    "    if i == 0:\n",
    "        plt.plot(list(range(2, tensored_size + 1)), each_corr[1:], color=[min(1, 2*i/tensored_size), 0, min(1, 2*(1-i/tensored_size))])\n",
    "        plt.errorbar(list(range(2, tensored_size + 1)), each_corr[1:], label=str(i), color=[min(1, 2*i/tensored_size), 0, min(1, 2*(1-i/tensored_size))], fmt=\"x\", yerr=each_stddev[1:], capsize=3)\n",
    "    else:\n",
    "        plt.plot(list(range(i+1, tensored_size + 1)), each_corr, color=[min(1, 2*i/tensored_size), 0, min(1, 2*(1-i/tensored_size))])\n",
    "        plt.errorbar(list(range(i+1, tensored_size + 1)), each_corr, label=str(i), color=[min(1, 2*i/tensored_size), 0, min(1, 2*(1-i/tensored_size))], fmt=\"v\", yerr=each_stddev, capsize=3)\n",
    "#  plt.plot(list(range(1, tensored_size + 1)), damped_vibration, label=\"damped vibration\", color=[0, 0, 1])\n",
    "plt.legend(bbox_to_anchor=(1.05, 1), loc='upper left', borderaxespad=0)\n",
    "plt.xlabel(\"graph size\")\n",
    "plt.ylabel(\"correlation\")\n",
    "plt.xticks(list(range(tensored_size + 2)))\n",
    "plt.ylim([-1,1])\n",
    "plt.title(\"mitigated correlation of each term (ibmq_brooklyn)\")\n",
    "plt.show()"
   ]
  },
  {
   "cell_type": "code",
   "execution_count": 42,
   "metadata": {
    "id": "xa0r3IeFhuKk"
   },
   "outputs": [
    {
     "data": {
      "image/png": "[encoded data removed]",
      "text/plain": [
       "<Figure size 432x288 with 1 Axes>"
      ]
     },
     "metadata": {
      "needs_background": "light"
     },
     "output_type": "display_data"
    }
   ],
   "source": [
    "plt.clf()\n",
    "for i, (each_corr, each_stddev) in enumerate(zip(mitigated_tp_each_corr_list, mitigated_tp_each_stddev_list)):\n",
    "    if i == 0:\n",
    "        plt.plot(list(range(2, tensored_size + 1)), each_corr[1:], color=[min(1, 2*i/tensored_size), 0, min(1, 2*(1-i/tensored_size))])\n",
    "        plt.errorbar(list(range(2, tensored_size + 1)), each_corr[1:], label=str(i), color=[min(1, 2*i/tensored_size), 0, min(1, 2*(1-i/tensored_size))], fmt=\"x\", yerr=each_stddev[1:], capsize=3)\n",
    "    else:\n",
    "        plt.plot(list(range(i+1, tensored_size + 1)), each_corr, color=[min(1, 2*i/tensored_size), 0, min(1, 2*(1-i/tensored_size))])\n",
    "        plt.errorbar(list(range(i+1, tensored_size + 1)), each_corr, label=str(i), color=[min(1, 2*i/tensored_size), 0, min(1, 2*(1-i/tensored_size))], fmt=\"v\", yerr=each_stddev, capsize=3)\n",
    "#  plt.plot(list(range(1, tensored_size + 1)), damped_vibration, label=\"damped vibration\", color=[0, 0, 1])\n",
    "plt.legend(bbox_to_anchor=(1.05, 1), loc='upper left', borderaxespad=0)\n",
    "plt.xlabel(\"graph size\")\n",
    "plt.ylabel(\"correlation\")\n",
    "plt.xticks(list(range(tensored_size + 2)))\n",
    "plt.ylim([-1,1.1])\n",
    "plt.title(\"mitigated correlation of each term (ibmq_brooklyn)\")\n",
    "plt.show()"
   ]
  },
  {
   "cell_type": "code",
   "execution_count": null,
   "metadata": {},
   "outputs": [],
   "source": []
  },
  {
   "cell_type": "code",
   "execution_count": null,
   "metadata": {},
   "outputs": [],
   "source": []
  }
 ],
 "metadata": {
  "colab": {
   "collapsed_sections": [],
   "name": "sydney_new.ipynb",
   "provenance": []
  },
  "kernelspec": {
   "display_name": "Python 3",
   "language": "python",
   "name": "python3"
  },
  "language_info": {
   "codemirror_mode": {
    "name": "ipython",
    "version": 3
   },
   "file_extension": ".py",
   "mimetype": "text/x-python",
   "name": "python",
   "nbconvert_exporter": "python",
   "pygments_lexer": "ipython3",
   "version": "3.6.13"
  }
 },
 "nbformat": 4,
 "nbformat_minor": 1
}
