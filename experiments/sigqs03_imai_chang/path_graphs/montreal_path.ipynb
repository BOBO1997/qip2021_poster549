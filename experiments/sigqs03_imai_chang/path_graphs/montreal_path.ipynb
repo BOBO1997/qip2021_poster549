{
 "cells": [
  {
   "cell_type": "code",
   "execution_count": 1,
   "metadata": {},
   "outputs": [
    {
     "name": "stderr",
     "output_type": "stream",
     "text": [
      "/Users/yangbo/.pyenv/versions/anaconda3-5.1.0/lib/python3.6/site-packages/qiskit/__init__.py:67: DeprecationWarning: Using Qiskit with Python 3.6 is deprecated as of the 0.17.0 release. Support for running Qiskit with Python 3.6 will be removed in a future release.\n",
      "  \"future release.\", DeprecationWarning)\n"
     ]
    }
   ],
   "source": [
    "import sys\n",
    "import numpy as np\n",
    "import matplotlib.pyplot as plt\n",
    "%matplotlib inline\n",
    "# from jupyterthemes import jtplot\n",
    "# jtplot.style(theme='monokai')\n",
    "from IPython.display import Image, display\n",
    "import pickle\n",
    "import pprint\n",
    "\n",
    "import qiskit\n",
    "from qiskit import QuantumCircuit, Aer, execute\n",
    "from qiskit.providers.aer.noise import NoiseModel\n",
    "import qiskit.providers.aer.noise as noise\n",
    "from qiskit import IBMQ\n",
    "from qiskit.tools.visualization import plot_histogram\n",
    "from qiskit.tools.monitor import job_monitor\n",
    "import qiskit.ignis.mitigation as mit"
   ]
  },
  {
   "cell_type": "code",
   "execution_count": 2,
   "metadata": {},
   "outputs": [],
   "source": [
    "import importlib\n",
    "import bell_ineq\n",
    "importlib.reload(bell_ineq)\n",
    "from bell_ineq import *\n",
    "import graph_lib\n",
    "from graph_lib import *\n",
    "import graph_state_lib\n",
    "from graph_state_lib import *"
   ]
  },
  {
   "cell_type": "code",
   "execution_count": 3,
   "metadata": {},
   "outputs": [
    {
     "name": "stdout",
     "output_type": "stream",
     "text": [
      "<AccountProvider for IBMQ(hub='ibm-q-utokyo', group='internal', project='hirashi-jst')>\n"
     ]
    }
   ],
   "source": [
    "IBMQ.load_account()\n",
    "provider = IBMQ.get_provider(hub='ibm-q-utokyo', group='internal', project='hirashi-jst')\n",
    "print(provider) "
   ]
  },
  {
   "cell_type": "code",
   "execution_count": 4,
   "metadata": {},
   "outputs": [],
   "source": [
    "vertex_list = [20,19,16,14,11,8,5,3,2,1,4,7,10,12,15,18,21,23,24,25,26]\n",
    "max_size = len(vertex_list) # largest graph size\n",
    "initial_layouts = [vertex_list[:n] for n in range(1, max_size + 1)] # initial_layouts\n",
    "F_list = [3 * i + 1 for i in range(max_size // 3)] # subset of focused vertices of graph size max_size\n",
    "Fs = [F_list[:(n+1) // 3] for n in range(1, max_size + 1)] # subsets of focused vertices of graph size 1 to max_size\n",
    "adj_lists = [adjacency_list_for_path_graph(n) for n in range(1, max_size + 1)] # adjacency list of graph size 1 to max_size\n",
    "graphs = [list_to_matrix(adj_list) for adj_list in adj_lists] # adjacency matrix of graph size 1 to max_size\n",
    "shots_per_circuit = 1 << 13 # shots per one execution\n",
    "shots_scale_per_graph = [1 << 5] * len(adj_lists) # the scale of shots of each graph\n",
    "graph_sizes = [len(adj_list) for adj_list in adj_lists]"
   ]
  },
  {
   "cell_type": "code",
   "execution_count": 5,
   "metadata": {
    "scrolled": true
   },
   "outputs": [
    {
     "name": "stdout",
     "output_type": "stream",
     "text": [
      "1024\n"
     ]
    }
   ],
   "source": [
    "parity_table = make_parity_table(10)\n",
    "print(len(parity_table))"
   ]
  },
  {
   "cell_type": "code",
   "execution_count": 6,
   "metadata": {},
   "outputs": [
    {
     "name": "stdout",
     "output_type": "stream",
     "text": [
      "max_size: 21\n",
      "shots_per_circuit: 8192\n",
      "shots_scale_per_graph: [32, 32, 32, 32, 32, 32, 32, 32, 32, 32, 32, 32, 32, 32, 32, 32, 32, 32, 32, 32, 32]\n",
      "graph_sizes: [1, 2, 3, 4, 5, 6, 7, 8, 9, 10, 11, 12, 13, 14, 15, 16, 17, 18, 19, 20, 21]\n",
      "F_list: [1, 4, 7, 10, 13, 16, 19]\n",
      "[1, 2, 3, 4, 5, 6, 7, 8, 9, 10, 11, 12, 13, 14, 15, 16, 17, 18, 19, 20, 21]\n",
      "[[20],\n",
      " [20, 19],\n",
      " [20, 19, 16],\n",
      " [20, 19, 16, 14],\n",
      " [20, 19, 16, 14, 11],\n",
      " [20, 19, 16, 14, 11, 8],\n",
      " [20, 19, 16, 14, 11, 8, 5],\n",
      " [20, 19, 16, 14, 11, 8, 5, 3],\n",
      " [20, 19, 16, 14, 11, 8, 5, 3, 2],\n",
      " [20, 19, 16, 14, 11, 8, 5, 3, 2, 1],\n",
      " [20, 19, 16, 14, 11, 8, 5, 3, 2, 1, 4],\n",
      " [20, 19, 16, 14, 11, 8, 5, 3, 2, 1, 4, 7],\n",
      " [20, 19, 16, 14, 11, 8, 5, 3, 2, 1, 4, 7, 10],\n",
      " [20, 19, 16, 14, 11, 8, 5, 3, 2, 1, 4, 7, 10, 12],\n",
      " [20, 19, 16, 14, 11, 8, 5, 3, 2, 1, 4, 7, 10, 12, 15],\n",
      " [20, 19, 16, 14, 11, 8, 5, 3, 2, 1, 4, 7, 10, 12, 15, 18],\n",
      " [20, 19, 16, 14, 11, 8, 5, 3, 2, 1, 4, 7, 10, 12, 15, 18, 21],\n",
      " [20, 19, 16, 14, 11, 8, 5, 3, 2, 1, 4, 7, 10, 12, 15, 18, 21, 23],\n",
      " [20, 19, 16, 14, 11, 8, 5, 3, 2, 1, 4, 7, 10, 12, 15, 18, 21, 23, 24],\n",
      " [20, 19, 16, 14, 11, 8, 5, 3, 2, 1, 4, 7, 10, 12, 15, 18, 21, 23, 24, 25],\n",
      " [20, 19, 16, 14, 11, 8, 5, 3, 2, 1, 4, 7, 10, 12, 15, 18, 21, 23, 24, 25, 26]]\n"
     ]
    }
   ],
   "source": [
    "print(\"max_size:\", max_size)\n",
    "print(\"shots_per_circuit:\", shots_per_circuit)\n",
    "print(\"shots_scale_per_graph:\", shots_scale_per_graph)\n",
    "print(\"graph_sizes:\", graph_sizes)\n",
    "print(\"F_list:\", F_list)\n",
    "print([len(i) for i in initial_layouts])\n",
    "pprint.pprint(initial_layouts)"
   ]
  },
  {
   "cell_type": "code",
   "execution_count": 7,
   "metadata": {},
   "outputs": [
    {
     "name": "stderr",
     "output_type": "stream",
     "text": [
      "/Users/yangbo/.pyenv/versions/anaconda3-5.1.0/lib/python3.6/site-packages/qiskit/circuit/quantumcircuit.py:876: DeprecationWarning: The QuantumCircuit.extend() method is being deprecated. Use the compose() (potentially with the inplace=True argument) and tensor() methods which are more flexible w.r.t circuit register compatibility.\n",
      "  return self.extend(rhs)\n"
     ]
    },
    {
     "name": "stdout",
     "output_type": "stream",
     "text": [
      "230 quantum circuits\n"
     ]
    }
   ],
   "source": [
    "qcs = [path_graph_state(size) for size in range(1, max_size+1)]\n",
    "qcs_list, nums_divide_list = prepare_qcs_list(qcs, \n",
    "                                              adj_lists, \n",
    "                                              Fs, \n",
    "                                              shots_per_circuit, \n",
    "                                              shots_scale_per_graph,\n",
    "                                              measure_last=True,\n",
    "                                              optimization_level=1)\n",
    "ops_qcs_list = [qc.count_ops() for qc in qcs_list]\n",
    "print(len(qcs_list), \"quantum circuits\")"
   ]
  },
  {
   "cell_type": "code",
   "execution_count": 8,
   "metadata": {},
   "outputs": [
    {
     "data": {
      "image/png": "[encoded data removed]",
      "text/plain": [
       "<Figure size 606.129x385.28 with 1 Axes>"
      ]
     },
     "execution_count": 8,
     "metadata": {},
     "output_type": "execute_result"
    }
   ],
   "source": [
    "qcs_list[10].draw(\"mpl\")"
   ]
  },
  {
   "cell_type": "code",
   "execution_count": 9,
   "metadata": {},
   "outputs": [],
   "source": [
    "exec_initial_layout = []\n",
    "for i, num_circuits in enumerate([len(nums_divide) for nums_divide in nums_divide_list]):\n",
    "    exec_initial_layout += [initial_layouts[i]] * num_circuits"
   ]
  },
  {
   "cell_type": "code",
   "execution_count": 10,
   "metadata": {
    "scrolled": true
   },
   "outputs": [
    {
     "name": "stdout",
     "output_type": "stream",
     "text": [
      "given provider:  <AccountProvider for IBMQ(hub='ibm-q-utokyo', group='internal', project='hirashi-jst')>\n",
      "running on ibmq_montreal\n",
      "circuits from 0 to 230 are put on the real device.\n",
      "1 jobs\n"
     ]
    }
   ],
   "source": [
    "jobs = execute_circuits(qcs_list,\n",
    "                        backend='ibmq_montreal', \n",
    "                        provider=provider, \n",
    "                        shots=shots_per_circuit,\n",
    "                        max_experiments=900,\n",
    "                        optimization_level=1,\n",
    "                        initial_layout=exec_initial_layout)\n",
    "print(len(jobs), \"jobs\")"
   ]
  },
  {
   "cell_type": "code",
   "execution_count": 11,
   "metadata": {},
   "outputs": [],
   "source": [
    "with open(\"job_ids_montreal_path.pkl\", \"wb\") as f:\n",
    "    pickle.dump([job.job_id() for job in jobs], f)"
   ]
  },
  {
   "cell_type": "code",
   "execution_count": 13,
   "metadata": {},
   "outputs": [
    {
     "name": "stderr",
     "output_type": "stream",
     "text": [
      "/Users/yangbo/.pyenv/versions/anaconda3-5.1.0/lib/python3.6/site-packages/ipykernel_launcher.py:1: DeprecationWarning: The `backends` provider attribute is deprecated. Please use `provider.backend` (singular) instead. You can continue to use `provider.backends()` to retrieve all backends.\n",
      "  \"\"\"Entry point for launching an IPython kernel.\n"
     ]
    }
   ],
   "source": [
    "device = provider.backends.ibmq_montreal\n",
    "backend = provider.get_backend('ibmq_montreal')\n",
    "with open(\"montreal_properties_path.pkl\", \"wb\") as f:\n",
    "    pickle.dump(device.properties(), f)"
   ]
  },
  {
   "cell_type": "code",
   "execution_count": 17,
   "metadata": {},
   "outputs": [],
   "source": [
    "with open(\"job_ids_montreal_path.pkl\", \"rb\") as f:\n",
    "    job_ids = pickle.load(f)"
   ]
  },
  {
   "cell_type": "code",
   "execution_count": 18,
   "metadata": {},
   "outputs": [
    {
     "name": "stdout",
     "output_type": "stream",
     "text": [
      "230\n"
     ]
    }
   ],
   "source": [
    "counts_dict_list = job_ids_to_counts(job_ids, device)\n",
    "print(len(counts_dict_list))"
   ]
  },
  {
   "cell_type": "code",
   "execution_count": 19,
   "metadata": {},
   "outputs": [],
   "source": [
    "def analyze_circuits(adj_lists, Fs, counts_list):\n",
    "    \"\"\"\n",
    "    Input\n",
    "        adj_lists         : list of adjacency list\n",
    "        Fs                : list of vertex subset\n",
    "        counts_list       : list of int list (list of counts)\n",
    "    Output\n",
    "        corr_all_list : list of float (correlation of each graph)\n",
    "        stddev_all_list : list of float (standard deviation of each graph)\n",
    "        Es_all_list   : list of list (term-wise correlation of each graph)\n",
    "        Ds_all_list   : list of list (term-wise stddev of each graph)\n",
    "    \"\"\"\n",
    "    assert len(adj_lists) == len(Fs)\n",
    "    corr_all_list, stddev_all_list, Es_all_list, Ds_all_list = [], [], [], []\n",
    "    begin = 0\n",
    "    for adj_list, F in zip(adj_lists, Fs):\n",
    "        print(\"graph size:\", len(adj_list))\n",
    "        Es_F, Ds_F, corr_F, n = [], [], 0, len(adj_list)\n",
    "        if n <= 1:\n",
    "            print(\"skipped\\n\")\n",
    "            corr_all_list.append(0)\n",
    "            stddev_all_list.append(0)\n",
    "            Es_all_list.append([])\n",
    "            Ds_all_list.append([])\n",
    "            continue\n",
    "        remaining = remaining_vertices(adj_list, n, F)\n",
    "        for m in F:\n",
    "            # corr_itself = E(shots_per_circuit * next(nums_divide), counts_list[begin], parity_table)\n",
    "            corr_itself, stddev_itself = mit.expectation_value(counts_list[begin])\n",
    "            corr_deg, begin = corr_itself * len(adj_list[m]), begin + 1\n",
    "            Es_m, Ds_m = [corr_itself], [stddev_itself * len(adj_list[m])]\n",
    "            for j, _ in enumerate(adj_list[m]):\n",
    "                expval, stddev = mit.expectation_value(counts_list[begin:begin + len(adj_list[m])][j])\n",
    "                Es_m.append(expval)\n",
    "                Ds_m.append(stddev)\n",
    "                # + [E(shots_per_circuit * next(nums_divide), counts_list[begin:begin + len(adj_list[m])][j], parity_table) for j, v in enumerate(adj_list[m])]\n",
    "            sum_corr, begin = corr_deg + sum(Es_m[1:]), begin + len(adj_list[m])\n",
    "            print(\"correlation on n[\", m, \"]:\", sum_corr)\n",
    "            corr_F += sum_corr\n",
    "            Es_F.append(Es_m)\n",
    "            Ds_F.append(Ds_m)\n",
    "\n",
    "        # remainig part\n",
    "        # Es_R = [E(shots_per_circuit * next(nums_divide), counts_list[begin:begin+len(remaining)][i], parity_table) for i, v in enumerate(remaining)]\n",
    "        Es_R, Ds_R = [], []\n",
    "        for i, _ in enumerate(remaining):\n",
    "            expval, stddev = mit.expectation_value(counts_list[begin:begin+len(remaining)][i])\n",
    "            Es_R.append(expval)\n",
    "            Ds_R.append(stddev)\n",
    "        corr_R = sum(Es_R)\n",
    "        begin += len(remaining)\n",
    "        print(\"correlation on remaining vertices:\", corr_R)\n",
    "\n",
    "        corr_F *= np.sqrt(2)\n",
    "        corr_all = corr_F + corr_R\n",
    "        corr_all_list.append(corr_all)\n",
    "        # print(Ds_F, Ds_R)\n",
    "        stddev_all_list.append(np.sqrt(2 * sum([dev ** 2 for Ds_m in Ds_F for dev in Ds_m]) + sum([dev ** 2 for dev in Ds_R])) )\n",
    "        Es_all_list.append([Es_F, Es_R])\n",
    "        Ds_all_list.append([Ds_F, Ds_R])\n",
    "        print(\"total correlation:\", corr_all, \"\\n\")\n",
    "    return corr_all_list, stddev_all_list, Es_all_list, Ds_all_list"
   ]
  },
  {
   "cell_type": "code",
   "execution_count": 20,
   "metadata": {
    "scrolled": true
   },
   "outputs": [
    {
     "name": "stdout",
     "output_type": "stream",
     "text": [
      "graph size: 1\n",
      "skipped\n",
      "\n",
      "graph size: 2\n",
      "correlation on n[ 1 ]: 1.883544921875\n",
      "correlation on remaining vertices: 0\n",
      "total correlation: 2.663734773854597 \n",
      "\n",
      "graph size: 3\n",
      "correlation on n[ 1 ]: 3.606689453125\n",
      "correlation on remaining vertices: 0\n",
      "total correlation: 5.100629139877377 \n",
      "\n",
      "graph size: 4\n",
      "correlation on n[ 1 ]: 3.5869140625\n",
      "correlation on remaining vertices: 0.923828125\n",
      "total correlation: 5.996490639254276 \n",
      "\n",
      "graph size: 5\n",
      "correlation on n[ 1 ]: 3.57275390625\n",
      "correlation on n[ 4 ]: 1.797607421875\n",
      "correlation on remaining vertices: 0\n",
      "total correlation: 7.594837825078363 \n",
      "\n",
      "graph size: 6\n",
      "correlation on n[ 1 ]: 3.5849609375\n",
      "correlation on n[ 4 ]: 3.5986328125\n",
      "correlation on remaining vertices: 0\n",
      "total correlation: 10.159135707828602 \n",
      "\n",
      "graph size: 7\n",
      "correlation on n[ 1 ]: 3.543701171875\n",
      "correlation on n[ 4 ]: 3.541015625\n",
      "correlation on remaining vertices: 0.9208984375\n",
      "total correlation: 10.940201017213097 \n",
      "\n",
      "graph size: 8\n",
      "correlation on n[ 1 ]: 3.563232421875\n",
      "correlation on n[ 4 ]: 3.5380859375\n",
      "correlation on n[ 7 ]: 1.806884765625\n",
      "correlation on remaining vertices: 0\n",
      "total correlation: 12.598101675749389 \n",
      "\n",
      "graph size: 9\n",
      "correlation on n[ 1 ]: 3.554443359375\n",
      "correlation on n[ 4 ]: 3.54638671875\n",
      "correlation on n[ 7 ]: 3.478515625\n",
      "correlation on remaining vertices: 0\n",
      "total correlation: 14.961454174392903 \n",
      "\n",
      "graph size: 10\n",
      "correlation on n[ 1 ]: 3.549072265625\n",
      "correlation on n[ 4 ]: 3.53125\n",
      "correlation on n[ 7 ]: 3.414306640625\n",
      "correlation on remaining vertices: 0.89599609375\n",
      "total correlation: 15.737642625041472 \n",
      "\n",
      "graph size: 11\n",
      "correlation on n[ 1 ]: 3.573974609375\n",
      "correlation on n[ 4 ]: 3.568115234375\n",
      "correlation on n[ 7 ]: 3.426025390625\n",
      "correlation on n[ 10 ]: 1.74755859375\n",
      "correlation on remaining vertices: 0\n",
      "total correlation: 17.41699295749775 \n",
      "\n",
      "graph size: 12\n",
      "correlation on n[ 1 ]: 3.58544921875\n",
      "correlation on n[ 4 ]: 3.555908203125\n",
      "correlation on n[ 7 ]: 3.419677734375\n",
      "correlation on n[ 10 ]: 3.298828125\n",
      "correlation on remaining vertices: 0\n",
      "total correlation: 19.600806624980617 \n",
      "\n",
      "graph size: 13\n",
      "correlation on n[ 1 ]: 3.57958984375\n",
      "correlation on n[ 4 ]: 3.549560546875\n",
      "correlation on n[ 7 ]: 3.441162109375\n",
      "correlation on n[ 10 ]: 3.30810546875\n",
      "correlation on remaining vertices: 0.90185546875\n",
      "total correlation: 20.528902384438712 \n",
      "\n",
      "graph size: 14\n",
      "correlation on n[ 1 ]: 3.59033203125\n",
      "correlation on n[ 4 ]: 3.55126953125\n",
      "correlation on n[ 7 ]: 3.401611328125\n",
      "correlation on n[ 10 ]: 3.27880859375\n",
      "correlation on n[ 13 ]: 1.730712890625\n",
      "correlation on remaining vertices: 0\n",
      "total correlation: 21.994887885111243 \n",
      "\n",
      "graph size: 15\n",
      "correlation on n[ 1 ]: 3.588623046875\n",
      "correlation on n[ 4 ]: 3.556884765625\n",
      "correlation on n[ 7 ]: 3.40625\n",
      "correlation on n[ 10 ]: 3.279541015625\n",
      "correlation on n[ 13 ]: 3.31787109375\n",
      "correlation on remaining vertices: 0\n",
      "total correlation: 24.25258868695638 \n",
      "\n",
      "graph size: 16\n",
      "correlation on n[ 1 ]: 3.576171875\n",
      "correlation on n[ 4 ]: 3.541748046875\n",
      "correlation on n[ 7 ]: 3.439697265625\n",
      "correlation on n[ 10 ]: 3.27001953125\n",
      "correlation on n[ 13 ]: 3.22509765625\n",
      "correlation on remaining vertices: 0.825927734375\n",
      "total correlation: 24.942135963045885 \n",
      "\n",
      "graph size: 17\n",
      "correlation on n[ 1 ]: 3.578125\n",
      "correlation on n[ 4 ]: 3.539794921875\n",
      "correlation on n[ 7 ]: 3.42041015625\n",
      "correlation on n[ 10 ]: 3.2841796875\n",
      "correlation on n[ 13 ]: 3.266357421875\n",
      "correlation on n[ 16 ]: 1.564453125\n",
      "correlation on remaining vertices: 0\n",
      "total correlation: 26.379778569227042 \n",
      "\n",
      "graph size: 18\n",
      "correlation on n[ 1 ]: 3.552734375\n",
      "correlation on n[ 4 ]: 3.552734375\n",
      "correlation on n[ 7 ]: 3.3955078125\n",
      "correlation on n[ 10 ]: 3.284423828125\n",
      "correlation on n[ 13 ]: 3.255126953125\n",
      "correlation on n[ 16 ]: 3.085693359375\n",
      "correlation on remaining vertices: 0\n",
      "total correlation: 28.462774277673546 \n",
      "\n",
      "graph size: 19\n",
      "correlation on n[ 1 ]: 3.580322265625\n",
      "correlation on n[ 4 ]: 3.550537109375\n",
      "correlation on n[ 7 ]: 3.406005859375\n",
      "correlation on n[ 10 ]: 3.279541015625\n",
      "correlation on n[ 13 ]: 3.274658203125\n",
      "correlation on n[ 16 ]: 2.90576171875\n",
      "correlation on remaining vertices: 0.7333984375\n",
      "total correlation: 29.013181214182886 \n",
      "\n",
      "graph size: 20\n",
      "correlation on n[ 1 ]: 3.5546875\n",
      "correlation on n[ 4 ]: 3.54931640625\n",
      "correlation on n[ 7 ]: 3.42041015625\n",
      "correlation on n[ 10 ]: 3.31005859375\n",
      "correlation on n[ 13 ]: 3.2578125\n",
      "correlation on n[ 16 ]: 2.9228515625\n",
      "correlation on n[ 19 ]: 0.2158203125\n",
      "correlation on remaining vertices: 0\n",
      "total correlation: 28.61089381338108 \n",
      "\n",
      "graph size: 21\n",
      "correlation on n[ 1 ]: 3.571044921875\n",
      "correlation on n[ 4 ]: 3.544677734375\n",
      "correlation on n[ 7 ]: 3.3974609375\n",
      "correlation on n[ 10 ]: 3.28173828125\n",
      "correlation on n[ 13 ]: 3.267822265625\n",
      "correlation on n[ 16 ]: 2.932373046875\n",
      "correlation on n[ 19 ]: 1.299560546875\n",
      "correlation on remaining vertices: 0\n",
      "total correlation: 30.1152220583175 \n",
      "\n"
     ]
    }
   ],
   "source": [
    "corr_list_real, stddev_list_real, Es_list_real, Ds_list_real = analyze_circuits(adj_lists, \n",
    "                                                Fs, \n",
    "                                                counts_dict_list)"
   ]
  },
  {
   "cell_type": "code",
   "execution_count": 21,
   "metadata": {},
   "outputs": [],
   "source": [
    "c_bounds = [0] + [n + (n // 3) for n in range(2, max_size + 1)]\n",
    "q_bounds = [0]\n",
    "for n in range(2, max_size + 1):\n",
    "    q_bounds.append( 2 * (np.sqrt(2) * 2 - 1) * (n // 3) + n - ((n + 1) // 3))\n",
    "    if (n + 1) % 3 == 0:\n",
    "        q_bounds[-1] += (np.sqrt(2) * 2 - 1)"
   ]
  },
  {
   "cell_type": "code",
   "execution_count": 22,
   "metadata": {},
   "outputs": [
    {
     "data": {
      "image/png": "[encoded data removed]",
      "text/plain": [
       "<Figure size 432x288 with 1 Axes>"
      ]
     },
     "metadata": {
      "needs_background": "light"
     },
     "output_type": "display_data"
    }
   ],
   "source": [
    "plt.clf()\n",
    "plt.plot(list(range(1, max_size + 1)), c_bounds, label=\"Classical bounds\") # , marker=\"o\", markersize=1)\n",
    "plt.plot(list(range(1, max_size + 1)), q_bounds, label=\"Quantum bounds\") # , marker=\"x\", markersize=1)\n",
    "plt.errorbar(list(range(1, max_size + 1)), corr_list_real, label=\"Actual correlations\", fmt=\"o\", yerr=stddev_list_real, capsize=3)\n",
    "# plt.errorbar(list(range(1, 11 + 1)), tensored_corr_list_real, label=\"Mitigated correlations\", fmt=\"*\", yerr=tensored_stddev_list_real, capsize=3)\n",
    "plt.legend(bbox_to_anchor=(1.05, 1), loc='upper left', borderaxespad=0)\n",
    "plt.xlabel(\"graph size\")\n",
    "plt.ylabel(\"correlation\")\n",
    "plt.xticks(list(range(max_size + 2)))\n",
    "plt.title(\"correlation of path graphs (ibmq_montreal)\")\n",
    "plt.show()"
   ]
  },
  {
   "cell_type": "code",
   "execution_count": null,
   "metadata": {},
   "outputs": [],
   "source": []
  }
 ],
 "metadata": {
  "kernelspec": {
   "display_name": "Python 3",
   "language": "python",
   "name": "python3"
  },
  "language_info": {
   "codemirror_mode": {
    "name": "ipython",
    "version": 3
   },
   "file_extension": ".py",
   "mimetype": "text/x-python",
   "name": "python",
   "nbconvert_exporter": "python",
   "pygments_lexer": "ipython3",
   "version": "3.6.13"
  }
 },
 "nbformat": 4,
 "nbformat_minor": 4
}
