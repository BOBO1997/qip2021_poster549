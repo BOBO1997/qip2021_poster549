{
 "cells": [
  {
   "cell_type": "code",
   "execution_count": 1,
   "metadata": {},
   "outputs": [
    {
     "name": "stderr",
     "output_type": "stream",
     "text": [
      "/Users/yangbo/.pyenv/versions/anaconda3-5.1.0/lib/python3.6/site-packages/qiskit/__init__.py:67: DeprecationWarning: Using Qiskit with Python 3.6 is deprecated as of the 0.17.0 release. Support for running Qiskit with Python 3.6 will be removed in a future release.\n",
      "  \"future release.\", DeprecationWarning)\n"
     ]
    }
   ],
   "source": [
    "import sys\n",
    "import numpy as np\n",
    "import matplotlib.pyplot as plt\n",
    "%matplotlib inline\n",
    "# from jupyterthemes import jtplot\n",
    "# jtplot.style(theme='monokai')\n",
    "from IPython.display import Image, display\n",
    "import pickle\n",
    "import pprint\n",
    "\n",
    "import qiskit\n",
    "from qiskit import QuantumCircuit, Aer, execute\n",
    "from qiskit.providers.aer.noise import NoiseModel\n",
    "import qiskit.providers.aer.noise as noise\n",
    "from qiskit import IBMQ\n",
    "from qiskit.tools.visualization import plot_histogram\n",
    "from qiskit.tools.monitor import job_monitor\n",
    "import qiskit.ignis.mitigation as mit"
   ]
  },
  {
   "cell_type": "code",
   "execution_count": 2,
   "metadata": {},
   "outputs": [],
   "source": [
    "import importlib\n",
    "import bell_ineq\n",
    "importlib.reload(bell_ineq)\n",
    "from bell_ineq import *\n",
    "import graph_lib\n",
    "from graph_lib import *\n",
    "import graph_state_lib\n",
    "from graph_state_lib import *"
   ]
  },
  {
   "cell_type": "code",
   "execution_count": 3,
   "metadata": {},
   "outputs": [
    {
     "name": "stdout",
     "output_type": "stream",
     "text": [
      "<AccountProvider for IBMQ(hub='ibm-q-utokyo', group='internal', project='hirashi-jst')>\n"
     ]
    }
   ],
   "source": [
    "IBMQ.load_account()\n",
    "provider = IBMQ.get_provider(hub='ibm-q-utokyo', group='internal', project='hirashi-jst')\n",
    "print(provider) "
   ]
  },
  {
   "cell_type": "code",
   "execution_count": 4,
   "metadata": {},
   "outputs": [],
   "source": [
    "vertex_list = [20,19,16,14,11,8,5,3,2,1,4,7,10,12,15,18,21,23,24,25,26]\n",
    "max_size = len(vertex_list) # largest graph size\n",
    "initial_layouts = [vertex_list[:n] for n in range(1, max_size + 1)] # initial_layouts\n",
    "F_list = [3 * i + 1 for i in range(max_size // 3)] # subset of focused vertices of graph size max_size\n",
    "Fs = [F_list[:(n+1) // 3] for n in range(1, max_size + 1)] # subsets of focused vertices of graph size 1 to max_size\n",
    "adj_lists = [adjacency_list_for_path_graph(n) for n in range(1, max_size + 1)] # adjacency list of graph size 1 to max_size\n",
    "graphs = [list_to_matrix(adj_list) for adj_list in adj_lists] # adjacency matrix of graph size 1 to max_size\n",
    "shots_per_circuit = 1 << 13 # shots per one execution\n",
    "shots_scale_per_graph = [1 << 5] * len(adj_lists) # the scale of shots of each graph\n",
    "graph_sizes = [len(adj_list) for adj_list in adj_lists]"
   ]
  },
  {
   "cell_type": "code",
   "execution_count": 5,
   "metadata": {
    "scrolled": true
   },
   "outputs": [
    {
     "name": "stdout",
     "output_type": "stream",
     "text": [
      "1024\n"
     ]
    }
   ],
   "source": [
    "parity_table = make_parity_table(10)\n",
    "print(len(parity_table))"
   ]
  },
  {
   "cell_type": "code",
   "execution_count": 6,
   "metadata": {},
   "outputs": [
    {
     "name": "stdout",
     "output_type": "stream",
     "text": [
      "max_size: 21\n",
      "shots_per_circuit: 8192\n",
      "shots_scale_per_graph: [32, 32, 32, 32, 32, 32, 32, 32, 32, 32, 32, 32, 32, 32, 32, 32, 32, 32, 32, 32, 32]\n",
      "graph_sizes: [1, 2, 3, 4, 5, 6, 7, 8, 9, 10, 11, 12, 13, 14, 15, 16, 17, 18, 19, 20, 21]\n",
      "F_list: [1, 4, 7, 10, 13, 16, 19]\n",
      "[1, 2, 3, 4, 5, 6, 7, 8, 9, 10, 11, 12, 13, 14, 15, 16, 17, 18, 19, 20, 21]\n",
      "[[20],\n",
      " [20, 19],\n",
      " [20, 19, 16],\n",
      " [20, 19, 16, 14],\n",
      " [20, 19, 16, 14, 11],\n",
      " [20, 19, 16, 14, 11, 8],\n",
      " [20, 19, 16, 14, 11, 8, 5],\n",
      " [20, 19, 16, 14, 11, 8, 5, 3],\n",
      " [20, 19, 16, 14, 11, 8, 5, 3, 2],\n",
      " [20, 19, 16, 14, 11, 8, 5, 3, 2, 1],\n",
      " [20, 19, 16, 14, 11, 8, 5, 3, 2, 1, 4],\n",
      " [20, 19, 16, 14, 11, 8, 5, 3, 2, 1, 4, 7],\n",
      " [20, 19, 16, 14, 11, 8, 5, 3, 2, 1, 4, 7, 10],\n",
      " [20, 19, 16, 14, 11, 8, 5, 3, 2, 1, 4, 7, 10, 12],\n",
      " [20, 19, 16, 14, 11, 8, 5, 3, 2, 1, 4, 7, 10, 12, 15],\n",
      " [20, 19, 16, 14, 11, 8, 5, 3, 2, 1, 4, 7, 10, 12, 15, 18],\n",
      " [20, 19, 16, 14, 11, 8, 5, 3, 2, 1, 4, 7, 10, 12, 15, 18, 21],\n",
      " [20, 19, 16, 14, 11, 8, 5, 3, 2, 1, 4, 7, 10, 12, 15, 18, 21, 23],\n",
      " [20, 19, 16, 14, 11, 8, 5, 3, 2, 1, 4, 7, 10, 12, 15, 18, 21, 23, 24],\n",
      " [20, 19, 16, 14, 11, 8, 5, 3, 2, 1, 4, 7, 10, 12, 15, 18, 21, 23, 24, 25],\n",
      " [20, 19, 16, 14, 11, 8, 5, 3, 2, 1, 4, 7, 10, 12, 15, 18, 21, 23, 24, 25, 26]]\n"
     ]
    }
   ],
   "source": [
    "print(\"max_size:\", max_size)\n",
    "print(\"shots_per_circuit:\", shots_per_circuit)\n",
    "print(\"shots_scale_per_graph:\", shots_scale_per_graph)\n",
    "print(\"graph_sizes:\", graph_sizes)\n",
    "print(\"F_list:\", F_list)\n",
    "print([len(i) for i in initial_layouts])\n",
    "pprint.pprint(initial_layouts)"
   ]
  },
  {
   "cell_type": "code",
   "execution_count": 7,
   "metadata": {},
   "outputs": [
    {
     "name": "stderr",
     "output_type": "stream",
     "text": [
      "/Users/yangbo/.pyenv/versions/anaconda3-5.1.0/lib/python3.6/site-packages/qiskit/circuit/quantumcircuit.py:876: DeprecationWarning: The QuantumCircuit.extend() method is being deprecated. Use the compose() (potentially with the inplace=True argument) and tensor() methods which are more flexible w.r.t circuit register compatibility.\n",
      "  return self.extend(rhs)\n"
     ]
    },
    {
     "name": "stdout",
     "output_type": "stream",
     "text": [
      "230 quantum circuits\n"
     ]
    }
   ],
   "source": [
    "qcs = [path_graph_state(size) for size in range(1, max_size+1)]\n",
    "qcs_list, nums_divide_list = prepare_qcs_list(qcs, \n",
    "                                              adj_lists, \n",
    "                                              Fs, \n",
    "                                              shots_per_circuit, \n",
    "                                              shots_scale_per_graph,\n",
    "                                              measure_last=True,\n",
    "                                              optimization_level=1)\n",
    "ops_qcs_list = [qc.count_ops() for qc in qcs_list]\n",
    "print(len(qcs_list), \"quantum circuits\")"
   ]
  },
  {
   "cell_type": "code",
   "execution_count": 8,
   "metadata": {},
   "outputs": [
    {
     "data": {
      "image/png": "[encoded data removed]",
      "text/plain": [
       "<Figure size 606.129x385.28 with 1 Axes>"
      ]
     },
     "execution_count": 8,
     "metadata": {},
     "output_type": "execute_result"
    }
   ],
   "source": [
    "qcs_list[10].draw(\"mpl\")"
   ]
  },
  {
   "cell_type": "code",
   "execution_count": 9,
   "metadata": {},
   "outputs": [],
   "source": [
    "exec_initial_layout = []\n",
    "for i, num_circuits in enumerate([len(nums_divide) for nums_divide in nums_divide_list]):\n",
    "    exec_initial_layout += [initial_layouts[i]] * num_circuits"
   ]
  },
  {
   "cell_type": "code",
   "execution_count": 10,
   "metadata": {
    "scrolled": true
   },
   "outputs": [
    {
     "name": "stdout",
     "output_type": "stream",
     "text": [
      "given provider:  <AccountProvider for IBMQ(hub='ibm-q-utokyo', group='internal', project='hirashi-jst')>\n",
      "running on ibm_kawasaki\n",
      "circuits from 0 to 230 are put on the real device.\n",
      "1 jobs\n"
     ]
    }
   ],
   "source": [
    "jobs = execute_circuits(qcs_list,\n",
    "                        backend='ibm_kawasaki', \n",
    "                        provider=provider, \n",
    "                        shots=shots_per_circuit,\n",
    "                        max_experiments=900,\n",
    "                        optimization_level=1,\n",
    "                        initial_layout=exec_initial_layout)\n",
    "print(len(jobs), \"jobs\")"
   ]
  },
  {
   "cell_type": "code",
   "execution_count": 11,
   "metadata": {},
   "outputs": [],
   "source": [
    "with open(\"job_ids_kawasaki_path.pkl\", \"wb\") as f:\n",
    "    pickle.dump([job.job_id() for job in jobs], f)"
   ]
  },
  {
   "cell_type": "code",
   "execution_count": 12,
   "metadata": {},
   "outputs": [
    {
     "name": "stderr",
     "output_type": "stream",
     "text": [
      "/Users/yangbo/.pyenv/versions/anaconda3-5.1.0/lib/python3.6/site-packages/ipykernel_launcher.py:1: DeprecationWarning: The `backends` provider attribute is deprecated. Please use `provider.backend` (singular) instead. You can continue to use `provider.backends()` to retrieve all backends.\n",
      "  \"\"\"Entry point for launching an IPython kernel.\n"
     ]
    }
   ],
   "source": [
    "device = provider.backends.ibm_kawasaki\n",
    "backend = provider.get_backend('ibm_kawasaki')\n",
    "with open(\"kawasaki_properties_path.pkl\", \"wb\") as f:\n",
    "    pickle.dump(device.properties(), f)"
   ]
  },
  {
   "cell_type": "code",
   "execution_count": 13,
   "metadata": {},
   "outputs": [],
   "source": [
    "with open(\"job_ids_kawasaki_path.pkl\", \"rb\") as f:\n",
    "    job_ids = pickle.load(f)"
   ]
  },
  {
   "cell_type": "code",
   "execution_count": 14,
   "metadata": {},
   "outputs": [
    {
     "name": "stdout",
     "output_type": "stream",
     "text": [
      "230\n"
     ]
    }
   ],
   "source": [
    "counts_dict_list = job_ids_to_counts(job_ids, device)\n",
    "print(len(counts_dict_list))"
   ]
  },
  {
   "cell_type": "code",
   "execution_count": 15,
   "metadata": {},
   "outputs": [],
   "source": [
    "def analyze_circuits(adj_lists, Fs, counts_list):\n",
    "    \"\"\"\n",
    "    Input\n",
    "        adj_lists         : list of adjacency list\n",
    "        Fs                : list of vertex subset\n",
    "        counts_list       : list of int list (list of counts)\n",
    "    Output\n",
    "        corr_all_list : list of float (correlation of each graph)\n",
    "        stddev_all_list : list of float (standard deviation of each graph)\n",
    "        Es_all_list   : list of list (term-wise correlation of each graph)\n",
    "        Ds_all_list   : list of list (term-wise stddev of each graph)\n",
    "    \"\"\"\n",
    "    assert len(adj_lists) == len(Fs)\n",
    "    corr_all_list, stddev_all_list, Es_all_list, Ds_all_list = [], [], [], []\n",
    "    begin = 0\n",
    "    for adj_list, F in zip(adj_lists, Fs):\n",
    "        print(\"graph size:\", len(adj_list))\n",
    "        Es_F, Ds_F, corr_F, n = [], [], 0, len(adj_list)\n",
    "        if n <= 1:\n",
    "            print(\"skipped\\n\")\n",
    "            corr_all_list.append(0)\n",
    "            stddev_all_list.append(0)\n",
    "            Es_all_list.append([])\n",
    "            Ds_all_list.append([])\n",
    "            continue\n",
    "        remaining = remaining_vertices(adj_list, n, F)\n",
    "        for m in F:\n",
    "            # corr_itself = E(shots_per_circuit * next(nums_divide), counts_list[begin], parity_table)\n",
    "            corr_itself, stddev_itself = mit.expectation_value(counts_list[begin])\n",
    "            corr_deg, begin = corr_itself * len(adj_list[m]), begin + 1\n",
    "            Es_m, Ds_m = [corr_itself], [stddev_itself * len(adj_list[m])]\n",
    "            for j, _ in enumerate(adj_list[m]):\n",
    "                expval, stddev = mit.expectation_value(counts_list[begin:begin + len(adj_list[m])][j])\n",
    "                Es_m.append(expval)\n",
    "                Ds_m.append(stddev)\n",
    "                # + [E(shots_per_circuit * next(nums_divide), counts_list[begin:begin + len(adj_list[m])][j], parity_table) for j, v in enumerate(adj_list[m])]\n",
    "            sum_corr, begin = corr_deg + sum(Es_m[1:]), begin + len(adj_list[m])\n",
    "            print(\"correlation on n[\", m, \"]:\", sum_corr)\n",
    "            corr_F += sum_corr\n",
    "            Es_F.append(Es_m)\n",
    "            Ds_F.append(Ds_m)\n",
    "\n",
    "        # remainig part\n",
    "        # Es_R = [E(shots_per_circuit * next(nums_divide), counts_list[begin:begin+len(remaining)][i], parity_table) for i, v in enumerate(remaining)]\n",
    "        Es_R, Ds_R = [], []\n",
    "        for i, _ in enumerate(remaining):\n",
    "            expval, stddev = mit.expectation_value(counts_list[begin:begin+len(remaining)][i])\n",
    "            Es_R.append(expval)\n",
    "            Ds_R.append(stddev)\n",
    "        corr_R = sum(Es_R)\n",
    "        begin += len(remaining)\n",
    "        print(\"correlation on remaining vertices:\", corr_R)\n",
    "\n",
    "        corr_F *= np.sqrt(2)\n",
    "        corr_all = corr_F + corr_R\n",
    "        corr_all_list.append(corr_all)\n",
    "        # print(Ds_F, Ds_R)\n",
    "        stddev_all_list.append(np.sqrt(2 * sum([dev ** 2 for Ds_m in Ds_F for dev in Ds_m]) + sum([dev ** 2 for dev in Ds_R])) )\n",
    "        Es_all_list.append([Es_F, Es_R])\n",
    "        Ds_all_list.append([Ds_F, Ds_R])\n",
    "        print(\"total correlation:\", corr_all, \"\\n\")\n",
    "    return corr_all_list, stddev_all_list, Es_all_list, Ds_all_list"
   ]
  },
  {
   "cell_type": "code",
   "execution_count": 16,
   "metadata": {
    "scrolled": true
   },
   "outputs": [
    {
     "name": "stdout",
     "output_type": "stream",
     "text": [
      "graph size: 1\n",
      "skipped\n",
      "\n",
      "graph size: 2\n",
      "correlation on n[ 1 ]: 1.888427734375\n",
      "correlation on remaining vertices: 0\n",
      "total correlation: 2.670640113514622 \n",
      "\n",
      "graph size: 3\n",
      "correlation on n[ 1 ]: 3.6748046875\n",
      "correlation on remaining vertices: 0\n",
      "total correlation: 5.196958628134723 \n",
      "\n",
      "graph size: 4\n",
      "correlation on n[ 1 ]: 3.635009765625\n",
      "correlation on remaining vertices: 0.95751953125\n",
      "total correlation: 6.098199641155521 \n",
      "\n",
      "graph size: 5\n",
      "correlation on n[ 1 ]: 3.642822265625\n",
      "correlation on n[ 4 ]: 1.900390625\n",
      "correlation on remaining vertices: 0\n",
      "total correlation: 7.839286849043243 \n",
      "\n",
      "graph size: 6\n",
      "correlation on n[ 1 ]: 3.631591796875\n",
      "correlation on n[ 4 ]: 3.44873046875\n",
      "correlation on remaining vertices: 0\n",
      "total correlation: 10.013087774019075 \n",
      "\n",
      "graph size: 7\n",
      "correlation on n[ 1 ]: 3.634033203125\n",
      "correlation on n[ 4 ]: 3.527099609375\n",
      "correlation on remaining vertices: 0.952392578125\n",
      "total correlation: 11.079763723517488 \n",
      "\n",
      "graph size: 8\n",
      "correlation on n[ 1 ]: 3.62939453125\n",
      "correlation on n[ 4 ]: 3.5283203125\n",
      "correlation on n[ 7 ]: 1.829833984375\n",
      "correlation on remaining vertices: 0\n",
      "total correlation: 12.710313445224793 \n",
      "\n",
      "graph size: 9\n",
      "correlation on n[ 1 ]: 3.644287109375\n",
      "correlation on n[ 4 ]: 3.509765625\n",
      "correlation on n[ 7 ]: 3.662353515625\n",
      "correlation on remaining vertices: 0\n",
      "total correlation: 15.296708414887112 \n",
      "\n",
      "graph size: 10\n",
      "correlation on n[ 1 ]: 3.646240234375\n",
      "correlation on n[ 4 ]: 3.4912109375\n",
      "correlation on n[ 7 ]: 3.639892578125\n",
      "correlation on remaining vertices: 0.948486328125\n",
      "total correlation: 16.189952025731912 \n",
      "\n",
      "graph size: 11\n",
      "correlation on n[ 1 ]: 3.626953125\n",
      "correlation on n[ 4 ]: 3.5009765625\n",
      "correlation on n[ 7 ]: 3.65478515625\n",
      "correlation on n[ 10 ]: 1.903076171875\n",
      "correlation on remaining vertices: 0\n",
      "total correlation: 17.940417703727636 \n",
      "\n",
      "graph size: 12\n",
      "correlation on n[ 1 ]: 3.6533203125\n",
      "correlation on n[ 4 ]: 3.5166015625\n",
      "correlation on n[ 7 ]: 3.643798828125\n",
      "correlation on n[ 10 ]: 3.7568359375\n",
      "correlation on remaining vertices: 0\n",
      "total correlation: 20.605878812497238 \n",
      "\n",
      "graph size: 13\n",
      "correlation on n[ 1 ]: 3.6298828125\n",
      "correlation on n[ 4 ]: 3.493408203125\n",
      "correlation on n[ 7 ]: 3.632568359375\n",
      "correlation on n[ 10 ]: 3.7568359375\n",
      "correlation on remaining vertices: 0.963134765625\n",
      "total correlation: 21.487185303150945 \n",
      "\n",
      "graph size: 14\n",
      "correlation on n[ 1 ]: 3.65625\n",
      "correlation on n[ 4 ]: 3.5654296875\n",
      "correlation on n[ 7 ]: 3.647705078125\n",
      "correlation on n[ 10 ]: 3.758544921875\n",
      "correlation on n[ 13 ]: 1.906494140625\n",
      "correlation on remaining vertices: 0\n",
      "total correlation: 23.383206423759244 \n",
      "\n",
      "graph size: 15\n",
      "correlation on n[ 1 ]: 3.6513671875\n",
      "correlation on n[ 4 ]: 3.527099609375\n",
      "correlation on n[ 7 ]: 3.627197265625\n",
      "correlation on n[ 10 ]: 3.719482421875\n",
      "correlation on n[ 13 ]: 3.815673828125\n",
      "correlation on remaining vertices: 0\n",
      "total correlation: 25.93783683098545 \n",
      "\n",
      "graph size: 16\n",
      "correlation on n[ 1 ]: 3.6298828125\n",
      "correlation on n[ 4 ]: 3.52490234375\n",
      "correlation on n[ 7 ]: 3.648681640625\n",
      "correlation on n[ 10 ]: 3.73583984375\n",
      "correlation on n[ 13 ]: 3.69921875\n",
      "correlation on remaining vertices: 0.865966796875\n",
      "total correlation: 26.65913676198293 \n",
      "\n",
      "graph size: 17\n",
      "correlation on n[ 1 ]: 3.63525390625\n",
      "correlation on n[ 4 ]: 3.5107421875\n",
      "correlation on n[ 7 ]: 3.656494140625\n",
      "correlation on n[ 10 ]: 3.719482421875\n",
      "correlation on n[ 13 ]: 3.74658203125\n",
      "correlation on n[ 16 ]: 1.674560546875\n",
      "correlation on remaining vertices: 0\n",
      "total correlation: 28.203824040422614 \n",
      "\n",
      "graph size: 18\n",
      "correlation on n[ 1 ]: 3.66015625\n",
      "correlation on n[ 4 ]: 3.56005859375\n",
      "correlation on n[ 7 ]: 3.6748046875\n",
      "correlation on n[ 10 ]: 3.735107421875\n",
      "correlation on n[ 13 ]: 3.72119140625\n",
      "correlation on n[ 16 ]: 2.806884765625\n",
      "correlation on remaining vertices: 0\n",
      "total correlation: 29.922217814819803 \n",
      "\n",
      "graph size: 19\n",
      "correlation on n[ 1 ]: 3.644287109375\n",
      "correlation on n[ 4 ]: 3.54345703125\n",
      "correlation on n[ 7 ]: 3.666748046875\n",
      "correlation on n[ 10 ]: 3.7236328125\n",
      "correlation on n[ 13 ]: 3.722412109375\n",
      "correlation on n[ 16 ]: 2.81591796875\n",
      "correlation on remaining vertices: 0.8974609375\n",
      "total correlation: 30.76063809822659 \n",
      "\n",
      "graph size: 20\n",
      "correlation on n[ 1 ]: 3.646240234375\n",
      "correlation on n[ 4 ]: 3.53564453125\n",
      "correlation on n[ 7 ]: 3.67431640625\n",
      "correlation on n[ 10 ]: 3.731201171875\n",
      "correlation on n[ 13 ]: 3.72998046875\n",
      "correlation on n[ 16 ]: 2.816650390625\n",
      "correlation on n[ 19 ]: 1.8193359375\n",
      "correlation on remaining vertices: 0\n",
      "total correlation: 32.460965940827954 \n",
      "\n",
      "graph size: 21\n",
      "correlation on n[ 1 ]: 3.651611328125\n",
      "correlation on n[ 4 ]: 3.517578125\n",
      "correlation on n[ 7 ]: 3.660888671875\n",
      "correlation on n[ 10 ]: 3.73974609375\n",
      "correlation on n[ 13 ]: 3.73974609375\n",
      "correlation on n[ 16 ]: 2.777099609375\n",
      "correlation on n[ 19 ]: 3.699462890625\n",
      "correlation on remaining vertices: 0\n",
      "total correlation: 35.05288518221829 \n",
      "\n"
     ]
    }
   ],
   "source": [
    "corr_list_real, stddev_list_real, Es_list_real, Ds_list_real = analyze_circuits(adj_lists, \n",
    "                                                Fs, \n",
    "                                                counts_dict_list)"
   ]
  },
  {
   "cell_type": "code",
   "execution_count": 17,
   "metadata": {},
   "outputs": [],
   "source": [
    "c_bounds = [0] + [n + (n // 3) for n in range(2, max_size + 1)]\n",
    "q_bounds = [0]\n",
    "for n in range(2, max_size + 1):\n",
    "    q_bounds.append( 2 * (np.sqrt(2) * 2 - 1) * (n // 3) + n - ((n + 1) // 3))\n",
    "    if (n + 1) % 3 == 0:\n",
    "        q_bounds[-1] += (np.sqrt(2) * 2 - 1)"
   ]
  },
  {
   "cell_type": "code",
   "execution_count": 18,
   "metadata": {},
   "outputs": [
    {
     "data": {
      "image/png": "[encoded data removed]",
      "text/plain": [
       "<Figure size 432x288 with 1 Axes>"
      ]
     },
     "metadata": {
      "needs_background": "light"
     },
     "output_type": "display_data"
    }
   ],
   "source": [
    "plt.clf()\n",
    "plt.plot(list(range(1, max_size + 1)), c_bounds, label=\"Classical bounds\") # , marker=\"o\", markersize=1)\n",
    "plt.plot(list(range(1, max_size + 1)), q_bounds, label=\"Quantum bounds\") # , marker=\"x\", markersize=1)\n",
    "plt.errorbar(list(range(1, max_size + 1)), corr_list_real, label=\"Actual correlations\", fmt=\"o\", yerr=stddev_list_real, capsize=3)\n",
    "# plt.errorbar(list(range(1, 11 + 1)), tensored_corr_list_real, label=\"Mitigated correlations\", fmt=\"*\", yerr=tensored_stddev_list_real, capsize=3)\n",
    "plt.legend(bbox_to_anchor=(1.05, 1), loc='upper left', borderaxespad=0)\n",
    "plt.xlabel(\"graph size\")\n",
    "plt.ylabel(\"correlation\")\n",
    "plt.xticks(list(range(max_size + 2)))\n",
    "plt.title(\"correlation of path graphs (ibmq_kawasaki)\")\n",
    "plt.show()"
   ]
  },
  {
   "cell_type": "code",
   "execution_count": null,
   "metadata": {},
   "outputs": [],
   "source": []
  }
 ],
 "metadata": {
  "kernelspec": {
   "display_name": "Python 3",
   "language": "python",
   "name": "python3"
  },
  "language_info": {
   "codemirror_mode": {
    "name": "ipython",
    "version": 3
   },
   "file_extension": ".py",
   "mimetype": "text/x-python",
   "name": "python",
   "nbconvert_exporter": "python",
   "pygments_lexer": "ipython3",
   "version": "3.6.13"
  }
 },
 "nbformat": 4,
 "nbformat_minor": 4
}
