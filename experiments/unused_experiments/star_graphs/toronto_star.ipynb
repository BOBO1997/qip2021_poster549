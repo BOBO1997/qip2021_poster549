{
 "cells": [
  {
   "cell_type": "markdown",
   "metadata": {
    "id": "m2GiFQGETOlU"
   },
   "source": [
    "# Experiment of star graph from size 2 to 27 on ibmq_toronto, with measurement error mitigation proposed by Bravyi et al.\n",
    "\n",
    "External packages by my own:\n",
    "- bell_ineq.py \\\n",
    "importing the inequality by Baccari et al.\n",
    "\n",
    "- graph_lib.py \\\n",
    "importing graph library such as making adjacency list of star graph\n",
    "\n",
    "- graph_state_lib.py \\\n",
    "importing the circuit preparation functions for graph states\n",
    "\n",
    "### circuits\n",
    "\n",
    "[circquit of size 2 (term1), \\\n",
    "circquit of size 2 (term2), \\\n",
    "circquits of 2 qubit calibration, \\\n",
    "circquit of size 3 (term1), \\\n",
    "circquit of size 3 (term2), \\\n",
    "circquits of 3 qubit calibration, \\\n",
    "circquit of size 4 (term1), \\\n",
    "circquit of size 4 (term2), \\\n",
    "circquits of 4 qubit calibration, \\\n",
    "…, \\\n",
    "circquit of size n (term1), \\\n",
    "circquit of size n (term2), \\\n",
    "circquits of n qubit calibration]"
   ]
  },
  {
   "cell_type": "markdown",
   "metadata": {
    "id": "_Y0MZiZn4Nqg"
   },
   "source": [
    "## imports"
   ]
  },
  {
   "cell_type": "markdown",
   "metadata": {
    "id": "aT21s9W9e8Xz"
   },
   "source": [
    "### import qiskit libraries"
   ]
  },
  {
   "cell_type": "code",
   "execution_count": 1,
   "metadata": {
    "executionInfo": {
     "elapsed": 60512,
     "status": "ok",
     "timestamp": 1610871262560,
     "user": {
      "displayName": "Bo Yang",
      "photoUrl": "",
      "userId": "03206198380065904075"
     },
     "user_tz": -540
    },
    "id": "vOqGZ75TS7ee"
   },
   "outputs": [],
   "source": [
    "import numpy as np\n",
    "import matplotlib.pyplot as plt\n",
    "%matplotlib inline\n",
    "from IPython.display import Image, display\n",
    "import pickle\n",
    "import pprint\n",
    "import time\n",
    "import pdb\n",
    "# %pdb on"
   ]
  },
  {
   "cell_type": "code",
   "execution_count": 44,
   "metadata": {
    "executionInfo": {
     "elapsed": 941,
     "status": "ok",
     "timestamp": 1610877957343,
     "user": {
      "displayName": "Bo Yang",
      "photoUrl": "",
      "userId": "03206198380065904075"
     },
     "user_tz": -540
    },
    "id": "1ABk0TemrES1"
   },
   "outputs": [],
   "source": [
    "import qiskit\n",
    "from qiskit import QuantumCircuit, QuantumRegister, ClassicalRegister, Aer, execute, IBMQ\n",
    "from qiskit.tools.visualization import plot_histogram\n",
    "from qiskit.tools.monitor import job_monitor\n",
    "import qiskit.ignis.mitigation as mit\n",
    "import qiskit.quantum_info as qi\n",
    "from qiskit.ignis.mitigation.measurement import complete_meas_cal, tensored_meas_cal, CompleteMeasFitter, TensoredMeasFitter"
   ]
  },
  {
   "cell_type": "markdown",
   "metadata": {
    "id": "0OlM_4hIerIk"
   },
   "source": [
    "### import original library"
   ]
  },
  {
   "cell_type": "code",
   "execution_count": 3,
   "metadata": {
    "colab": {
     "base_uri": "https://localhost:8080/"
    },
    "executionInfo": {
     "elapsed": 67646,
     "status": "ok",
     "timestamp": 1610871292248,
     "user": {
      "displayName": "Bo Yang",
      "photoUrl": "",
      "userId": "03206198380065904075"
     },
     "user_tz": -540
    },
    "id": "L6vq0TE6S7el",
    "outputId": "bd447ae1-4bd9-42de-b6df-d1fc56dd1e57"
   },
   "outputs": [],
   "source": [
    "import importlib\n",
    "import star_bell_ineq\n",
    "importlib.reload(star_bell_ineq)\n",
    "from star_bell_ineq import *\n",
    "import graph_lib\n",
    "from graph_lib import *\n",
    "import graph_state_lib\n",
    "from graph_state_lib import *"
   ]
  },
  {
   "cell_type": "markdown",
   "metadata": {
    "id": "OMrkLw_VfC5h"
   },
   "source": [
    "### load account"
   ]
  },
  {
   "cell_type": "code",
   "execution_count": 4,
   "metadata": {
    "colab": {
     "base_uri": "https://localhost:8080/"
    },
    "executionInfo": {
     "elapsed": 61288,
     "status": "ok",
     "timestamp": 1610871299664,
     "user": {
      "displayName": "Bo Yang",
      "photoUrl": "",
      "userId": "03206198380065904075"
     },
     "user_tz": -540
    },
    "id": "06_lYscyS7el",
    "outputId": "97572b1f-3cce-455a-dbb1-92ac230d4f2c"
   },
   "outputs": [
    {
     "name": "stdout",
     "output_type": "stream",
     "text": [
      "<AccountProvider for IBMQ(hub='ibm-q-utokyo', group='reservations', project='reservations')>\n"
     ]
    }
   ],
   "source": [
    "IBMQ.load_account()\n",
    "# provider = IBMQ.get_provider(hub='ibm-q-utokyo', group='internal', project='hirashi-jst')\n",
    "provider = IBMQ.get_provider(hub=\"ibm-q-utokyo\", group=\"reservations\", project=\"reservations\")\n",
    "print(provider)"
   ]
  },
  {
   "cell_type": "markdown",
   "metadata": {
    "id": "SKpSIOj8UBAg"
   },
   "source": [
    "## create star graph information from size 2 to 27\n",
    "we test the size from 2 to 27\n",
    "\n",
    "change the number of 27 of \"max_size = len(vertex_list[:27]) # largest graph size\" if you want to try up to other size"
   ]
  },
  {
   "cell_type": "code",
   "execution_count": 5,
   "metadata": {
    "executionInfo": {
     "elapsed": 1026,
     "status": "ok",
     "timestamp": 1610871788386,
     "user": {
      "displayName": "Bo Yang",
      "photoUrl": "",
      "userId": "03206198380065904075"
     },
     "user_tz": -540
    },
    "id": "2hjI9HU3S7em"
   },
   "outputs": [],
   "source": [
    "vertex_list =  [ 8,\n",
    "                11, \n",
    "                 5, 14,\n",
    "                 9,  3, 13, \n",
    "                 2, 12, 16,\n",
    "                 1, 15, 19,\n",
    "                10,  0, 18, 20,\n",
    "                  4, 22,  7, 21,\n",
    "                 17, 25, 6, 23,\n",
    "                 26, 24] # qubit layout\n",
    "max_size = 27 # largest graph size\n",
    "Fs = [[0] for n in range(1, max_size + 1)] # subsets of focused vertices of graph size 1 to max_size\n",
    "adj_lists = [adjacency_list_for_star_graph(n) for n in range(1, max_size + 1)] # adjacency list of graph size 1 to max_size\n",
    "graphs = [list_to_matrix(adj_list) for adj_list in adj_lists] # adjacency matrix of graph size 1 to max_size\n",
    "shots_per_circuit = 1 << 13 # shots per one execution\n",
    "graph_sizes = [len(adj_list) for adj_list in adj_lists]\n",
    "system_size = len(vertex_list)"
   ]
  },
  {
   "cell_type": "code",
   "execution_count": 6,
   "metadata": {
    "colab": {
     "base_uri": "https://localhost:8080/"
    },
    "executionInfo": {
     "elapsed": 1432,
     "status": "ok",
     "timestamp": 1610871788922,
     "user": {
      "displayName": "Bo Yang",
      "photoUrl": "",
      "userId": "03206198380065904075"
     },
     "user_tz": -540
    },
    "id": "IFfTxEtES7en",
    "outputId": "d37cbf0d-d7d3-44c3-e800-495dacd302c0"
   },
   "outputs": [
    {
     "name": "stdout",
     "output_type": "stream",
     "text": [
      "max_size: 27\n",
      "system_size: 27\n",
      "shots_per_circuit: 8192\n",
      "graph_sizes: [1, 2, 3, 4, 5, 6, 7, 8, 9, 10, 11, 12, 13, 14, 15, 16, 17, 18, 19, 20, 21, 22, 23, 24, 25, 26, 27]\n"
     ]
    }
   ],
   "source": [
    "print(\"max_size:\", max_size)\n",
    "print(\"system_size:\", system_size)\n",
    "print(\"shots_per_circuit:\", shots_per_circuit)\n",
    "print(\"graph_sizes:\", graph_sizes)"
   ]
  },
  {
   "cell_type": "code",
   "execution_count": 7,
   "metadata": {
    "executionInfo": {
     "elapsed": 1082,
     "status": "ok",
     "timestamp": 1610871790236,
     "user": {
      "displayName": "Bo Yang",
      "photoUrl": "",
      "userId": "03206198380065904075"
     },
     "user_tz": -540
    },
    "id": "lT46dGROS7eo"
   },
   "outputs": [],
   "source": [
    "# indicate how to connect qubits\n",
    "order = [[0,1],\n",
    "         [0,2],[1,3],\n",
    "         [0,4],[2,5],[3,6],\n",
    "         [5,7],[6,8],[3,9], \n",
    "         [7,10],[8,11],[9,12],\n",
    "         [8,13],[10,14],[11,15],[12,16],\n",
    "         [10,17],[12,18],[13,19],[15,20],\n",
    "         [15,21],[18,22],[19,23],[20,24],\n",
    "         [22,25],[24,26]]"
   ]
  },
  {
   "cell_type": "code",
   "execution_count": 8,
   "metadata": {
    "colab": {
     "base_uri": "https://localhost:8080/"
    },
    "executionInfo": {
     "elapsed": 767,
     "status": "ok",
     "timestamp": 1610871790237,
     "user": {
      "displayName": "Bo Yang",
      "photoUrl": "",
      "userId": "03206198380065904075"
     },
     "user_tz": -540
    },
    "id": "dL2TwGGKS7eo",
    "outputId": "b6405deb-e1d4-431c-bb55-5b4239f9de72"
   },
   "outputs": [
    {
     "name": "stdout",
     "output_type": "stream",
     "text": [
      "[0, 1, 2, 2, 3, 3, 3, 4, 4, 4, 5, 5, 5, 6, 6, 6, 6, 7, 7, 7, 7, 8, 8, 8, 8, 9, 9]\n",
      "27\n"
     ]
    }
   ],
   "source": [
    "qubit_depths = [0, 1, 2, 2, 3, 3, 3, 4, 4, 4, 5, 5, 5, 6, 6, 6, 6, 7, 7, 7, 7, 8, 8, 8, 8, 9, 9]\n",
    "print(qubit_depths)\n",
    "print(len(qubit_depths))"
   ]
  },
  {
   "cell_type": "markdown",
   "metadata": {
    "id": "BVbr64jYUT-J"
   },
   "source": [
    "## prepare quantum circuits (from size 2 to 27)"
   ]
  },
  {
   "cell_type": "code",
   "execution_count": 9,
   "metadata": {
    "colab": {
     "base_uri": "https://localhost:8080/"
    },
    "executionInfo": {
     "elapsed": 2005,
     "status": "ok",
     "timestamp": 1610871794925,
     "user": {
      "displayName": "Bo Yang",
      "photoUrl": "",
      "userId": "03206198380065904075"
     },
     "user_tz": -540
    },
    "id": "An6oOvP8W9O3",
    "outputId": "92a4de1f-63f5-4cf1-80d8-560129a6142c"
   },
   "outputs": [
    {
     "name": "stdout",
     "output_type": "stream",
     "text": [
      "the number of graph state circuits is:  199\n"
     ]
    }
   ],
   "source": [
    "qcs = [refocusing_last_star_graph_state(size, order[:size-1], qubit_depths[:size], system_size) for size in range(1, max_size+1)]\n",
    "qcs_list, nums_divide_list, nums_meas_cal_list, metadatas_list, _, initial_layouts_list = \\\n",
    "    prepare_grouping_star_graph_qcs_list(qcs, \n",
    "                                                            adj_lists, \n",
    "                                                            measure_last=True,\n",
    "                                                            optimization_level=0,\n",
    "                                                            initial_layouts=[vertex_list[:system_size]] * len(qcs),\n",
    "                                                            method=\"CTMP\",\n",
    "                                                            mitigation_limit=15)\n",
    "print(\"the number of graph state circuits is: \", len(qcs_list))"
   ]
  },
  {
   "cell_type": "code",
   "execution_count": 10,
   "metadata": {
    "colab": {
     "base_uri": "https://localhost:8080/"
    },
    "executionInfo": {
     "elapsed": 2000,
     "status": "ok",
     "timestamp": 1610871794926,
     "user": {
      "displayName": "Bo Yang",
      "photoUrl": "",
      "userId": "03206198380065904075"
     },
     "user_tz": -540
    },
    "id": "vCujSCuS462u",
    "outputId": "bd902ce5-941c-4206-dd98-8fb121df8bea"
   },
   "outputs": [
    {
     "name": "stdout",
     "output_type": "stream",
     "text": [
      "199 quantum circuits\n",
      "length of initial_layouts_list:  199\n"
     ]
    }
   ],
   "source": [
    "ops_qcs_list = [qc.count_ops() for qc in qcs_list]\n",
    "print(len(qcs_list), \"quantum circuits\")\n",
    "print(\"length of initial_layouts_list: \", len(initial_layouts_list))"
   ]
  },
  {
   "cell_type": "code",
   "execution_count": 11,
   "metadata": {
    "colab": {
     "base_uri": "https://localhost:8080/"
    },
    "executionInfo": {
     "elapsed": 1994,
     "status": "ok",
     "timestamp": 1610871794926,
     "user": {
      "displayName": "Bo Yang",
      "photoUrl": "",
      "userId": "03206198380065904075"
     },
     "user_tz": -540
    },
    "id": "zAetsDCMS7ep",
    "outputId": "ad6b672c-d523-4077-9364-a30a926296e7"
   },
   "outputs": [
    {
     "name": "stdout",
     "output_type": "stream",
     "text": [
      "qcs_depth: [4, 5, 5, 6, 6, 6, 7, 7, 7, 8, 8, 8, 9, 9, 9, 9, 10, 10, 10, 10, 11, 11, 11, 11, 12, 12]\n"
     ]
    }
   ],
   "source": [
    "qcs_depths = [qc.depth() for qc in qcs[1:]]\n",
    "print(\"qcs_depth:\", qcs_depths)"
   ]
  },
  {
   "cell_type": "markdown",
   "metadata": {
    "id": "cPHC7MnzUd2B"
   },
   "source": [
    "## cast jobs to ibmq_toronto and save job ids\n",
    "\n",
    "indicate arbitrary job_ids_filename as you like"
   ]
  },
  {
   "cell_type": "code",
   "execution_count": 12,
   "metadata": {
    "executionInfo": {
     "elapsed": 4166,
     "status": "ok",
     "timestamp": 1610871799520,
     "user": {
      "displayName": "Bo Yang",
      "photoUrl": "",
      "userId": "03206198380065904075"
     },
     "user_tz": -540
    },
    "id": "21Is3S6QS7er"
   },
   "outputs": [
    {
     "name": "stderr",
     "output_type": "stream",
     "text": [
      "/Users/yangbo/.pyenv/versions/anaconda3-5.1.0/lib/python3.6/site-packages/ipykernel_launcher.py:1: DeprecationWarning: The `backends` provider attribute is deprecated. Please use `provider.backend` (singular) instead. You can continue to use `provider.backends()` to retrieve all backends.\n",
      "  \"\"\"Entry point for launching an IPython kernel.\n"
     ]
    }
   ],
   "source": [
    "device = provider.backends.ibmq_toronto\n",
    "backend = provider.get_backend('ibmq_toronto')"
   ]
  },
  {
   "cell_type": "code",
   "execution_count": null,
   "metadata": {
    "colab": {
     "base_uri": "https://localhost:8080/"
    },
    "executionInfo": {
     "elapsed": 32105,
     "status": "ok",
     "timestamp": 1610812838424,
     "user": {
      "displayName": "Bo Yang",
      "photoUrl": "",
      "userId": "03206198380065904075"
     },
     "user_tz": -540
    },
    "id": "orvQXVtQS7eq",
    "outputId": "586e5aeb-c046-479f-d8ad-50b1ce2f8eed"
   },
   "outputs": [],
   "source": [
    "\"\"\"\n",
    "jobs = execute_circuits(qcs_list,\n",
    "                        backend='ibmq_toronto', \n",
    "                        provider=provider, \n",
    "                        shots=shots_per_circuit,\n",
    "                        max_experiments=900,\n",
    "                        optimization_level=1,\n",
    "                        initial_layout=initial_layouts_list)\n",
    "print(len(jobs), \"jobs\")\n",
    "\"\"\""
   ]
  },
  {
   "cell_type": "code",
   "execution_count": 13,
   "metadata": {
    "executionInfo": {
     "elapsed": 1855,
     "status": "ok",
     "timestamp": 1610871799520,
     "user": {
      "displayName": "Bo Yang",
      "photoUrl": "",
      "userId": "03206198380065904075"
     },
     "user_tz": -540
    },
    "id": "7JmhwSflsxKZ"
   },
   "outputs": [],
   "source": [
    "job_ids_filename = \"job_ids_toronto_star.pkl\""
   ]
  },
  {
   "cell_type": "code",
   "execution_count": null,
   "metadata": {
    "executionInfo": {
     "elapsed": 567,
     "status": "ok",
     "timestamp": 1610812890331,
     "user": {
      "displayName": "Bo Yang",
      "photoUrl": "",
      "userId": "03206198380065904075"
     },
     "user_tz": -540
    },
    "id": "vY8GBwyHS7eq"
   },
   "outputs": [],
   "source": [
    "with open(path_job_ids + job_ids_filename, \"wb\") as f:\n",
    "    pickle.dump([job.job_id() for job in jobs], f)"
   ]
  },
  {
   "cell_type": "code",
   "execution_count": null,
   "metadata": {
    "executionInfo": {
     "elapsed": 790,
     "status": "ok",
     "timestamp": 1610812896151,
     "user": {
      "displayName": "Bo Yang",
      "photoUrl": "",
      "userId": "03206198380065904075"
     },
     "user_tz": -540
    },
    "id": "WmBSJPged9fY"
   },
   "outputs": [],
   "source": [
    "with open(path_properties + \"toronto_properties_star.pkl\", \"wb\") as f:\n",
    "    pickle.dump(device.properties(), f)"
   ]
  },
  {
   "cell_type": "markdown",
   "metadata": {
    "id": "F3mNErX5UlB2"
   },
   "source": [
    "## retrieve jobs"
   ]
  },
  {
   "cell_type": "code",
   "execution_count": 14,
   "metadata": {
    "executionInfo": {
     "elapsed": 2833,
     "status": "ok",
     "timestamp": 1610871805385,
     "user": {
      "displayName": "Bo Yang",
      "photoUrl": "",
      "userId": "03206198380065904075"
     },
     "user_tz": -540
    },
    "id": "pH4kUnIzS7er"
   },
   "outputs": [],
   "source": [
    "with open(job_ids_filename, \"rb\") as f:\n",
    "     job_ids = pickle.load(f)"
   ]
  },
  {
   "cell_type": "code",
   "execution_count": 15,
   "metadata": {
    "colab": {
     "base_uri": "https://localhost:8080/"
    },
    "executionInfo": {
     "elapsed": 20245,
     "status": "ok",
     "timestamp": 1610871826378,
     "user": {
      "displayName": "Bo Yang",
      "photoUrl": "",
      "userId": "03206198380065904075"
     },
     "user_tz": -540
    },
    "id": "vejTWsINS7er",
    "outputId": "2322311d-3498-4d5a-813b-df75a7f3c267"
   },
   "outputs": [
    {
     "name": "stdout",
     "output_type": "stream",
     "text": [
      "1\n"
     ]
    }
   ],
   "source": [
    "# using job_ids_to_result function\n",
    "results_jobs_list = job_ids_to_result(job_ids, device)\n",
    "print(len(results_jobs_list))"
   ]
  },
  {
   "cell_type": "markdown",
   "metadata": {
    "id": "u_r_J8Qfitn3"
   },
   "source": [
    "## measurement error mitigation (CTMP)"
   ]
  },
  {
   "cell_type": "code",
   "execution_count": 16,
   "metadata": {
    "colab": {
     "base_uri": "https://localhost:8080/"
    },
    "executionInfo": {
     "elapsed": 1012,
     "status": "ok",
     "timestamp": 1610871827405,
     "user": {
      "displayName": "Bo Yang",
      "photoUrl": "",
      "userId": "03206198380065904075"
     },
     "user_tz": -540
    },
    "id": "I3SQNMfN6YM-",
    "outputId": "e58ca9e8-7baa-4cb7-884b-2d6319355933"
   },
   "outputs": [
    {
     "name": "stdout",
     "output_type": "stream",
     "text": [
      "length of results_list:  199\n"
     ]
    }
   ],
   "source": [
    "results_list = flatten_results_jobs_list(results_jobs_list)\n",
    "print(\"length of results_list: \", len(results_list))\n",
    "del results_jobs_list"
   ]
  },
  {
   "cell_type": "code",
   "execution_count": 17,
   "metadata": {
    "executionInfo": {
     "elapsed": 1006,
     "status": "ok",
     "timestamp": 1610871827406,
     "user": {
      "displayName": "Bo Yang",
      "photoUrl": "",
      "userId": "03206198380065904075"
     },
     "user_tz": -540
    },
    "id": "PiYdDBJOw2CP"
   },
   "outputs": [],
   "source": [
    "def arrange_results_list_for_grouping_star_graph(results_list, nums_divide_list, nums_meas_cal_list, limit=100):\n",
    "    pos = 0\n",
    "    results_graph_states = []\n",
    "    results_meas_cal = []\n",
    "    for i, (nums_divide, nums_meas_cal) in enumerate(zip(nums_divide_list, nums_meas_cal_list)): # graph wise\n",
    "        for num_divide in nums_divide: # term wise\n",
    "            results_graph_states += results_list[pos:pos + num_divide]\n",
    "            pos += num_divide\n",
    "        if i < limit: # start from 2\n",
    "            for num_meas_cal in nums_meas_cal: # term wise\n",
    "                results_meas_cal.append(merge_results(results_list[pos:pos + num_meas_cal]))\n",
    "                pos += num_meas_cal\n",
    "    return results_graph_states, results_meas_cal"
   ]
  },
  {
   "cell_type": "code",
   "execution_count": 18,
   "metadata": {
    "colab": {
     "base_uri": "https://localhost:8080/"
    },
    "executionInfo": {
     "elapsed": 918,
     "status": "ok",
     "timestamp": 1610871833407,
     "user": {
      "displayName": "Bo Yang",
      "photoUrl": "",
      "userId": "03206198380065904075"
     },
     "user_tz": -540
    },
    "id": "AZU5s1fK9qHl",
    "outputId": "6a309d64-a9c1-4941-d203-d7578b11046b"
   },
   "outputs": [
    {
     "name": "stdout",
     "output_type": "stream",
     "text": [
      "length of results_graph_states:  52\n",
      "length of results_meas_cal:  14\n",
      "length of results_metadata_list:  26\n"
     ]
    }
   ],
   "source": [
    "results_graph_states, results_meas_cal = arrange_results_list_for_grouping_star_graph(results_list, nums_divide_list, nums_meas_cal_list, limit=15)\n",
    "print(\"length of results_graph_states: \", len(results_graph_states))\n",
    "print(\"length of results_meas_cal: \", len(results_meas_cal))\n",
    "print(\"length of results_metadata_list: \", len(metadatas_list))\n",
    "del results_list"
   ]
  },
  {
   "cell_type": "code",
   "execution_count": 19,
   "metadata": {
    "colab": {
     "base_uri": "https://localhost:8080/"
    },
    "executionInfo": {
     "elapsed": 32801,
     "status": "ok",
     "timestamp": 1610871898265,
     "user": {
      "displayName": "Bo Yang",
      "photoUrl": "",
      "userId": "03206198380065904075"
     },
     "user_tz": -540
    },
    "id": "3U0-Zxb9znub",
    "outputId": "8f634f9a-8564-4ecf-984f-99eb69054dcc"
   },
   "outputs": [
    {
     "name": "stdout",
     "output_type": "stream",
     "text": [
      "length of meas_mitigator_list:  14\n"
     ]
    }
   ],
   "source": [
    "meas_mitigator_list = prepare_meas_mitigator_list(results_meas_cal, metadatas_list[:14])\n",
    "print(\"length of meas_mitigator_list: \", len(meas_mitigator_list))"
   ]
  },
  {
   "cell_type": "code",
   "execution_count": 20,
   "metadata": {
    "colab": {
     "base_uri": "https://localhost:8080/"
    },
    "executionInfo": {
     "elapsed": 23814,
     "status": "ok",
     "timestamp": 1610871898763,
     "user": {
      "displayName": "Bo Yang",
      "photoUrl": "",
      "userId": "03206198380065904075"
     },
     "user_tz": -540
    },
    "id": "b5KQLDyJmqa2",
    "outputId": "54e66f09-3ffb-4ef9-ae40-5892ded5fffd"
   },
   "outputs": [
    {
     "name": "stdout",
     "output_type": "stream",
     "text": [
      "length of counts_dict_list:  52\n"
     ]
    }
   ],
   "source": [
    "counts_dict_list = results_list_to_counts_dict_list(results_graph_states)\n",
    "print(\"length of counts_dict_list: \", len(counts_dict_list))"
   ]
  },
  {
   "cell_type": "markdown",
   "metadata": {
    "id": "7FWkiDHax6zl"
   },
   "source": [
    "### Tensored"
   ]
  },
  {
   "cell_type": "code",
   "execution_count": 50,
   "metadata": {
    "executionInfo": {
     "elapsed": 1311,
     "status": "ok",
     "timestamp": 1610878126607,
     "user": {
      "displayName": "Bo Yang",
      "photoUrl": "",
      "userId": "03206198380065904075"
     },
     "user_tz": -540
    },
    "id": "7PagNCXpyHi_"
   },
   "outputs": [],
   "source": [
    "def arrange_results_list_tensored(results_list, nums_divide_list, nums_meas_cal_list, limit=100):\n",
    "    pos = 0\n",
    "    results_graph_states = []\n",
    "    results_meas_cal = []\n",
    "    for i, (nums_divide, nums_meas_cal) in enumerate(zip(nums_divide_list, nums_meas_cal_list)): # graph wise\n",
    "        for num_divide in nums_divide: # term wise\n",
    "            results_graph_states += results_list[pos:pos + num_divide]\n",
    "            pos += num_divide\n",
    "        if i < limit: # start from 2\n",
    "            for num_meas_cal in nums_meas_cal: # term wise\n",
    "                results_meas_cal.append(merge_results(results_list[pos:pos + 2]))\n",
    "                pos += num_meas_cal\n",
    "    return results_graph_states, results_meas_cal"
   ]
  },
  {
   "cell_type": "code",
   "execution_count": 51,
   "metadata": {
    "colab": {
     "base_uri": "https://localhost:8080/"
    },
    "executionInfo": {
     "elapsed": 31320,
     "status": "ok",
     "timestamp": 1610880704799,
     "user": {
      "displayName": "Bo Yang",
      "photoUrl": "",
      "userId": "03206198380065904075"
     },
     "user_tz": -540
    },
    "id": "Wy59OAgkx53l",
    "outputId": "547c0c28-2dc7-460b-8c7d-f55f752339d4"
   },
   "outputs": [
    {
     "name": "stdout",
     "output_type": "stream",
     "text": [
      "1\n",
      "length of results_list:  199\n",
      "length of results_meas_cal:  14\n"
     ]
    }
   ],
   "source": [
    "with open(job_ids_filename, \"rb\") as f:\n",
    "     job_ids = pickle.load(f)\n",
    "results_jobs_list = job_ids_to_result(job_ids, device)\n",
    "print(len(results_jobs_list))\n",
    "results_list = flatten_results_jobs_list(results_jobs_list)\n",
    "print(\"length of results_list: \", len(results_list))\n",
    "del results_jobs_list\n",
    "_, results_meas_cal = arrange_results_list_tensored(results_list, nums_divide_list, nums_meas_cal_list, limit=15)\n",
    "print(\"length of results_meas_cal: \", len(results_meas_cal))\n",
    "del results_list"
   ]
  },
  {
   "cell_type": "code",
   "execution_count": 52,
   "metadata": {
    "executionInfo": {
     "elapsed": 912,
     "status": "ok",
     "timestamp": 1610878675479,
     "user": {
      "displayName": "Bo Yang",
      "photoUrl": "",
      "userId": "03206198380065904075"
     },
     "user_tz": -540
    },
    "id": "jhey7rTay0zn"
   },
   "outputs": [],
   "source": [
    "tensored_meas_mitigator_list = []\n",
    "pos = 0\n",
    "for n in range(2,16):\n",
    "    qr = qiskit.QuantumRegister(n)\n",
    "    mit_pattern = [[i] for i in range(n)]\n",
    "    _, state_labels = tensored_meas_cal(mit_pattern = mit_pattern, qr=qr, circlabel='mcal')\n",
    "    tensored_meas_mitigator_list.append( TensoredMeasFitter(results_meas_cal[pos:pos+2], mit_pattern=mit_pattern).filter )\n",
    "    pos += 2\n",
    "del results_meas_cal"
   ]
  },
  {
   "cell_type": "markdown",
   "metadata": {
    "id": "2_jndc_V4sRp"
   },
   "source": [
    "## compute correlation"
   ]
  },
  {
   "cell_type": "code",
   "execution_count": 42,
   "metadata": {
    "executionInfo": {
     "elapsed": 855,
     "status": "ok",
     "timestamp": 1610879071504,
     "user": {
      "displayName": "Bo Yang",
      "photoUrl": "",
      "userId": "03206198380065904075"
     },
     "user_tz": -540
    },
    "id": "4dluHfrzuyGn"
   },
   "outputs": [],
   "source": [
    "def analyze_circuits_tensored(adj_lists, counts_dict_list, tensored_meas_mitigator_list=None, limit=100, tol=1e-6):\n",
    "    \"\"\"\n",
    "    Input\n",
    "        adj_lists         : list of adjacency list\n",
    "        counts_list       : list of int list (list of counts)\n",
    "        meas_mitigator : measurement mitigator\n",
    "    Output\n",
    "        expval_all_list : list of float (correlation of each graph)\n",
    "        stddev_all_list : list of float (standard deviation of each graph)\n",
    "        Es_all_list   : list of list (term-wise correlation of each graph)\n",
    "        Ds_all_list   : list of list (term-wise stddev of each graph)\n",
    "    \"\"\"\n",
    "    expval_all_list, stddev_all_list, Es_all_list, Ds_all_list = [], [], [], []\n",
    "    begin = 0\n",
    "    for adj_list in adj_lists:\n",
    "        t1 = time.time()\n",
    "        n = len(adj_list)\n",
    "        if n > limit:\n",
    "            break\n",
    "        print(\"graph size:\", n)\n",
    "        if n <= 1:\n",
    "            print(\"skipped\\n\")\n",
    "            expval_all_list.append(0)\n",
    "            stddev_all_list.append(0)\n",
    "            Es_all_list.append([])\n",
    "            Ds_all_list.append([])\n",
    "            continue\n",
    "\n",
    "        # for the first term\n",
    "        counts = tensored_meas_mitigator_list[n - 2].apply( counts_dict_list[2 * (n - 2)] , tol=tol) # n = 2 -> 0, n = 10 -> 16\n",
    "        expval1, stddev1 = mit.expectation_value(counts, \n",
    "                                                 qubits=range(n),\n",
    "                                                 clbits=range(n),\n",
    "                                                 meas_mitigator=None)\n",
    "        Es_1, Ds_1 = [expval1], [stddev1]\n",
    "        begin += 1 # update index of counts_dict_list\n",
    "\n",
    "\n",
    "        # for the second term\n",
    "        Es_2, Ds_2 = [], []\n",
    "        sum_expval2, sum_stddev2 = 0, 0\n",
    "        for pos in range(1, n): # recover the two qubit expectation values\n",
    "            counts = tensored_meas_mitigator_list[n - 2].apply( counts_dict_list[2 * (n - 2) + 1] , tol=tol) # n = 2 -> 1, n = 10 -> 17\n",
    "            expval2, stddev2 = mit.expectation_value(extract_two_qubit_counts(counts, 0, pos), \n",
    "                                                     qubits=[0,pos],\n",
    "                                                     clbits=[0,pos],\n",
    "                                                     meas_mitigator=None)\n",
    "            Es_2.append(expval2)\n",
    "            Ds_2.append(stddev2)\n",
    "        sum_stddev2 = compute_stddev_of_grouping(Ds_2)\n",
    "        begin += 1 # update index of counts_dict_list\n",
    "\n",
    "        sum_expval = np.sqrt(2) * ((n - 1) * sum(Es_1) + sum(Es_2))\n",
    "        sum_stddev = np.sqrt(2 * ((stddev1 * (n - 1)) ** 2 +  sum_stddev2 ** 2) )\n",
    "        Es = [Es_1, Es_2]\n",
    "        Ds = [Ds_1, Ds_2]\n",
    "\n",
    "        expval_all_list.append(sum_expval)\n",
    "        stddev_all_list.append(sum_stddev)\n",
    "        Es_all_list.append(Es)\n",
    "        Ds_all_list.append(Ds)\n",
    "        t2 = time.time()\n",
    "        print(\"time:\", t2 - t1)\n",
    "        print(\"total correlation:\", sum_expval, \"\\n\")\n",
    "    return expval_all_list, stddev_all_list, Es_all_list, Ds_all_list"
   ]
  },
  {
   "cell_type": "code",
   "execution_count": 25,
   "metadata": {
    "executionInfo": {
     "elapsed": 738,
     "status": "ok",
     "timestamp": 1610828087920,
     "user": {
      "displayName": "Bo Yang",
      "photoUrl": "",
      "userId": "03206198380065904075"
     },
     "user_tz": -540
    },
    "id": "cuSoObRi0JSG"
   },
   "outputs": [],
   "source": [
    "def analyze_circuits_for_star_graph(adj_lists, counts_dict_list, meas_mitigator_list=None, limit=100):\n",
    "    \"\"\"\n",
    "    Input\n",
    "        adj_lists         : list of adjacency list\n",
    "        counts_list       : list of int list (list of counts)\n",
    "        meas_mitigator : measurement mitigator\n",
    "    Output\n",
    "        expval_all_list : list of float (correlation of each graph)\n",
    "        stddev_all_list : list of float (standard deviation of each graph)\n",
    "        Es_all_list   : list of list (term-wise correlation of each graph)\n",
    "        Ds_all_list   : list of list (term-wise stddev of each graph)\n",
    "    \"\"\"\n",
    "    expval_all_list, stddev_all_list, Es_all_list, Ds_all_list = [], [], [], []\n",
    "    begin = 0\n",
    "    for adj_list in adj_lists:\n",
    "        n = len(adj_list)\n",
    "        if n > limit:\n",
    "            break\n",
    "        print(\"graph size:\", n)\n",
    "        if n <= 1:\n",
    "            print(\"skipped\\n\")\n",
    "            expval_all_list.append(0)\n",
    "            stddev_all_list.append(0)\n",
    "            Es_all_list.append([])\n",
    "            Ds_all_list.append([])\n",
    "            continue\n",
    "\n",
    "        # for the first term\n",
    "        expval1, stddev1 = mit.expectation_value(counts_dict_list[begin], \n",
    "                                                 qubits=range(n),\n",
    "                                                 clbits=range(n),\n",
    "                                                 meas_mitigator=meas_mitigator_list[n-2])\n",
    "        Es_1, Ds_1 = [expval1], [stddev1]\n",
    "        begin += 1 # update index of counts_dict_list\n",
    "\n",
    "\n",
    "        # for the second term\n",
    "        Es_2, Ds_2 = [], []\n",
    "        sum_expval2, sum_stddev2 = 0, 0\n",
    "        for pos in range(1, n): # recover the two qubit expectation values\n",
    "            expval2, stddev2 = mit.expectation_value(extract_two_qubit_counts(counts_dict_list[begin], 0, pos), \n",
    "                                                     qubits=[0,pos],\n",
    "                                                     clbits=[0,pos],\n",
    "                                                     meas_mitigator=meas_mitigator_list[n-2])\n",
    "            Es_2.append(expval2)\n",
    "            Ds_2.append(stddev2)\n",
    "        sum_stddev2 = compute_stddev_of_grouping(Ds_2)\n",
    "        begin += 1 # update index of counts_dict_list\n",
    "\n",
    "        sum_expval = np.sqrt(2) * ((n - 1) * sum(Es_1) + sum(Es_2))\n",
    "        sum_stddev = np.sqrt(2 * ((stddev1 * (n - 1)) ** 2 +  sum_stddev2 ** 2) )\n",
    "        Es = [Es_1, Es_2]\n",
    "        Ds = [Ds_1, Ds_2]\n",
    "\n",
    "        expval_all_list.append(sum_expval)\n",
    "        stddev_all_list.append(sum_stddev)\n",
    "        Es_all_list.append(Es)\n",
    "        Ds_all_list.append(Ds)\n",
    "        print(\"total correlation:\", sum_expval, \"\\n\")\n",
    "    return expval_all_list, stddev_all_list, Es_all_list, Ds_all_list"
   ]
  },
  {
   "cell_type": "code",
   "execution_count": 26,
   "metadata": {
    "colab": {
     "base_uri": "https://localhost:8080/"
    },
    "executionInfo": {
     "elapsed": 943,
     "status": "ok",
     "timestamp": 1610828092108,
     "user": {
      "displayName": "Bo Yang",
      "photoUrl": "",
      "userId": "03206198380065904075"
     },
     "user_tz": -540
    },
    "id": "M1kitM7wOFC_",
    "outputId": "aad3c7ed-35cf-4758-fb3a-bf54cb4218bc",
    "scrolled": false
   },
   "outputs": [
    {
     "name": "stdout",
     "output_type": "stream",
     "text": [
      "graph size: 1\n",
      "skipped\n",
      "\n",
      "graph size: 2\n",
      "total correlation: 2.5636073487842364 \n",
      "\n",
      "graph size: 3\n",
      "total correlation: 4.838226232796432 \n",
      "\n",
      "graph size: 4\n",
      "total correlation: 7.193292323847916 \n",
      "\n",
      "graph size: 5\n",
      "total correlation: 8.982811096743363 \n",
      "\n",
      "graph size: 6\n",
      "total correlation: 11.771877785427412 \n",
      "\n",
      "graph size: 7\n",
      "total correlation: 7.467779575333905 \n",
      "\n",
      "graph size: 8\n",
      "total correlation: 10.842764334171065 \n",
      "\n",
      "graph size: 9\n",
      "total correlation: 11.11932318755506 \n",
      "\n",
      "graph size: 10\n",
      "total correlation: 13.516857117515698 \n",
      "\n",
      "graph size: 11\n",
      "total correlation: 9.410942155664905 \n",
      "\n",
      "graph size: 12\n",
      "total correlation: 4.551309369922397 \n",
      "\n",
      "graph size: 13\n",
      "total correlation: 10.757483389369757 \n",
      "\n",
      "graph size: 14\n",
      "total correlation: 10.680143585177479 \n",
      "\n",
      "graph size: 15\n",
      "total correlation: 10.98570486513358 \n",
      "\n",
      "graph size: 16\n",
      "total correlation: 11.677965166051074 \n",
      "\n",
      "graph size: 17\n",
      "total correlation: 12.8791489999124 \n",
      "\n",
      "graph size: 18\n",
      "total correlation: 17.70321928640578 \n",
      "\n",
      "graph size: 19\n",
      "total correlation: 16.3207702864688 \n",
      "\n",
      "graph size: 20\n",
      "total correlation: 18.725900090055465 \n",
      "\n",
      "graph size: 21\n",
      "total correlation: 19.43818587598703 \n",
      "\n",
      "graph size: 22\n",
      "total correlation: 17.277505096365246 \n",
      "\n",
      "graph size: 23\n",
      "total correlation: 18.06678541950609 \n",
      "\n",
      "graph size: 24\n",
      "total correlation: 21.12032661716909 \n",
      "\n",
      "graph size: 25\n",
      "total correlation: 19.544873373734415 \n",
      "\n",
      "graph size: 26\n",
      "total correlation: 17.719101567623838 \n",
      "\n",
      "graph size: 27\n",
      "total correlation: 21.278804162366665 \n",
      "\n"
     ]
    }
   ],
   "source": [
    "# without CTMP mitigation\n",
    "corr_list_real, stddev_list_real, Es_list_real, Ds_list_real = analyze_circuits_for_star_graph(adj_lists, \n",
    "                                                                                            counts_dict_list,\n",
    "                                                                                            [None] * len(adj_lists))"
   ]
  },
  {
   "cell_type": "code",
   "execution_count": 27,
   "metadata": {
    "colab": {
     "base_uri": "https://localhost:8080/",
     "height": 1000
    },
    "executionInfo": {
     "elapsed": 1320030,
     "status": "error",
     "timestamp": 1610880636677,
     "user": {
      "displayName": "Bo Yang",
      "photoUrl": "",
      "userId": "03206198380065904075"
     },
     "user_tz": -540
    },
    "id": "t0r2RdmQ3KHK",
    "outputId": "5bae687c-5138-4023-fddc-da9c16f4687d"
   },
   "outputs": [
    {
     "name": "stdout",
     "output_type": "stream",
     "text": [
      "graph size: 1\n",
      "skipped\n",
      "\n",
      "graph size: 2\n",
      "time: 0.010331153869628906\n",
      "total correlation: 2.7715039900314977 \n",
      "\n",
      "graph size: 3\n",
      "time: 0.053835153579711914\n",
      "total correlation: 5.2576781408370294 \n",
      "\n",
      "graph size: 4\n",
      "time: 0.16322612762451172\n",
      "total correlation: 8.471670790405446 \n",
      "\n",
      "graph size: 5\n",
      "time: 0.7820088863372803\n",
      "total correlation: 11.3137084989175 \n",
      "\n",
      "graph size: 6\n",
      "time: 6.549703121185303\n",
      "total correlation: 14.14213562346226 \n",
      "\n",
      "graph size: 7\n",
      "time: 71.51601791381836\n",
      "total correlation: 16.74344366605396 \n",
      "\n",
      "graph size: 8\n",
      "time: 293.72415018081665\n",
      "total correlation: 18.211316391795357 \n",
      "\n",
      "graph size: 9\n",
      "time: 81.97191405296326\n",
      "total correlation: 5.321677908388562e-05 \n",
      "\n",
      "graph size: 10\n",
      "time: 462.1153929233551\n",
      "total correlation: 1.2619257714486406e-05 \n",
      "\n",
      "graph size: 11\n",
      "time: 2724.2443521022797\n",
      "total correlation: -1.1958306918996279e-05 \n",
      "\n"
     ]
    }
   ],
   "source": [
    "# with tensored mitigation\n",
    "tensored_corr_list_real, tensored_stddev_list_real, tensored_Es_list_real, tensored_Ds_list_real = analyze_circuits_tensored(adj_lists, \n",
    "                                                                                                                            counts_dict_list,\n",
    "                                                                                                                            tensored_meas_mitigator_list,\n",
    "                                                                                                                            limit=11)"
   ]
  },
  {
   "cell_type": "code",
   "execution_count": 28,
   "metadata": {
    "executionInfo": {
     "elapsed": 584,
     "status": "ok",
     "timestamp": 1610830952245,
     "user": {
      "displayName": "Bo Yang",
      "photoUrl": "",
      "userId": "03206198380065904075"
     },
     "user_tz": -540
    },
    "id": "AIsrZM49S7eu"
   },
   "outputs": [],
   "source": [
    "# theoretical bounds\n",
    "c_bounds = [2 * i for i in range(max_size)]\n",
    "q_bounds = [2 * np.sqrt(2) * i for i in range(max_size)]"
   ]
  },
  {
   "cell_type": "markdown",
   "metadata": {
    "id": "suNXUgRhbt_M"
   },
   "source": [
    "## Plot correlations"
   ]
  },
  {
   "cell_type": "code",
   "execution_count": 29,
   "metadata": {
    "colab": {
     "base_uri": "https://localhost:8080/",
     "height": 294
    },
    "executionInfo": {
     "elapsed": 1095,
     "status": "ok",
     "timestamp": 1610830958008,
     "user": {
      "displayName": "Bo Yang",
      "photoUrl": "",
      "userId": "03206198380065904075"
     },
     "user_tz": -540
    },
    "id": "uXhSZLMNS7eu",
    "outputId": "ecd6ed8f-2a01-4d7f-9915-822d89112f5b"
   },
   "outputs": [
    {
     "data": {
      "image/png": "[encoded data removed]",
      "text/plain": [
       "<Figure size 432x288 with 1 Axes>"
      ]
     },
     "metadata": {
      "needs_background": "light"
     },
     "output_type": "display_data"
    }
   ],
   "source": [
    "plt.clf()\n",
    "plt.plot(list(range(1, max_size + 1)), c_bounds, label=\"Classical bounds\", marker=\"o\", markersize=3)\n",
    "plt.plot(list(range(1, max_size + 1)), q_bounds, label=\"Quantum bounds\", marker=\"x\", markersize=3)\n",
    "plt.errorbar(list(range(1, max_size + 1)), corr_list_real, label=\"Actual correlations\", fmt=\"v\", yerr=stddev_list_real, capsize=3)\n",
    "plt.errorbar(list(range(1, 11 + 1)), tensored_corr_list_real, label=\"Mitigated correlations\", fmt=\"*\", yerr=tensored_stddev_list_real, capsize=3)\n",
    "plt.legend(bbox_to_anchor=(1.05, 1), loc='upper left', borderaxespad=0)\n",
    "plt.xlabel(\"graph size\")\n",
    "plt.ylabel(\"correlation\")\n",
    "plt.xticks(list(range(max_size + 2)))\n",
    "plt.title(\"correlation of star graphs (ibmq_toronto)\")\n",
    "plt.show()"
   ]
  },
  {
   "cell_type": "code",
   "execution_count": 57,
   "metadata": {},
   "outputs": [
    {
     "data": {
      "image/png": "[encoded data removed]",
      "text/plain": [
       "<Figure size 432x288 with 1 Axes>"
      ]
     },
     "metadata": {
      "needs_background": "light"
     },
     "output_type": "display_data"
    }
   ],
   "source": [
    "max_size = 27\n",
    "plt.clf()\n",
    "plt.plot(list(range(1, max_size + 1)), c_bounds, label=\"Classical bounds\") # , marker=\"o\", markersize=3)\n",
    "plt.plot(list(range(1, max_size + 1)), q_bounds, label=\"Quantum bounds\") # , marker=\"x\", markersize=3)\n",
    "plt.errorbar(list(range(1, max_size + 1)), corr_list_real, label=\"Actual correlations\", fmt=\"o\", yerr=stddev_list_real, capsize=3)\n",
    "plt.errorbar(list(range(1, 11 + 1)), tensored_corr_list_real, label=\"Mitigated correlations\", fmt=\"*\", yerr=tensored_stddev_list_real, capsize=3)\n",
    "plt.legend(bbox_to_anchor=(1.05, 1), loc='upper left', borderaxespad=0)\n",
    "plt.xlabel(\"graph size\")\n",
    "plt.ylabel(\"correlation\")\n",
    "plt.xticks(list(range(max_size + 2)))\n",
    "plt.title(\"correlation of star graphs (ibmq_toronto)\")\n",
    "plt.show()"
   ]
  },
  {
   "cell_type": "code",
   "execution_count": 30,
   "metadata": {
    "executionInfo": {
     "elapsed": 613,
     "status": "ok",
     "timestamp": 1610830962750,
     "user": {
      "displayName": "Bo Yang",
      "photoUrl": "",
      "userId": "03206198380065904075"
     },
     "user_tz": -540
    },
    "id": "E6ZP3z57S7eu",
    "scrolled": true
   },
   "outputs": [],
   "source": [
    "each_corr_list = [[0]] + [E_1 + Es_2 for E_1, Es_2 in Es_list_real[1:]]\n",
    "tp_each_corr_list = []\n",
    "for i in range(len(each_corr_list)):\n",
    "    tp_each_corr_list.append([each_corr_list[j][i] for j in range(i, len(each_corr_list))])\n",
    "# pprint.pprint(tp_each_corr_list)"
   ]
  },
  {
   "cell_type": "code",
   "execution_count": 31,
   "metadata": {
    "executionInfo": {
     "elapsed": 724,
     "status": "ok",
     "timestamp": 1610830964924,
     "user": {
      "displayName": "Bo Yang",
      "photoUrl": "",
      "userId": "03206198380065904075"
     },
     "user_tz": -540
    },
    "id": "hURa_Ys5ZAVX"
   },
   "outputs": [],
   "source": [
    "each_stddev_list = [[0]] + [D_1 + Ds_2 for D_1, Ds_2 in Ds_list_real[1:]]\n",
    "tp_each_stddev_list = []\n",
    "for i in range(len(each_stddev_list)):\n",
    "    tp_each_stddev_list.append([each_stddev_list[j][i] for j in range(i, len(each_stddev_list))])\n",
    "# pprint.pprint(tp_each_corr_list)"
   ]
  },
  {
   "cell_type": "code",
   "execution_count": 32,
   "metadata": {
    "executionInfo": {
     "elapsed": 540,
     "status": "ok",
     "timestamp": 1610830965884,
     "user": {
      "displayName": "Bo Yang",
      "photoUrl": "",
      "userId": "03206198380065904075"
     },
     "user_tz": -540
    },
    "id": "5YAchocxmYrk"
   },
   "outputs": [],
   "source": [
    "max_size = 27"
   ]
  },
  {
   "cell_type": "code",
   "execution_count": 33,
   "metadata": {
    "colab": {
     "base_uri": "https://localhost:8080/",
     "height": 454
    },
    "executionInfo": {
     "elapsed": 1526,
     "status": "ok",
     "timestamp": 1610830971659,
     "user": {
      "displayName": "Bo Yang",
      "photoUrl": "",
      "userId": "03206198380065904075"
     },
     "user_tz": -540
    },
    "id": "dNLAmHZUS7eu",
    "outputId": "4f5c61ae-5afb-4e8d-d5ff-741865c3af08"
   },
   "outputs": [
    {
     "data": {
      "image/png": "[encoded data removed]",
      "text/plain": [
       "<Figure size 432x288 with 1 Axes>"
      ]
     },
     "metadata": {
      "needs_background": "light"
     },
     "output_type": "display_data"
    }
   ],
   "source": [
    "plt.clf()\n",
    "for i, (each_corr, each_stddev) in enumerate(zip(tp_each_corr_list, tp_each_stddev_list)):\n",
    "    if i == 0:\n",
    "        plt.plot(list(range(2, max_size + 1)), each_corr[1:], color=[min(1, 2*i/max_size), 0, min(1, 2*(1-i/max_size))])\n",
    "        plt.errorbar(list(range(2, max_size + 1)), each_corr[1:], label=str(i), color=[min(1, 2*i/max_size), 0, min(1, 2*(1-i/max_size))], fmt=\"x\", yerr=each_stddev[1:], capsize=3)\n",
    "    else:\n",
    "        plt.plot(list(range(i+1, max_size + 1)), each_corr, color=[min(1, 2*i/max_size), 0, min(1, 2*(1-i/max_size))])\n",
    "        plt.errorbar(list(range(i+1, max_size + 1)), each_corr, label=str(i), color=[min(1, 2*i/max_size), 0, min(1, 2*(1-i/max_size))], fmt=\"v\", yerr=each_stddev, capsize=3)\n",
    "#  plt.plot(list(range(1, max_size + 1)), damped_vibration, label=\"damped vibration\", color=[0, 0, 1])\n",
    "plt.legend(bbox_to_anchor=(1.05, 1), loc='upper left', borderaxespad=0)\n",
    "plt.xlabel(\"graph size\")\n",
    "plt.ylabel(\"correlation\")\n",
    "plt.xticks(list(range(max_size + 2)))\n",
    "plt.ylim([-1,1])\n",
    "plt.title(\"correlation of each term (ibmq_toronto)\")\n",
    "plt.show()"
   ]
  },
  {
   "cell_type": "code",
   "execution_count": 34,
   "metadata": {
    "executionInfo": {
     "elapsed": 839,
     "status": "ok",
     "timestamp": 1610830975543,
     "user": {
      "displayName": "Bo Yang",
      "photoUrl": "",
      "userId": "03206198380065904075"
     },
     "user_tz": -540
    },
    "id": "ADOKuOVES7ev"
   },
   "outputs": [],
   "source": [
    "mitigated_each_corr_list = [[0]] + [E_1 + Es_2 for E_1, Es_2 in tensored_Es_list_real[1:]]\n",
    "mitigated_tp_each_corr_list = []\n",
    "for i in range(len(mitigated_each_corr_list)):\n",
    "    mitigated_tp_each_corr_list.append([mitigated_each_corr_list[j][i] for j in range(i, len(mitigated_each_corr_list))])\n",
    "# pprint.pprint(tp_each_corr_list)"
   ]
  },
  {
   "cell_type": "code",
   "execution_count": 35,
   "metadata": {
    "executionInfo": {
     "elapsed": 848,
     "status": "ok",
     "timestamp": 1610830975785,
     "user": {
      "displayName": "Bo Yang",
      "photoUrl": "",
      "userId": "03206198380065904075"
     },
     "user_tz": -540
    },
    "id": "14Ug4Xzx3gPK"
   },
   "outputs": [],
   "source": [
    "mitigated_each_stddev_list = [[0]] + [D_1 + Ds_2 for D_1, Ds_2 in tensored_Ds_list_real[1:]]\n",
    "mitigated_tp_each_stddev_list = []\n",
    "for i in range(len(mitigated_each_stddev_list)):\n",
    "    mitigated_tp_each_stddev_list.append([mitigated_each_stddev_list[j][i] for j in range(i, len(mitigated_each_stddev_list))])\n",
    "# pprint.pprint(tp_each_corr_list)"
   ]
  },
  {
   "cell_type": "code",
   "execution_count": 36,
   "metadata": {
    "executionInfo": {
     "elapsed": 633,
     "status": "ok",
     "timestamp": 1610830977490,
     "user": {
      "displayName": "Bo Yang",
      "photoUrl": "",
      "userId": "03206198380065904075"
     },
     "user_tz": -540
    },
    "id": "uv-2eHpDhsph"
   },
   "outputs": [],
   "source": [
    "max_size = 11"
   ]
  },
  {
   "cell_type": "code",
   "execution_count": 37,
   "metadata": {
    "colab": {
     "base_uri": "https://localhost:8080/",
     "height": 294
    },
    "executionInfo": {
     "elapsed": 922,
     "status": "ok",
     "timestamp": 1610830979432,
     "user": {
      "displayName": "Bo Yang",
      "photoUrl": "",
      "userId": "03206198380065904075"
     },
     "user_tz": -540
    },
    "id": "dyPyB6L4a6Cw",
    "outputId": "f7e184f4-d9ae-4824-e5ba-c20f16df6c40"
   },
   "outputs": [
    {
     "data": {
      "image/png": "[encoded data removed]",
      "text/plain": [
       "<Figure size 432x288 with 1 Axes>"
      ]
     },
     "metadata": {
      "needs_background": "light"
     },
     "output_type": "display_data"
    }
   ],
   "source": [
    "plt.clf()\n",
    "for i, (each_corr, each_stddev) in enumerate(zip(mitigated_tp_each_corr_list, mitigated_tp_each_stddev_list)):\n",
    "    if i == 0:\n",
    "        plt.plot(list(range(2, max_size + 1)), each_corr[1:], color=[min(1, 2*i/max_size), 0, min(1, 2*(1-i/max_size))])\n",
    "        plt.errorbar(list(range(2, max_size + 1)), each_corr[1:], label=str(i), color=[min(1, 2*i/max_size), 0, min(1, 2*(1-i/max_size))], fmt=\"x\", yerr=each_stddev[1:], capsize=3)\n",
    "    else:\n",
    "        plt.plot(list(range(i+1, max_size + 1)), each_corr, color=[min(1, 2*i/max_size), 0, min(1, 2*(1-i/max_size))])\n",
    "        plt.errorbar(list(range(i+1, max_size + 1)), each_corr, label=str(i), color=[min(1, 2*i/max_size), 0, min(1, 2*(1-i/max_size))], fmt=\"v\", yerr=each_stddev, capsize=3)\n",
    "#  plt.plot(list(range(1, max_size + 1)), damped_vibration, label=\"damped vibration\", color=[0, 0, 1])\n",
    "plt.legend(bbox_to_anchor=(1.05, 1), loc='upper left', borderaxespad=0)\n",
    "plt.xlabel(\"graph size\")\n",
    "plt.ylabel(\"correlation\")\n",
    "plt.xticks(list(range(max_size + 2)))\n",
    "plt.ylim([-1,1])\n",
    "plt.title(\"mitigated correlation of each term (ibmq_toronto)\")\n",
    "plt.show()"
   ]
  },
  {
   "cell_type": "code",
   "execution_count": 58,
   "metadata": {},
   "outputs": [
    {
     "data": {
      "image/png": "[encoded data removed]",
      "text/plain": [
       "<Figure size 432x288 with 1 Axes>"
      ]
     },
     "metadata": {
      "needs_background": "light"
     },
     "output_type": "display_data"
    }
   ],
   "source": [
    "max_size = 11\n",
    "plt.clf()\n",
    "for i, (each_corr, each_stddev) in enumerate(zip(mitigated_tp_each_corr_list, mitigated_tp_each_stddev_list)):\n",
    "    if i == 0:\n",
    "        plt.plot(list(range(2, max_size + 1)), each_corr[1:], color=[min(1, 2*i/max_size), 0, min(1, 2*(1-i/max_size))])\n",
    "        plt.errorbar(list(range(2, max_size + 1)), each_corr[1:], label=str(i), color=[min(1, 2*i/max_size), 0, min(1, 2*(1-i/max_size))], fmt=\"x\", yerr=each_stddev[1:], capsize=3)\n",
    "    else:\n",
    "        plt.plot(list(range(i+1, max_size + 1)), each_corr, color=[min(1, 2*i/max_size), 0, min(1, 2*(1-i/max_size))])\n",
    "        plt.errorbar(list(range(i+1, max_size + 1)), each_corr, label=str(i), color=[min(1, 2*i/max_size), 0, min(1, 2*(1-i/max_size))], fmt=\"v\", yerr=each_stddev, capsize=3)\n",
    "#  plt.plot(list(range(1, max_size + 1)), damped_vibration, label=\"damped vibration\", color=[0, 0, 1])\n",
    "plt.legend(bbox_to_anchor=(1.05, 1), loc='upper left', borderaxespad=0)\n",
    "plt.xlabel(\"graph size\")\n",
    "plt.ylabel(\"correlation\")\n",
    "plt.xticks(list(range(max_size + 2)))\n",
    "plt.ylim([-1,1.1])\n",
    "plt.title(\"mitigated correlation of each term (ibmq_toronto)\")\n",
    "plt.show()"
   ]
  },
  {
   "cell_type": "code",
   "execution_count": null,
   "metadata": {},
   "outputs": [],
   "source": []
  }
 ],
 "metadata": {
  "colab": {
   "collapsed_sections": [
    "JoWPCVSFe1de",
    "aT21s9W9e8Xz",
    "0OlM_4hIerIk",
    "OMrkLw_VfC5h"
   ],
   "name": "toronto_new.ipynb",
   "provenance": []
  },
  "kernelspec": {
   "display_name": "Python 3",
   "language": "python",
   "name": "python3"
  },
  "language_info": {
   "codemirror_mode": {
    "name": "ipython",
    "version": 3
   },
   "file_extension": ".py",
   "mimetype": "text/x-python",
   "name": "python",
   "nbconvert_exporter": "python",
   "pygments_lexer": "ipython3",
   "version": "3.6.10"
  }
 },
 "nbformat": 4,
 "nbformat_minor": 1
}
