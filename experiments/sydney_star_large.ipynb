{
 "cells": [
  {
   "cell_type": "markdown",
   "metadata": {
    "id": "m2GiFQGETOlU"
   },
   "source": [
    "# Experiment of star graph from size 2 to 27 on ibmq_sydney, with measurement error mitigation proposed by Bravyi et al.\n",
    "\n",
    "External packages by my own:\n",
    "- bell_ineq.py \\\n",
    "importing the inequality by Baccari et al.\n",
    "\n",
    "- graph_lib.py \\\n",
    "importing graph library such as making adjacency list of star graph\n",
    "\n",
    "- graph_state_lib.py \\\n",
    "importing the circuit preparation functions for graph states\n",
    "\n",
    "### circuits\n",
    "\n",
    "[circquit of size 2 (term1), \\\n",
    "circquit of size 2 (term2), \\\n",
    "circquits of 2 qubit calibration, \\\n",
    "circquit of size 3 (term1), \\\n",
    "circquit of size 3 (term2), \\\n",
    "circquits of 3 qubit calibration, \\\n",
    "circquit of size 4 (term1), \\\n",
    "circquit of size 4 (term2), \\\n",
    "circquits of 4 qubit calibration, \\\n",
    "…, \\\n",
    "circquit of size n (term1), \\\n",
    "circquit of size n (term2), \\\n",
    "circquits of n qubit calibration]"
   ]
  },
  {
   "cell_type": "markdown",
   "metadata": {
    "id": "_Y0MZiZn4Nqg"
   },
   "source": [
    "## imports"
   ]
  },
  {
   "cell_type": "markdown",
   "metadata": {
    "id": "aT21s9W9e8Xz"
   },
   "source": [
    "### import qiskit libraries"
   ]
  },
  {
   "cell_type": "code",
   "execution_count": 1,
   "metadata": {
    "executionInfo": {
     "elapsed": 35079,
     "status": "ok",
     "timestamp": 1610811747437,
     "user": {
      "displayName": "Bo Yang",
      "photoUrl": "",
      "userId": "03206198380065904075"
     },
     "user_tz": -540
    },
    "id": "vOqGZ75TS7ee"
   },
   "outputs": [],
   "source": [
    "import numpy as np\n",
    "import matplotlib.pyplot as plt\n",
    "%matplotlib inline\n",
    "from IPython.display import Image, display\n",
    "import pickle\n",
    "import pprint\n",
    "import time\n",
    "import pdb"
   ]
  },
  {
   "cell_type": "code",
   "execution_count": 2,
   "metadata": {
    "executionInfo": {
     "elapsed": 46731,
     "status": "ok",
     "timestamp": 1610811760546,
     "user": {
      "displayName": "Bo Yang",
      "photoUrl": "",
      "userId": "03206198380065904075"
     },
     "user_tz": -540
    },
    "id": "1ABk0TemrES1"
   },
   "outputs": [],
   "source": [
    "import qiskit\n",
    "from qiskit import QuantumCircuit, QuantumRegister, ClassicalRegister, Aer, execute, IBMQ\n",
    "from qiskit.tools.visualization import plot_histogram\n",
    "from qiskit.tools.monitor import job_monitor\n",
    "import qiskit.ignis.mitigation as mit\n",
    "import qiskit.quantum_info as qi\n",
    "# from qiskit.ignis.mitigation.measurement import complete_meas_cal, tensored_meas_cal, CompleteMeasFitter, TensoredMeasFitter"
   ]
  },
  {
   "cell_type": "markdown",
   "metadata": {
    "id": "0OlM_4hIerIk"
   },
   "source": [
    "### import original library"
   ]
  },
  {
   "cell_type": "code",
   "execution_count": 3,
   "metadata": {
    "colab": {
     "base_uri": "https://localhost:8080/"
    },
    "executionInfo": {
     "elapsed": 51860,
     "status": "ok",
     "timestamp": 1610811766412,
     "user": {
      "displayName": "Bo Yang",
      "photoUrl": "",
      "userId": "03206198380065904075"
     },
     "user_tz": -540
    },
    "id": "L6vq0TE6S7el",
    "outputId": "3b3414d3-33c6-4179-e9a4-eac5d3d221ad"
   },
   "outputs": [],
   "source": [
    "import importlib\n",
    "import star_bell_ineq\n",
    "importlib.reload(star_bell_ineq)\n",
    "from star_bell_ineq import *\n",
    "import graph_lib\n",
    "from graph_lib import *\n",
    "import graph_state_lib\n",
    "from graph_state_lib import *"
   ]
  },
  {
   "cell_type": "markdown",
   "metadata": {
    "id": "OMrkLw_VfC5h"
   },
   "source": [
    "### load account"
   ]
  },
  {
   "cell_type": "code",
   "execution_count": 4,
   "metadata": {
    "colab": {
     "base_uri": "https://localhost:8080/"
    },
    "executionInfo": {
     "elapsed": 3968,
     "status": "ok",
     "timestamp": 1610811775067,
     "user": {
      "displayName": "Bo Yang",
      "photoUrl": "",
      "userId": "03206198380065904075"
     },
     "user_tz": -540
    },
    "id": "06_lYscyS7el",
    "outputId": "338351a3-e908-401b-ff1e-ea8ba253ec2f"
   },
   "outputs": [
    {
     "name": "stdout",
     "output_type": "stream",
     "text": [
      "<AccountProvider for IBMQ(hub='ibm-q-utokyo', group='internal', project='hirashi-jst')>\n"
     ]
    }
   ],
   "source": [
    "IBMQ.load_account()\n",
    "provider = IBMQ.get_provider(hub='ibm-q-utokyo', group='internal', project='hirashi-jst')\n",
    "# provider = IBMQ.get_provider(hub=\"ibm-q-utokyo\", group=\"reservations\", project=\"reservations\")\n",
    "print(provider)"
   ]
  },
  {
   "cell_type": "markdown",
   "metadata": {
    "id": "SKpSIOj8UBAg"
   },
   "source": [
    "## create star graph information from size 2 to 27\n",
    "we test the size from 2 to 27\n",
    "\n",
    "change the number of 27 of \"max_size = len(vertex_list[:27]) # largest graph size\" if you want to try up to other size"
   ]
  },
  {
   "cell_type": "code",
   "execution_count": 5,
   "metadata": {
    "executionInfo": {
     "elapsed": 610,
     "status": "ok",
     "timestamp": 1610811779451,
     "user": {
      "displayName": "Bo Yang",
      "photoUrl": "",
      "userId": "03206198380065904075"
     },
     "user_tz": -540
    },
    "id": "2hjI9HU3S7em"
   },
   "outputs": [],
   "source": [
    "vertex_list =  [ 8,\n",
    "                11, \n",
    "                 5, 14,\n",
    "                 9,  3, 13, \n",
    "                 2, 12, 16,\n",
    "                 1, 15, 19,\n",
    "                10,  0, 18, 20,\n",
    "                  4, 22,  7, 21,\n",
    "                 17, 25, 6, 23,\n",
    "                 26, 24] # qubit layout\n",
    "max_size = 27 # largest graph size\n",
    "Fs = [[0] for n in range(1, max_size + 1)] # subsets of focused vertices of graph size 1 to max_size\n",
    "adj_lists = [adjacency_list_for_star_graph(n) for n in range(1, max_size + 1)] # adjacency list of graph size 1 to max_size\n",
    "graphs = [list_to_matrix(adj_list) for adj_list in adj_lists] # adjacency matrix of graph size 1 to max_size\n",
    "shots_per_circuit = 1 << 13 # shots per one execution\n",
    "graph_sizes = [len(adj_list) for adj_list in adj_lists]\n",
    "system_size = len(vertex_list)"
   ]
  },
  {
   "cell_type": "code",
   "execution_count": 6,
   "metadata": {
    "colab": {
     "base_uri": "https://localhost:8080/"
    },
    "executionInfo": {
     "elapsed": 722,
     "status": "ok",
     "timestamp": 1610811780221,
     "user": {
      "displayName": "Bo Yang",
      "photoUrl": "",
      "userId": "03206198380065904075"
     },
     "user_tz": -540
    },
    "id": "IFfTxEtES7en",
    "outputId": "20eac2d3-3238-4791-df16-a028260f0ab0"
   },
   "outputs": [
    {
     "name": "stdout",
     "output_type": "stream",
     "text": [
      "max_size: 27\n",
      "system_size: 27\n",
      "shots_per_circuit: 8192\n",
      "graph_sizes: [1, 2, 3, 4, 5, 6, 7, 8, 9, 10, 11, 12, 13, 14, 15, 16, 17, 18, 19, 20, 21, 22, 23, 24, 25, 26, 27]\n"
     ]
    }
   ],
   "source": [
    "print(\"max_size:\", max_size)\n",
    "print(\"system_size:\", system_size)\n",
    "print(\"shots_per_circuit:\", shots_per_circuit)\n",
    "print(\"graph_sizes:\", graph_sizes)"
   ]
  },
  {
   "cell_type": "code",
   "execution_count": 7,
   "metadata": {
    "executionInfo": {
     "elapsed": 695,
     "status": "ok",
     "timestamp": 1610811781842,
     "user": {
      "displayName": "Bo Yang",
      "photoUrl": "",
      "userId": "03206198380065904075"
     },
     "user_tz": -540
    },
    "id": "lT46dGROS7eo"
   },
   "outputs": [],
   "source": [
    " # indicate how to connect qubits\n",
    "order = [[0,1],\n",
    "         [0,2],[1,3],\n",
    "         [0,4],[2,5],[3,6],\n",
    "         [5,7],[6,8],[3,9], \n",
    "         [7,10],[8,11],[9,12],\n",
    "         [8,13],[10,14],[11,15],[12,16],\n",
    "         [10,17],[12,18],[13,19],[15,20],\n",
    "         [15,21],[18,22],[19,23],[20,24],\n",
    "         [22,25],[24,26]]"
   ]
  },
  {
   "cell_type": "code",
   "execution_count": 8,
   "metadata": {
    "colab": {
     "base_uri": "https://localhost:8080/"
    },
    "executionInfo": {
     "elapsed": 641,
     "status": "ok",
     "timestamp": 1610811783736,
     "user": {
      "displayName": "Bo Yang",
      "photoUrl": "",
      "userId": "03206198380065904075"
     },
     "user_tz": -540
    },
    "id": "dL2TwGGKS7eo",
    "outputId": "8aade5dd-99dd-4e44-d7f3-23a1262a03ec"
   },
   "outputs": [
    {
     "name": "stdout",
     "output_type": "stream",
     "text": [
      "[0, 1, 2, 2, 3, 3, 3, 4, 4, 4, 5, 5, 5, 6, 6, 6, 6, 7, 7, 7, 7, 8, 8, 8, 8, 9, 9]\n",
      "27\n"
     ]
    }
   ],
   "source": [
    "qubit_depths = [0, 1, 2, 2, 3, 3, 3, 4, 4, 4, 5, 5, 5, 6, 6, 6, 6, 7, 7, 7, 7, 8, 8, 8, 8, 9, 9]\n",
    "print(qubit_depths)\n",
    "print(len(qubit_depths))"
   ]
  },
  {
   "cell_type": "markdown",
   "metadata": {
    "id": "BVbr64jYUT-J"
   },
   "source": [
    "## prepare quantum circuits (from size 2 to 27)"
   ]
  },
  {
   "cell_type": "code",
   "execution_count": 9,
   "metadata": {
    "colab": {
     "base_uri": "https://localhost:8080/"
    },
    "executionInfo": {
     "elapsed": 1838,
     "status": "ok",
     "timestamp": 1610811789681,
     "user": {
      "displayName": "Bo Yang",
      "photoUrl": "",
      "userId": "03206198380065904075"
     },
     "user_tz": -540
    },
    "id": "An6oOvP8W9O3",
    "outputId": "6b66f592-c844-4244-84b4-a5cac35337c7"
   },
   "outputs": [
    {
     "name": "stdout",
     "output_type": "stream",
     "text": [
      "the number of graph state circuits is:  199\n"
     ]
    }
   ],
   "source": [
    "qcs = [refocusing_last_star_graph_state(size, order[:size-1], qubit_depths[:size], system_size) for size in range(1, max_size+1)]\n",
    "qcs_list, nums_divide_list, nums_meas_cal_list, metadatas_list, _, initial_layouts_list = \\\n",
    "    prepare_grouping_star_graph_qcs_list(qcs, \n",
    "                                                            adj_lists, \n",
    "                                                            measure_last=True,\n",
    "                                                            optimization_level=0,\n",
    "                                                            initial_layouts=[vertex_list[:system_size]] * len(qcs),\n",
    "                                                            method=\"CTMP\",\n",
    "                                                            mitigation_limit=15)\n",
    "print(\"the number of graph state circuits is: \", len(qcs_list))"
   ]
  },
  {
   "cell_type": "code",
   "execution_count": 10,
   "metadata": {
    "colab": {
     "base_uri": "https://localhost:8080/"
    },
    "executionInfo": {
     "elapsed": 622,
     "status": "ok",
     "timestamp": 1610811792049,
     "user": {
      "displayName": "Bo Yang",
      "photoUrl": "",
      "userId": "03206198380065904075"
     },
     "user_tz": -540
    },
    "id": "vCujSCuS462u",
    "outputId": "c9aa4b4b-21d2-44c0-af91-1f9fdeafc0c6"
   },
   "outputs": [
    {
     "name": "stdout",
     "output_type": "stream",
     "text": [
      "199 quantum circuits\n",
      "length of initial_layouts_list:  199\n"
     ]
    }
   ],
   "source": [
    "ops_qcs_list = [qc.count_ops() for qc in qcs_list]\n",
    "print(len(qcs_list), \"quantum circuits\")\n",
    "print(\"length of initial_layouts_list: \", len(initial_layouts_list))"
   ]
  },
  {
   "cell_type": "code",
   "execution_count": 11,
   "metadata": {
    "colab": {
     "base_uri": "https://localhost:8080/"
    },
    "executionInfo": {
     "elapsed": 664,
     "status": "ok",
     "timestamp": 1610811792312,
     "user": {
      "displayName": "Bo Yang",
      "photoUrl": "",
      "userId": "03206198380065904075"
     },
     "user_tz": -540
    },
    "id": "zAetsDCMS7ep",
    "outputId": "3e7f006e-9e0c-4534-caf0-5690dd922c66"
   },
   "outputs": [
    {
     "name": "stdout",
     "output_type": "stream",
     "text": [
      "qcs_depth: [4, 5, 5, 6, 6, 6, 7, 7, 7, 8, 8, 8, 9, 9, 9, 9, 10, 10, 10, 10, 11, 11, 11, 11, 12, 12]\n"
     ]
    }
   ],
   "source": [
    "qcs_depths = [qc.depth() for qc in qcs[1:]]\n",
    "print(\"qcs_depth:\", qcs_depths)"
   ]
  },
  {
   "cell_type": "markdown",
   "metadata": {
    "id": "cPHC7MnzUd2B"
   },
   "source": [
    "## cast jobs to ibmq_sydney and save job ids\n",
    "\n",
    "indicate arbitrary job_ids_filename as you like"
   ]
  },
  {
   "cell_type": "code",
   "execution_count": 12,
   "metadata": {
    "executionInfo": {
     "elapsed": 625,
     "status": "ok",
     "timestamp": 1610811851686,
     "user": {
      "displayName": "Bo Yang",
      "photoUrl": "",
      "userId": "03206198380065904075"
     },
     "user_tz": -540
    },
    "id": "21Is3S6QS7er"
   },
   "outputs": [
    {
     "name": "stderr",
     "output_type": "stream",
     "text": [
      "/Users/yangbo/.pyenv/versions/anaconda3-5.1.0/lib/python3.6/site-packages/ipykernel_launcher.py:1: DeprecationWarning: The `backends` provider attribute is deprecated. Please use `provider.backend` (singular) instead. You can continue to use `provider.backends()` to retrieve all backends.\n",
      "  \"\"\"Entry point for launching an IPython kernel.\n"
     ]
    }
   ],
   "source": [
    "device = provider.backends.ibmq_sydney\n",
    "backend = provider.get_backend('ibmq_sydney')"
   ]
  },
  {
   "cell_type": "code",
   "execution_count": 13,
   "metadata": {
    "colab": {
     "base_uri": "https://localhost:8080/"
    },
    "executionInfo": {
     "elapsed": 27288,
     "status": "ok",
     "timestamp": 1610811879575,
     "user": {
      "displayName": "Bo Yang",
      "photoUrl": "",
      "userId": "03206198380065904075"
     },
     "user_tz": -540
    },
    "id": "orvQXVtQS7eq",
    "outputId": "22b6c057-40cf-456f-f3dc-0b816704d710"
   },
   "outputs": [
    {
     "data": {
      "text/plain": [
       "'\\njobs = execute_circuits(qcs_list,\\n                        backend=\\'ibmq_sydney\\', \\n                        provider=provider, \\n                        shots=shots_per_circuit,\\n                        max_experiments=900,\\n                        optimization_level=1,\\n                        initial_layout=initial_layouts_list)\\nprint(len(jobs), \"jobs\")\\n'"
      ]
     },
     "execution_count": 13,
     "metadata": {},
     "output_type": "execute_result"
    }
   ],
   "source": [
    "\"\"\"\n",
    "jobs = execute_circuits(qcs_list,\n",
    "                        backend='ibmq_sydney', \n",
    "                        provider=provider, \n",
    "                        shots=shots_per_circuit,\n",
    "                        max_experiments=900,\n",
    "                        optimization_level=1,\n",
    "                        initial_layout=initial_layouts_list)\n",
    "print(len(jobs), \"jobs\")\n",
    "\"\"\""
   ]
  },
  {
   "cell_type": "code",
   "execution_count": 14,
   "metadata": {
    "executionInfo": {
     "elapsed": 25284,
     "status": "ok",
     "timestamp": 1610811879576,
     "user": {
      "displayName": "Bo Yang",
      "photoUrl": "",
      "userId": "03206198380065904075"
     },
     "user_tz": -540
    },
    "id": "7JmhwSflsxKZ"
   },
   "outputs": [],
   "source": [
    "job_ids_filename = \"job_ids_sydney_star.pkl\""
   ]
  },
  {
   "cell_type": "code",
   "execution_count": 15,
   "metadata": {
    "executionInfo": {
     "elapsed": 748,
     "status": "ok",
     "timestamp": 1610811906566,
     "user": {
      "displayName": "Bo Yang",
      "photoUrl": "",
      "userId": "03206198380065904075"
     },
     "user_tz": -540
    },
    "id": "vY8GBwyHS7eq"
   },
   "outputs": [],
   "source": [
    "# with open(path_job_ids + job_ids_filename, \"wb\") as f:\n",
    "#     pickle.dump([job.job_id() for job in jobs], f)"
   ]
  },
  {
   "cell_type": "code",
   "execution_count": 16,
   "metadata": {
    "executionInfo": {
     "elapsed": 582,
     "status": "ok",
     "timestamp": 1610811909316,
     "user": {
      "displayName": "Bo Yang",
      "photoUrl": "",
      "userId": "03206198380065904075"
     },
     "user_tz": -540
    },
    "id": "WmBSJPged9fY"
   },
   "outputs": [],
   "source": [
    "# with open(path_properties + \"sydney_properties_star.pkl\", \"wb\") as f:\n",
    "#     pickle.dump(device.properties(), f)"
   ]
  },
  {
   "cell_type": "markdown",
   "metadata": {
    "id": "F3mNErX5UlB2"
   },
   "source": [
    "## retrieve jobs"
   ]
  },
  {
   "cell_type": "code",
   "execution_count": 17,
   "metadata": {
    "executionInfo": {
     "elapsed": 599,
     "status": "ok",
     "timestamp": 1610811915269,
     "user": {
      "displayName": "Bo Yang",
      "photoUrl": "",
      "userId": "03206198380065904075"
     },
     "user_tz": -540
    },
    "id": "pH4kUnIzS7er"
   },
   "outputs": [],
   "source": [
    "with open(job_ids_filename, \"rb\") as f:\n",
    "     job_ids = pickle.load(f)"
   ]
  },
  {
   "cell_type": "code",
   "execution_count": 18,
   "metadata": {
    "colab": {
     "base_uri": "https://localhost:8080/"
    },
    "executionInfo": {
     "elapsed": 2248,
     "status": "ok",
     "timestamp": 1610814209915,
     "user": {
      "displayName": "Bo Yang",
      "photoUrl": "",
      "userId": "03206198380065904075"
     },
     "user_tz": -540
    },
    "id": "vejTWsINS7er",
    "outputId": "815fd119-c8b9-4032-ae93-3f025530d0f4"
   },
   "outputs": [
    {
     "name": "stdout",
     "output_type": "stream",
     "text": [
      "1\n"
     ]
    }
   ],
   "source": [
    "# using job_ids_to_result function\n",
    "results_jobs_list = job_ids_to_result(job_ids, device)\n",
    "print(len(results_jobs_list))"
   ]
  },
  {
   "cell_type": "markdown",
   "metadata": {
    "id": "u_r_J8Qfitn3"
   },
   "source": [
    "## measurement error mitigation (CTMP)"
   ]
  },
  {
   "cell_type": "code",
   "execution_count": 19,
   "metadata": {
    "colab": {
     "base_uri": "https://localhost:8080/"
    },
    "executionInfo": {
     "elapsed": 615,
     "status": "ok",
     "timestamp": 1610828222998,
     "user": {
      "displayName": "Bo Yang",
      "photoUrl": "",
      "userId": "03206198380065904075"
     },
     "user_tz": -540
    },
    "id": "I3SQNMfN6YM-",
    "outputId": "3db10eeb-82ab-4ad3-bb36-d1c24867dcce"
   },
   "outputs": [
    {
     "name": "stdout",
     "output_type": "stream",
     "text": [
      "length of results_list:  199\n"
     ]
    }
   ],
   "source": [
    "results_list = flatten_results_jobs_list(results_jobs_list)\n",
    "print(\"length of results_list: \", len(results_list))\n",
    "del results_jobs_list"
   ]
  },
  {
   "cell_type": "code",
   "execution_count": 20,
   "metadata": {
    "executionInfo": {
     "elapsed": 625,
     "status": "ok",
     "timestamp": 1610828240303,
     "user": {
      "displayName": "Bo Yang",
      "photoUrl": "",
      "userId": "03206198380065904075"
     },
     "user_tz": -540
    },
    "id": "Y54cP2Fk2ERQ"
   },
   "outputs": [],
   "source": [
    "def arrange_results_list_for_grouping_star_graph(results_list, nums_divide_list, nums_meas_cal_list, limit=100):\n",
    "    pos = 0\n",
    "    results_graph_states = []\n",
    "    results_meas_cal = []\n",
    "    for i, (nums_divide, nums_meas_cal) in enumerate(zip(nums_divide_list, nums_meas_cal_list)): # graph wise\n",
    "        for num_divide in nums_divide: # term wise\n",
    "            results_graph_states += results_list[pos:pos + num_divide]\n",
    "            pos += num_divide\n",
    "        if i < limit: # start from 2\n",
    "            for num_meas_cal in nums_meas_cal: # term wise\n",
    "                results_meas_cal.append(merge_results(results_list[pos:pos + num_meas_cal]))\n",
    "                pos += num_meas_cal\n",
    "    return results_graph_states, results_meas_cal"
   ]
  },
  {
   "cell_type": "code",
   "execution_count": 21,
   "metadata": {
    "colab": {
     "base_uri": "https://localhost:8080/"
    },
    "executionInfo": {
     "elapsed": 651,
     "status": "ok",
     "timestamp": 1610828247109,
     "user": {
      "displayName": "Bo Yang",
      "photoUrl": "",
      "userId": "03206198380065904075"
     },
     "user_tz": -540
    },
    "id": "AZU5s1fK9qHl",
    "outputId": "2aad89cc-7e9d-4914-f491-67bc72c3c00a"
   },
   "outputs": [
    {
     "name": "stdout",
     "output_type": "stream",
     "text": [
      "length of results_graph_states:  52\n",
      "length of results_meas_cal:  14\n",
      "length of results_metadata_list:  26\n"
     ]
    }
   ],
   "source": [
    "results_graph_states, results_meas_cal = arrange_results_list_for_grouping_star_graph(results_list, nums_divide_list, nums_meas_cal_list, limit=15)\n",
    "print(\"length of results_graph_states: \", len(results_graph_states))\n",
    "print(\"length of results_meas_cal: \", len(results_meas_cal))\n",
    "print(\"length of results_metadata_list: \", len(metadatas_list))\n",
    "del results_list"
   ]
  },
  {
   "cell_type": "code",
   "execution_count": 22,
   "metadata": {
    "colab": {
     "base_uri": "https://localhost:8080/"
    },
    "executionInfo": {
     "elapsed": 29971,
     "status": "ok",
     "timestamp": 1610828284016,
     "user": {
      "displayName": "Bo Yang",
      "photoUrl": "",
      "userId": "03206198380065904075"
     },
     "user_tz": -540
    },
    "id": "NVs1_VzwGJ1g",
    "outputId": "569850f0-dde9-442a-c6bd-6e342bb92663"
   },
   "outputs": [
    {
     "name": "stdout",
     "output_type": "stream",
     "text": [
      "length of meas_mitigator_list:  14\n"
     ]
    }
   ],
   "source": [
    "# meas_mitigator_list = prepare_meas_mitigator_list(results_meas_cal, metadatas_list[:14])\n",
    "# print(\"length of meas_mitigator_list: \", len(meas_mitigator_list))"
   ]
  },
  {
   "cell_type": "code",
   "execution_count": 23,
   "metadata": {
    "colab": {
     "base_uri": "https://localhost:8080/"
    },
    "executionInfo": {
     "elapsed": 1204,
     "status": "ok",
     "timestamp": 1610828285228,
     "user": {
      "displayName": "Bo Yang",
      "photoUrl": "",
      "userId": "03206198380065904075"
     },
     "user_tz": -540
    },
    "id": "b5KQLDyJmqa2",
    "outputId": "4268b6ab-b36c-4013-955c-038a0428faf5"
   },
   "outputs": [
    {
     "name": "stdout",
     "output_type": "stream",
     "text": [
      "length of counts_dict_list:  52\n"
     ]
    }
   ],
   "source": [
    "counts_dict_list = results_list_to_counts_dict_list(results_graph_states)\n",
    "print(\"length of counts_dict_list: \", len(counts_dict_list))"
   ]
  },
  {
   "cell_type": "markdown",
   "metadata": {},
   "source": [
    "### Tensored"
   ]
  },
  {
   "cell_type": "code",
   "execution_count": 24,
   "metadata": {},
   "outputs": [],
   "source": [
    "def arrange_results_list_tensored(results_list, nums_divide_list, nums_meas_cal_list, limit=100):\n",
    "    pos = 0\n",
    "    results_graph_states = []\n",
    "    results_meas_cal = []\n",
    "    for i, (nums_divide, nums_meas_cal) in enumerate(zip(nums_divide_list, nums_meas_cal_list)): # graph wise\n",
    "        for num_divide in nums_divide: # term wise\n",
    "            results_graph_states += results_list[pos:pos + num_divide]\n",
    "            pos += num_divide\n",
    "        if i < limit: # start from 2\n",
    "            for num_meas_cal in nums_meas_cal: # term wise\n",
    "                results_meas_cal.append(merge_results(results_list[pos:pos + 2]))\n",
    "                pos += num_meas_cal\n",
    "    return results_graph_states, results_meas_cal"
   ]
  },
  {
   "cell_type": "code",
   "execution_count": 25,
   "metadata": {},
   "outputs": [
    {
     "name": "stdout",
     "output_type": "stream",
     "text": [
      "1\n",
      "length of results_list:  199\n",
      "length of results_meas_cal:  14\n"
     ]
    }
   ],
   "source": [
    "with open(job_ids_filename, \"rb\") as f:\n",
    "     job_ids = pickle.load(f)\n",
    "results_jobs_list = job_ids_to_result(job_ids, device)\n",
    "print(len(results_jobs_list))\n",
    "results_list = flatten_results_jobs_list(results_jobs_list)\n",
    "print(\"length of results_list: \", len(results_list))\n",
    "del results_jobs_list\n",
    "_, results_meas_cal = arrange_results_list_tensored(results_list, nums_divide_list, nums_meas_cal_list, limit=15)\n",
    "print(\"length of results_meas_cal: \", len(results_meas_cal))\n",
    "del results_list"
   ]
  },
  {
   "cell_type": "code",
   "execution_count": 26,
   "metadata": {},
   "outputs": [],
   "source": [
    "tensored_meas_mitigator_list = []\n",
    "for n in range(2,16):\n",
    "    qr = qiskit.QuantumRegister(n)\n",
    "    mit_pattern = [[i] for i in range(n)]\n",
    "    tensored_meas_mitigator_list.append( TensoredMeasFitter(results_meas_cal[n - 2], mit_pattern=mit_pattern).filter )\n",
    "del results_meas_cal"
   ]
  },
  {
   "cell_type": "markdown",
   "metadata": {
    "id": "2_jndc_V4sRp"
   },
   "source": [
    "## compute correlation"
   ]
  },
  {
   "cell_type": "code",
   "execution_count": 27,
   "metadata": {
    "executionInfo": {
     "elapsed": 672,
     "status": "ok",
     "timestamp": 1610828288772,
     "user": {
      "displayName": "Bo Yang",
      "photoUrl": "",
      "userId": "03206198380065904075"
     },
     "user_tz": -540
    },
    "id": "pcj72iST2QhM"
   },
   "outputs": [],
   "source": [
    "def analyze_circuits_tensored(adj_lists, counts_dict_list, tensored_meas_mitigator_list=None, limit=100, method='fast', threshold=0.1):\n",
    "    \"\"\"\n",
    "    Input\n",
    "        adj_lists         : list of adjacency list\n",
    "        counts_list       : list of int list (list of counts)\n",
    "        meas_mitigator : measurement mitigator\n",
    "    Output\n",
    "        expval_all_list : list of float (correlation of each graph)\n",
    "        stddev_all_list : list of float (standard deviation of each graph)\n",
    "        Es_all_list   : list of list (term-wise correlation of each graph)\n",
    "        Ds_all_list   : list of list (term-wise stddev of each graph)\n",
    "    \"\"\"\n",
    "    expval_all_list, stddev_all_list, Es_all_list, Ds_all_list = [], [], [], []\n",
    "    # begin = 0\n",
    "    for adj_list in adj_lists:\n",
    "        t1 = time.time()\n",
    "        n = len(adj_list)\n",
    "        if n > limit:\n",
    "            break\n",
    "        print(\"graph size:\", n)\n",
    "        if n <= 1:\n",
    "            print(\"skipped\\n\")\n",
    "            expval_all_list.append(0)\n",
    "            stddev_all_list.append(0)\n",
    "            Es_all_list.append([])\n",
    "            Ds_all_list.append([])\n",
    "            continue\n",
    "\n",
    "        # for the first term\n",
    "        print(\"first term\")\n",
    "        counts = tensored_meas_mitigator_list[n - 2].apply( counts_dict_list[2 * (n - 2)], method=method, threshold=0.5 ) # n = 2 -> 0, n = 10 -> 16\n",
    "        expval1, stddev1 = mit.expectation_value(counts, \n",
    "                                                 qubits=range(n),\n",
    "                                                 clbits=range(n),\n",
    "                                                 meas_mitigator=None)\n",
    "        Es_1, Ds_1 = [expval1], [stddev1]\n",
    "        # begin += 1 # update index of counts_dict_list\n",
    "\n",
    "\n",
    "        # for the second term\n",
    "        print(\"\\nsecond term\")\n",
    "        Es_2, Ds_2 = [], []\n",
    "        sum_expval2, sum_stddev2 = 0, 0\n",
    "        for pos in range(1, n): # recover the two qubit expectation values\n",
    "            counts = tensored_meas_mitigator_list[n - 2].apply( counts_dict_list[2 * (n - 2) + 1], method=method, threshold=50 ) # n = 2 -> 1, n = 10 -> 17\n",
    "            expval2, stddev2 = mit.expectation_value(extract_two_qubit_counts(counts, 0, pos), \n",
    "                                                     qubits=[0,pos],\n",
    "                                                     clbits=[0,pos],\n",
    "                                                     meas_mitigator=None)\n",
    "            Es_2.append(expval2)\n",
    "            Ds_2.append(stddev2)\n",
    "        sum_stddev2 = compute_stddev_of_grouping(Ds_2)\n",
    "        # begin += 1 # update index of counts_dict_list\n",
    "\n",
    "        sum_expval = np.sqrt(2) * ((n - 1) * sum(Es_1) + sum(Es_2))\n",
    "        sum_stddev = np.sqrt(2 * ((stddev1 * (n - 1)) ** 2 +  sum_stddev2 ** 2) )\n",
    "        Es = [Es_1, Es_2]\n",
    "        Ds = [Ds_1, Ds_2]\n",
    "\n",
    "        expval_all_list.append(sum_expval)\n",
    "        stddev_all_list.append(sum_stddev)\n",
    "        Es_all_list.append(Es)\n",
    "        Ds_all_list.append(Ds)\n",
    "        t2 = time.time()\n",
    "        print(\"time:\", t2 - t1)\n",
    "        print(\"total correlation:\", sum_expval, \"\\n\\n\\n\")\n",
    "    return expval_all_list, stddev_all_list, Es_all_list, Ds_all_list"
   ]
  },
  {
   "cell_type": "code",
   "execution_count": 28,
   "metadata": {
    "colab": {
     "base_uri": "https://localhost:8080/"
    },
    "executionInfo": {
     "elapsed": 896,
     "status": "ok",
     "timestamp": 1610828299949,
     "user": {
      "displayName": "Bo Yang",
      "photoUrl": "",
      "userId": "03206198380065904075"
     },
     "user_tz": -540
    },
    "id": "M1kitM7wOFC_",
    "outputId": "e187080d-749b-47ac-f1b1-e56601b8d69d",
    "scrolled": true
   },
   "outputs": [
    {
     "name": "stdout",
     "output_type": "stream",
     "text": [
      "graph size: 1\n",
      "skipped\n",
      "\n",
      "graph size: 2\n",
      "total correlation: 2.430334293345756 \n",
      "\n",
      "graph size: 3\n",
      "total correlation: 4.6952857018339165 \n",
      "\n",
      "graph size: 4\n",
      "total correlation: 6.61151745749082 \n",
      "\n",
      "graph size: 5\n",
      "total correlation: 7.588277752401339 \n",
      "\n",
      "graph size: 6\n",
      "total correlation: 9.93125949904778 \n",
      "\n",
      "graph size: 7\n",
      "total correlation: 12.136479719476725 \n",
      "\n",
      "graph size: 8\n",
      "total correlation: 12.173078019674858 \n",
      "\n",
      "graph size: 9\n",
      "total correlation: 11.804332881829529 \n",
      "\n",
      "graph size: 10\n",
      "total correlation: 14.404193263828896 \n",
      "\n",
      "graph size: 11\n",
      "total correlation: 7.875885149241375 \n",
      "\n",
      "graph size: 12\n",
      "total correlation: 10.716051351409607 \n",
      "\n",
      "graph size: 13\n",
      "total correlation: 11.268133257228596 \n",
      "\n",
      "graph size: 14\n",
      "total correlation: 9.425443368950958 \n",
      "\n",
      "graph size: 15\n",
      "total correlation: 8.322315358261983 \n",
      "\n",
      "graph size: 16\n",
      "total correlation: 8.847121172423874 \n",
      "\n",
      "graph size: 17\n",
      "total correlation: 11.01643362662069 \n",
      "\n",
      "graph size: 18\n",
      "total correlation: 16.805870397585547 \n",
      "\n",
      "graph size: 19\n",
      "total correlation: 17.049283620601425 \n",
      "\n",
      "graph size: 20\n",
      "total correlation: 17.9024383355975 \n",
      "\n",
      "graph size: 21\n",
      "total correlation: 15.509392876415877 \n",
      "\n",
      "graph size: 22\n",
      "total correlation: 14.791928085739293 \n",
      "\n",
      "graph size: 23\n",
      "total correlation: 16.34528424226189 \n",
      "\n",
      "graph size: 24\n",
      "total correlation: 20.277529911663056 \n",
      "\n",
      "graph size: 25\n",
      "total correlation: 19.974385500587964 \n",
      "\n",
      "graph size: 26\n",
      "total correlation: 21.25014700277756 \n",
      "\n",
      "graph size: 27\n",
      "total correlation: 22.164759240747856 \n",
      "\n"
     ]
    }
   ],
   "source": [
    "# without CTMP mitigation\n",
    "corr_list_real, stddev_list_real, Es_list_real, Ds_list_real = analyze_circuits_for_star_graph(adj_lists, \n",
    "                                                                                            counts_dict_list,\n",
    "                                                                                            None)"
   ]
  },
  {
   "cell_type": "code",
   "execution_count": 29,
   "metadata": {},
   "outputs": [
    {
     "name": "stdout",
     "output_type": "stream",
     "text": [
      "graph size: 1\n",
      "skipped\n",
      "\n",
      "graph size: 2\n",
      "first term\n",
      "4\n",
      "4\n",
      "4\n",
      "\n",
      "\n",
      "second term\n",
      "4\n",
      "2\n",
      "2\n",
      "\n",
      "time: 0.001924753189086914\n",
      "total correlation: 2.804476735870594 \n",
      "\n",
      "\n",
      "\n",
      "graph size: 3\n",
      "first term\n",
      "8\n",
      "8\n",
      "8\n",
      "8\n",
      "\n",
      "\n",
      "second term\n",
      "8\n",
      "7\n",
      "6\n",
      "5\n",
      "\n",
      "8\n",
      "7\n",
      "6\n",
      "5\n",
      "\n",
      "time: 0.002480745315551758\n",
      "total correlation: 5.480852743842376 \n",
      "\n",
      "\n",
      "\n",
      "graph size: 4\n",
      "first term\n",
      "16\n",
      "16\n",
      "16\n",
      "15\n",
      "15\n",
      "\n",
      "\n",
      "second term\n",
      "16\n",
      "9\n",
      "7\n",
      "6\n",
      "4\n",
      "\n",
      "16\n",
      "9\n",
      "7\n",
      "6\n",
      "4\n",
      "\n",
      "16\n",
      "9\n",
      "7\n",
      "6\n",
      "4\n",
      "\n",
      "time: 0.004098653793334961\n",
      "total correlation: 8.485281374238571 \n",
      "\n",
      "\n",
      "\n",
      "graph size: 5\n",
      "first term\n",
      "32\n",
      "32\n",
      "32\n",
      "32\n",
      "32\n",
      "32\n",
      "\n",
      "\n",
      "second term\n",
      "32\n",
      "12\n",
      "10\n",
      "9\n",
      "7\n",
      "6\n",
      "\n",
      "32\n",
      "12\n",
      "10\n",
      "9\n",
      "7\n",
      "6\n",
      "\n",
      "32\n",
      "12\n",
      "10\n",
      "9\n",
      "7\n",
      "6\n",
      "\n",
      "32\n",
      "12\n",
      "10\n",
      "9\n",
      "7\n",
      "6\n",
      "\n",
      "time: 0.006802082061767578\n",
      "total correlation: 10.745114554465417 \n",
      "\n",
      "\n",
      "\n",
      "graph size: 6\n",
      "first term\n",
      "64\n",
      "64\n",
      "64\n",
      "64\n",
      "64\n",
      "64\n",
      "64\n",
      "\n",
      "\n",
      "second term\n",
      "55\n",
      "11\n",
      "9\n",
      "8\n",
      "6\n",
      "5\n",
      "4\n",
      "\n",
      "55\n",
      "11\n",
      "9\n",
      "8\n",
      "6\n",
      "5\n",
      "4\n",
      "\n",
      "55\n",
      "11\n",
      "9\n",
      "8\n",
      "6\n",
      "5\n",
      "4\n",
      "\n",
      "55\n",
      "11\n",
      "9\n",
      "8\n",
      "6\n",
      "5\n",
      "4\n",
      "\n",
      "55\n",
      "11\n",
      "9\n",
      "8\n",
      "6\n",
      "5\n",
      "4\n",
      "\n",
      "time: 0.011011123657226562\n",
      "total correlation: 13.890338525437208 \n",
      "\n",
      "\n",
      "\n",
      "graph size: 7\n",
      "first term\n",
      "128\n",
      "128\n",
      "128\n",
      "127\n",
      "125\n",
      "122\n",
      "120\n",
      "120\n",
      "\n",
      "\n",
      "second term\n",
      "89\n",
      "14\n",
      "13\n",
      "12\n",
      "12\n",
      "11\n",
      "10\n",
      "9\n",
      "\n",
      "89\n",
      "14\n",
      "13\n",
      "12\n",
      "12\n",
      "11\n",
      "10\n",
      "9\n",
      "\n",
      "89\n",
      "14\n",
      "13\n",
      "12\n",
      "12\n",
      "11\n",
      "10\n",
      "9\n",
      "\n",
      "89\n",
      "14\n",
      "13\n",
      "12\n",
      "12\n",
      "11\n",
      "10\n",
      "9\n",
      "\n",
      "89\n",
      "14\n",
      "13\n",
      "12\n",
      "12\n",
      "11\n",
      "10\n",
      "9\n",
      "\n",
      "89\n",
      "14\n",
      "13\n",
      "12\n",
      "12\n",
      "11\n",
      "10\n",
      "9\n",
      "\n",
      "time: 0.02148914337158203\n",
      "total correlation: 16.211722259772877 \n",
      "\n",
      "\n",
      "\n",
      "graph size: 8\n",
      "first term\n",
      "256\n",
      "256\n",
      "256\n",
      "256\n",
      "256\n",
      "254\n",
      "251\n",
      "245\n",
      "241\n",
      "\n",
      "\n",
      "second term\n",
      "126\n",
      "15\n",
      "14\n",
      "13\n",
      "13\n",
      "12\n",
      "11\n",
      "9\n",
      "8\n",
      "\n",
      "126\n",
      "15\n",
      "14\n",
      "13\n",
      "13\n",
      "12\n",
      "11\n",
      "9\n",
      "8\n",
      "\n",
      "126\n",
      "15\n",
      "14\n",
      "13\n",
      "13\n",
      "12\n",
      "11\n",
      "9\n",
      "8\n",
      "\n",
      "126\n",
      "15\n",
      "14\n",
      "13\n",
      "13\n",
      "12\n",
      "11\n",
      "9\n",
      "8\n",
      "\n",
      "126\n",
      "15\n",
      "14\n",
      "13\n",
      "13\n",
      "12\n",
      "11\n",
      "9\n",
      "8\n",
      "\n",
      "126\n",
      "15\n",
      "14\n",
      "13\n",
      "13\n",
      "12\n",
      "11\n",
      "9\n",
      "8\n",
      "\n",
      "126\n",
      "15\n",
      "14\n",
      "13\n",
      "13\n",
      "12\n",
      "11\n",
      "9\n",
      "8\n",
      "\n",
      "time: 0.03694891929626465\n",
      "total correlation: 17.624482748694465 \n",
      "\n",
      "\n",
      "\n",
      "graph size: 9\n",
      "first term\n",
      "512\n",
      "512\n",
      "512\n",
      "512\n",
      "510\n",
      "508\n",
      "507\n",
      "504\n",
      "496\n",
      "482\n",
      "\n",
      "\n",
      "second term\n",
      "192\n",
      "16\n",
      "15\n",
      "14\n",
      "14\n",
      "13\n",
      "12\n",
      "11\n",
      "10\n",
      "8\n",
      "\n",
      "192\n",
      "16\n",
      "15\n",
      "14\n",
      "14\n",
      "13\n",
      "12\n",
      "11\n",
      "10\n",
      "8\n",
      "\n",
      "192\n",
      "16\n",
      "15\n",
      "14\n",
      "14\n",
      "13\n",
      "12\n",
      "11\n",
      "10\n",
      "8\n",
      "\n",
      "192\n",
      "16\n",
      "15\n",
      "14\n",
      "14\n",
      "13\n",
      "12\n",
      "11\n",
      "10\n",
      "8\n",
      "\n",
      "192\n",
      "16\n",
      "15\n",
      "14\n",
      "14\n",
      "13\n",
      "12\n",
      "11\n",
      "10\n",
      "8\n",
      "\n",
      "192\n",
      "16\n",
      "15\n",
      "14\n",
      "14\n",
      "13\n",
      "12\n",
      "11\n",
      "10\n",
      "8\n",
      "\n",
      "192\n",
      "16\n",
      "15\n",
      "14\n",
      "14\n",
      "13\n",
      "12\n",
      "11\n",
      "10\n",
      "8\n",
      "\n",
      "192\n",
      "16\n",
      "15\n",
      "14\n",
      "14\n",
      "13\n",
      "12\n",
      "11\n",
      "10\n",
      "8\n",
      "\n",
      "time: 0.061486244201660156\n",
      "total correlation: 17.400353711966776 \n",
      "\n",
      "\n",
      "\n",
      "graph size: 10\n",
      "first term\n",
      "1020\n",
      "1008\n",
      "1000\n",
      "995\n",
      "973\n",
      "931\n",
      "898\n",
      "886\n",
      "865\n",
      "832\n",
      "807\n",
      "\n",
      "\n",
      "second term\n",
      "251\n",
      "17\n",
      "16\n",
      "15\n",
      "15\n",
      "14\n",
      "13\n",
      "12\n",
      "11\n",
      "9\n",
      "8\n",
      "\n",
      "251\n",
      "17\n",
      "16\n",
      "15\n",
      "15\n",
      "14\n",
      "13\n",
      "12\n",
      "11\n",
      "9\n",
      "8\n",
      "\n",
      "251\n",
      "17\n",
      "16\n",
      "15\n",
      "15\n",
      "14\n",
      "13\n",
      "12\n",
      "11\n",
      "9\n",
      "8\n",
      "\n",
      "251\n",
      "17\n",
      "16\n",
      "15\n",
      "15\n",
      "14\n",
      "13\n",
      "12\n",
      "11\n",
      "9\n",
      "8\n",
      "\n",
      "251\n",
      "17\n",
      "16\n",
      "15\n",
      "15\n",
      "14\n",
      "13\n",
      "12\n",
      "11\n",
      "9\n",
      "8\n",
      "\n",
      "251\n",
      "17\n",
      "16\n",
      "15\n",
      "15\n",
      "14\n",
      "13\n",
      "12\n",
      "11\n",
      "9\n",
      "8\n",
      "\n",
      "251\n",
      "17\n",
      "16\n",
      "15\n",
      "15\n",
      "14\n",
      "13\n",
      "12\n",
      "11\n",
      "9\n",
      "8\n",
      "\n",
      "251\n",
      "17\n",
      "16\n",
      "15\n",
      "15\n",
      "14\n",
      "13\n",
      "12\n",
      "11\n",
      "9\n",
      "8\n",
      "\n",
      "251\n",
      "17\n",
      "16\n",
      "15\n",
      "15\n",
      "14\n",
      "13\n",
      "12\n",
      "11\n",
      "9\n",
      "8\n",
      "\n",
      "time: 0.10995817184448242\n",
      "total correlation: 21.828829580776485 \n",
      "\n",
      "\n",
      "\n",
      "graph size: 11\n",
      "first term\n",
      "1984\n",
      "1968\n",
      "1959\n",
      "1951\n",
      "1897\n",
      "1835\n",
      "1817\n",
      "1802\n",
      "1786\n",
      "1748\n",
      "1718\n",
      "1658\n",
      "\n",
      "\n",
      "second term\n",
      "350\n",
      "19\n",
      "18\n",
      "17\n",
      "17\n",
      "16\n",
      "15\n",
      "14\n",
      "13\n",
      "11\n",
      "11\n",
      "9\n",
      "\n",
      "350\n",
      "19\n",
      "18\n",
      "17\n",
      "17\n",
      "16\n",
      "15\n",
      "14\n",
      "13\n",
      "11\n",
      "11\n",
      "9\n",
      "\n",
      "350\n",
      "19\n",
      "18\n",
      "17\n",
      "17\n",
      "16\n",
      "15\n",
      "14\n",
      "13\n",
      "11\n",
      "11\n",
      "9\n",
      "\n",
      "350\n",
      "19\n",
      "18\n",
      "17\n",
      "17\n",
      "16\n",
      "15\n",
      "14\n",
      "13\n",
      "11\n",
      "11\n",
      "9\n",
      "\n",
      "350\n",
      "19\n",
      "18\n",
      "17\n",
      "17\n",
      "16\n",
      "15\n",
      "14\n",
      "13\n",
      "11\n",
      "11\n",
      "9\n",
      "\n",
      "350\n",
      "19\n",
      "18\n",
      "17\n",
      "17\n",
      "16\n",
      "15\n",
      "14\n",
      "13\n",
      "11\n",
      "11\n",
      "9\n",
      "\n",
      "350\n",
      "19\n",
      "18\n",
      "17\n",
      "17\n",
      "16\n",
      "15\n",
      "14\n",
      "13\n",
      "11\n",
      "11\n",
      "9\n",
      "\n",
      "350\n",
      "19\n",
      "18\n",
      "17\n",
      "17\n",
      "16\n",
      "15\n",
      "14\n",
      "13\n",
      "11\n",
      "11\n",
      "9\n",
      "\n",
      "350\n",
      "19\n",
      "18\n",
      "17\n",
      "17\n",
      "16\n",
      "15\n",
      "14\n",
      "13\n",
      "11\n",
      "11\n",
      "9\n",
      "\n",
      "350\n",
      "19\n",
      "18\n",
      "17\n",
      "17\n",
      "16\n",
      "15\n",
      "14\n",
      "13\n",
      "11\n",
      "11\n",
      "9\n",
      "\n",
      "time: 0.21223711967468262\n",
      "total correlation: 8.79691273614248 \n",
      "\n",
      "\n",
      "\n",
      "graph size: 12\n",
      "first term\n",
      "3476\n",
      "3473\n",
      "3470\n",
      "3467\n",
      "3362\n",
      "3245\n",
      "3173\n",
      "3143\n",
      "3110\n",
      "3039\n",
      "2950\n",
      "2814\n",
      "2797\n",
      "\n",
      "\n",
      "second term\n",
      "409\n",
      "20\n",
      "18\n",
      "17\n",
      "17\n",
      "16\n",
      "15\n",
      "14\n",
      "13\n",
      "13\n",
      "12\n",
      "10\n",
      "9\n",
      "\n",
      "409\n",
      "20\n",
      "18\n",
      "17\n",
      "17\n",
      "16\n",
      "15\n",
      "14\n",
      "13\n",
      "13\n",
      "12\n",
      "10\n",
      "9\n",
      "\n",
      "409\n",
      "20\n",
      "18\n",
      "17\n",
      "17\n",
      "16\n",
      "15\n",
      "14\n",
      "13\n",
      "13\n",
      "12\n",
      "10\n",
      "9\n",
      "\n",
      "409\n",
      "20\n",
      "18\n",
      "17\n",
      "17\n",
      "16\n",
      "15\n",
      "14\n",
      "13\n",
      "13\n",
      "12\n",
      "10\n",
      "9\n",
      "\n",
      "409\n",
      "20\n",
      "18\n",
      "17\n",
      "17\n",
      "16\n",
      "15\n",
      "14\n",
      "13\n",
      "13\n",
      "12\n",
      "10\n",
      "9\n",
      "\n",
      "409\n",
      "20\n",
      "18\n",
      "17\n",
      "17\n",
      "16\n",
      "15\n",
      "14\n",
      "13\n",
      "13\n",
      "12\n",
      "10\n",
      "9\n",
      "\n",
      "409\n",
      "20\n",
      "18\n",
      "17\n",
      "17\n",
      "16\n",
      "15\n",
      "14\n",
      "13\n",
      "13\n",
      "12\n",
      "10\n",
      "9\n",
      "\n",
      "409\n",
      "20\n",
      "18\n",
      "17\n",
      "17\n",
      "16\n",
      "15\n",
      "14\n",
      "13\n",
      "13\n",
      "12\n",
      "10\n",
      "9\n",
      "\n",
      "409\n",
      "20\n",
      "18\n",
      "17\n",
      "17\n",
      "16\n",
      "15\n",
      "14\n",
      "13\n",
      "13\n",
      "12\n",
      "10\n",
      "9\n",
      "\n",
      "409\n",
      "20\n",
      "18\n",
      "17\n",
      "17\n",
      "16\n",
      "15\n",
      "14\n",
      "13\n",
      "13\n",
      "12\n",
      "10\n",
      "9\n",
      "\n",
      "409\n",
      "20\n",
      "18\n",
      "17\n",
      "17\n",
      "16\n",
      "15\n",
      "14\n",
      "13\n",
      "13\n",
      "12\n",
      "10\n",
      "9\n",
      "\n",
      "time: 0.3632490634918213\n",
      "total correlation: 12.407762730542306 \n",
      "\n",
      "\n",
      "\n",
      "graph size: 13\n",
      "first term\n",
      "5033\n",
      "5032\n",
      "5032\n",
      "5031\n",
      "5003\n",
      "4946\n",
      "4913\n",
      "4896\n",
      "4880\n",
      "4841\n",
      "4739\n",
      "4639\n",
      "4619\n",
      "4580\n",
      "\n",
      "\n",
      "second term\n",
      "484\n",
      "21\n",
      "19\n",
      "18\n",
      "18\n",
      "17\n",
      "16\n",
      "16\n",
      "15\n",
      "15\n",
      "14\n",
      "12\n",
      "12\n",
      "11\n",
      "\n",
      "484\n",
      "21\n",
      "19\n",
      "18\n",
      "18\n",
      "17\n",
      "16\n",
      "16\n",
      "15\n",
      "15\n",
      "14\n",
      "12\n",
      "12\n",
      "11\n",
      "\n",
      "484\n",
      "21\n",
      "19\n",
      "18\n",
      "18\n",
      "17\n",
      "16\n",
      "16\n",
      "15\n",
      "15\n",
      "14\n",
      "12\n",
      "12\n",
      "11\n",
      "\n",
      "484\n",
      "21\n",
      "19\n",
      "18\n",
      "18\n",
      "17\n",
      "16\n",
      "16\n",
      "15\n",
      "15\n",
      "14\n",
      "12\n",
      "12\n",
      "11\n",
      "\n",
      "484\n",
      "21\n",
      "19\n",
      "18\n",
      "18\n",
      "17\n",
      "16\n",
      "16\n",
      "15\n",
      "15\n",
      "14\n",
      "12\n",
      "12\n",
      "11\n",
      "\n",
      "484\n",
      "21\n",
      "19\n",
      "18\n",
      "18\n",
      "17\n",
      "16\n",
      "16\n",
      "15\n",
      "15\n",
      "14\n",
      "12\n",
      "12\n",
      "11\n",
      "\n",
      "484\n",
      "21\n",
      "19\n",
      "18\n",
      "18\n",
      "17\n",
      "16\n",
      "16\n",
      "15\n",
      "15\n",
      "14\n",
      "12\n",
      "12\n",
      "11\n",
      "\n",
      "484\n",
      "21\n",
      "19\n",
      "18\n",
      "18\n",
      "17\n",
      "16\n",
      "16\n",
      "15\n",
      "15\n",
      "14\n",
      "12\n",
      "12\n",
      "11\n",
      "\n",
      "484\n",
      "21\n",
      "19\n",
      "18\n",
      "18\n",
      "17\n",
      "16\n",
      "16\n",
      "15\n",
      "15\n",
      "14\n",
      "12\n",
      "12\n",
      "11\n",
      "\n",
      "484\n",
      "21\n",
      "19\n",
      "18\n",
      "18\n",
      "17\n",
      "16\n",
      "16\n",
      "15\n",
      "15\n",
      "14\n",
      "12\n",
      "12\n",
      "11\n",
      "\n",
      "484\n",
      "21\n",
      "19\n",
      "18\n",
      "18\n",
      "17\n",
      "16\n",
      "16\n",
      "15\n",
      "15\n",
      "14\n",
      "12\n",
      "12\n",
      "11\n",
      "\n",
      "484\n",
      "21\n",
      "19\n",
      "18\n",
      "18\n",
      "17\n",
      "16\n",
      "16\n",
      "15\n",
      "15\n",
      "14\n",
      "12\n",
      "12\n",
      "11\n",
      "\n",
      "time: 0.5912389755249023\n",
      "total correlation: 13.349274784129316 \n",
      "\n",
      "\n",
      "\n",
      "graph size: 14\n",
      "first term\n",
      "6285\n",
      "6285\n",
      "6285\n",
      "6285\n",
      "6278\n",
      "6265\n",
      "6254\n",
      "6249\n",
      "6241\n",
      "6233\n",
      "6194\n",
      "6164\n",
      "6160\n",
      "6151\n",
      "6147\n",
      "\n",
      "\n",
      "second term\n",
      "631\n",
      "22\n",
      "20\n",
      "20\n",
      "20\n",
      "19\n",
      "18\n",
      "17\n",
      "16\n",
      "16\n",
      "15\n",
      "13\n",
      "11\n",
      "11\n",
      "11\n",
      "\n",
      "631\n",
      "22\n",
      "20\n",
      "20\n",
      "20\n",
      "19\n",
      "18\n",
      "17\n",
      "16\n",
      "16\n",
      "15\n",
      "13\n",
      "11\n",
      "11\n",
      "11\n",
      "\n",
      "631\n",
      "22\n",
      "20\n",
      "20\n",
      "20\n",
      "19\n",
      "18\n",
      "17\n",
      "16\n",
      "16\n",
      "15\n",
      "13\n",
      "11\n",
      "11\n",
      "11\n",
      "\n",
      "631\n",
      "22\n",
      "20\n",
      "20\n",
      "20\n",
      "19\n",
      "18\n",
      "17\n",
      "16\n",
      "16\n",
      "15\n",
      "13\n",
      "11\n",
      "11\n",
      "11\n",
      "\n",
      "631\n",
      "22\n",
      "20\n",
      "20\n",
      "20\n",
      "19\n",
      "18\n",
      "17\n",
      "16\n",
      "16\n",
      "15\n",
      "13\n",
      "11\n",
      "11\n",
      "11\n",
      "\n",
      "631\n",
      "22\n",
      "20\n",
      "20\n",
      "20\n",
      "19\n",
      "18\n",
      "17\n",
      "16\n",
      "16\n",
      "15\n",
      "13\n",
      "11\n",
      "11\n",
      "11\n",
      "\n",
      "631\n",
      "22\n",
      "20\n",
      "20\n",
      "20\n",
      "19\n",
      "18\n",
      "17\n",
      "16\n",
      "16\n",
      "15\n",
      "13\n",
      "11\n",
      "11\n",
      "11\n",
      "\n",
      "631\n",
      "22\n",
      "20\n",
      "20\n",
      "20\n",
      "19\n",
      "18\n",
      "17\n",
      "16\n",
      "16\n",
      "15\n",
      "13\n",
      "11\n",
      "11\n",
      "11\n",
      "\n",
      "631\n",
      "22\n",
      "20\n",
      "20\n",
      "20\n",
      "19\n",
      "18\n",
      "17\n",
      "16\n",
      "16\n",
      "15\n",
      "13\n",
      "11\n",
      "11\n",
      "11\n",
      "\n",
      "631\n",
      "22\n",
      "20\n",
      "20\n",
      "20\n",
      "19\n",
      "18\n",
      "17\n",
      "16\n",
      "16\n",
      "15\n",
      "13\n",
      "11\n",
      "11\n",
      "11\n",
      "\n",
      "631\n",
      "22\n",
      "20\n",
      "20\n",
      "20\n",
      "19\n",
      "18\n",
      "17\n",
      "16\n",
      "16\n",
      "15\n",
      "13\n",
      "11\n",
      "11\n",
      "11\n",
      "\n",
      "631\n",
      "22\n",
      "20\n",
      "20\n",
      "20\n",
      "19\n",
      "18\n",
      "17\n",
      "16\n",
      "16\n",
      "15\n",
      "13\n",
      "11\n",
      "11\n",
      "11\n",
      "\n",
      "631\n",
      "22\n",
      "20\n",
      "20\n",
      "20\n",
      "19\n",
      "18\n",
      "17\n",
      "16\n",
      "16\n",
      "15\n",
      "13\n",
      "11\n",
      "11\n",
      "11\n",
      "\n",
      "time: 0.9082129001617432\n",
      "total correlation: 10.686807253090395 \n",
      "\n",
      "\n",
      "\n",
      "graph size: 15\n",
      "first term\n",
      "7131\n",
      "7131\n",
      "7131\n",
      "7131\n",
      "7131\n",
      "7131\n",
      "7131\n",
      "7131\n",
      "7131\n",
      "7131\n",
      "7129\n",
      "7127\n",
      "7127\n",
      "7126\n",
      "7126\n",
      "7125\n",
      "\n",
      "\n",
      "second term\n",
      "730\n",
      "23\n",
      "21\n",
      "21\n",
      "21\n",
      "20\n",
      "19\n",
      "18\n",
      "17\n",
      "17\n",
      "16\n",
      "16\n",
      "15\n",
      "14\n",
      "14\n",
      "13\n",
      "\n",
      "730\n",
      "23\n",
      "21\n",
      "21\n",
      "21\n",
      "20\n",
      "19\n",
      "18\n",
      "17\n",
      "17\n",
      "16\n",
      "16\n",
      "15\n",
      "14\n",
      "14\n",
      "13\n",
      "\n",
      "730\n",
      "23\n",
      "21\n",
      "21\n",
      "21\n",
      "20\n",
      "19\n",
      "18\n",
      "17\n",
      "17\n",
      "16\n",
      "16\n",
      "15\n",
      "14\n",
      "14\n",
      "13\n",
      "\n",
      "730\n",
      "23\n",
      "21\n",
      "21\n",
      "21\n",
      "20\n",
      "19\n",
      "18\n",
      "17\n",
      "17\n",
      "16\n",
      "16\n",
      "15\n",
      "14\n",
      "14\n",
      "13\n",
      "\n",
      "730\n",
      "23\n",
      "21\n",
      "21\n",
      "21\n",
      "20\n",
      "19\n",
      "18\n",
      "17\n",
      "17\n",
      "16\n",
      "16\n",
      "15\n",
      "14\n",
      "14\n",
      "13\n",
      "\n",
      "730\n",
      "23\n",
      "21\n",
      "21\n",
      "21\n",
      "20\n",
      "19\n",
      "18\n",
      "17\n",
      "17\n",
      "16\n",
      "16\n",
      "15\n",
      "14\n",
      "14\n",
      "13\n",
      "\n",
      "730\n",
      "23\n",
      "21\n",
      "21\n",
      "21\n",
      "20\n",
      "19\n",
      "18\n",
      "17\n",
      "17\n",
      "16\n",
      "16\n",
      "15\n",
      "14\n",
      "14\n",
      "13\n",
      "\n",
      "730\n",
      "23\n",
      "21\n",
      "21\n",
      "21\n",
      "20\n",
      "19\n",
      "18\n",
      "17\n",
      "17\n",
      "16\n",
      "16\n",
      "15\n",
      "14\n",
      "14\n",
      "13\n",
      "\n",
      "730\n",
      "23\n",
      "21\n",
      "21\n",
      "21\n",
      "20\n",
      "19\n",
      "18\n",
      "17\n",
      "17\n",
      "16\n",
      "16\n",
      "15\n",
      "14\n",
      "14\n",
      "13\n",
      "\n",
      "730\n",
      "23\n",
      "21\n",
      "21\n",
      "21\n",
      "20\n",
      "19\n",
      "18\n",
      "17\n",
      "17\n",
      "16\n",
      "16\n",
      "15\n",
      "14\n",
      "14\n",
      "13\n",
      "\n",
      "730\n",
      "23\n",
      "21\n",
      "21\n",
      "21\n",
      "20\n",
      "19\n",
      "18\n",
      "17\n",
      "17\n",
      "16\n",
      "16\n",
      "15\n",
      "14\n",
      "14\n",
      "13\n",
      "\n",
      "730\n",
      "23\n",
      "21\n",
      "21\n",
      "21\n",
      "20\n",
      "19\n",
      "18\n",
      "17\n",
      "17\n",
      "16\n",
      "16\n",
      "15\n",
      "14\n",
      "14\n",
      "13\n",
      "\n",
      "730\n",
      "23\n",
      "21\n",
      "21\n",
      "21\n",
      "20\n",
      "19\n",
      "18\n",
      "17\n",
      "17\n",
      "16\n",
      "16\n",
      "15\n",
      "14\n",
      "14\n",
      "13\n",
      "\n",
      "730\n",
      "23\n",
      "21\n",
      "21\n",
      "21\n",
      "20\n",
      "19\n",
      "18\n",
      "17\n",
      "17\n",
      "16\n",
      "16\n",
      "15\n",
      "14\n",
      "14\n",
      "13\n",
      "\n",
      "time: 1.1043777465820312\n",
      "total correlation: 11.232366662539851 \n",
      "\n",
      "\n",
      "\n"
     ]
    }
   ],
   "source": [
    "# with tensored mitigation\n",
    "tensored_corr_list_real, tensored_stddev_list_real, tensored_Es_list_real, tensored_Ds_list_real = analyze_circuits_tensored(adj_lists, \n",
    "                                                                                                                            counts_dict_list,\n",
    "                                                                                                                            tensored_meas_mitigator_list,\n",
    "                                                                                                                            limit=15,\n",
    "                                                                                                                            method='fast',\n",
    "                                                                                                                            threshold=None)"
   ]
  },
  {
   "cell_type": "code",
   "execution_count": 30,
   "metadata": {
    "executionInfo": {
     "elapsed": 616352,
     "status": "ok",
     "timestamp": 1610829002692,
     "user": {
      "displayName": "Bo Yang",
      "photoUrl": "",
      "userId": "03206198380065904075"
     },
     "user_tz": -540
    },
    "id": "AIsrZM49S7eu"
   },
   "outputs": [],
   "source": [
    "# theoretical bounds\n",
    "c_bounds = [2 * i for i in range(max_size)]\n",
    "q_bounds = [2 * np.sqrt(2) * i for i in range(max_size)]"
   ]
  },
  {
   "cell_type": "markdown",
   "metadata": {
    "id": "suNXUgRhbt_M"
   },
   "source": [
    "## Plot correlations"
   ]
  },
  {
   "cell_type": "code",
   "execution_count": 32,
   "metadata": {
    "colab": {
     "base_uri": "https://localhost:8080/",
     "height": 294
    },
    "executionInfo": {
     "elapsed": 797,
     "status": "ok",
     "timestamp": 1610831203535,
     "user": {
      "displayName": "Bo Yang",
      "photoUrl": "",
      "userId": "03206198380065904075"
     },
     "user_tz": -540
    },
    "id": "uXhSZLMNS7eu",
    "outputId": "14db31d7-40a8-4348-f1ab-4f1dde99102d"
   },
   "outputs": [
    {
     "data": {
      "image/png": "[encoded data removed]",
      "text/plain": [
       "<Figure size 432x288 with 1 Axes>"
      ]
     },
     "metadata": {
      "needs_background": "light"
     },
     "output_type": "display_data"
    }
   ],
   "source": [
    "plt.clf()\n",
    "plt.plot(list(range(1, max_size + 1)), c_bounds, label=\"Classical bounds\", marker=\"o\", markersize=3)\n",
    "plt.plot(list(range(1, max_size + 1)), q_bounds, label=\"Quantum bounds\", marker=\"x\", markersize=3)\n",
    "plt.errorbar(list(range(1, max_size + 1)), corr_list_real, label=\"Actual correlations\", fmt=\"v\", yerr=stddev_list_real, capsize=3)\n",
    "plt.errorbar(list(range(1, 15 + 1)), tensored_corr_list_real, label=\"Mitigated correlations\", fmt=\"*\", yerr=tensored_stddev_list_real, capsize=3)\n",
    "plt.legend(bbox_to_anchor=(1.05, 1), loc='upper left', borderaxespad=0)\n",
    "plt.xlabel(\"graph size\")\n",
    "plt.ylabel(\"correlation\")\n",
    "plt.xticks(list(range(max_size + 2)))\n",
    "plt.title(\"correlation of star graphs (ibmq_sydney)\")\n",
    "plt.show()"
   ]
  },
  {
   "cell_type": "code",
   "execution_count": 36,
   "metadata": {},
   "outputs": [
    {
     "data": {
      "image/png": "[encoded data removed]",
      "text/plain": [
       "<Figure size 432x288 with 1 Axes>"
      ]
     },
     "metadata": {
      "needs_background": "light"
     },
     "output_type": "display_data"
    }
   ],
   "source": [
    "max_size = 27\n",
    "plt.clf()\n",
    "plt.plot(list(range(1, max_size + 1)), c_bounds, label=\"Classical bounds\") # , marker=\"o\", markersize=3)\n",
    "plt.plot(list(range(1, max_size + 1)), q_bounds, label=\"Quantum bounds\") # , marker=\"x\", markersize=3)\n",
    "plt.errorbar(list(range(1, max_size + 1)), corr_list_real, label=\"Actual correlations\", fmt=\"o\", yerr=stddev_list_real, capsize=3)\n",
    "plt.errorbar(list(range(1, 15 + 1)), tensored_corr_list_real, label=\"Mitigated correlations\", fmt=\"*\", yerr=tensored_stddev_list_real, capsize=3)\n",
    "plt.legend(bbox_to_anchor=(1.05, 1), loc='upper left', borderaxespad=0)\n",
    "plt.xlabel(\"graph size\")\n",
    "plt.ylabel(\"correlation\")\n",
    "plt.xticks(list(range(max_size + 2)))\n",
    "plt.title(\"correlation of star graphs (ibmq_sydney)\")\n",
    "plt.show()"
   ]
  },
  {
   "cell_type": "code",
   "execution_count": 34,
   "metadata": {
    "executionInfo": {
     "elapsed": 728,
     "status": "ok",
     "timestamp": 1610831208563,
     "user": {
      "displayName": "Bo Yang",
      "photoUrl": "",
      "userId": "03206198380065904075"
     },
     "user_tz": -540
    },
    "id": "E6ZP3z57S7eu",
    "scrolled": true
   },
   "outputs": [],
   "source": [
    "each_corr_list = [[0]] + [E_1 + Es_2 for E_1, Es_2 in Es_list_real[1:]]\n",
    "tp_each_corr_list = []\n",
    "for i in range(len(each_corr_list)):\n",
    "    tp_each_corr_list.append([each_corr_list[j][i] for j in range(i, len(each_corr_list))])\n",
    "# pprint.pprint(tp_each_corr_list)"
   ]
  },
  {
   "cell_type": "code",
   "execution_count": 35,
   "metadata": {
    "executionInfo": {
     "elapsed": 884,
     "status": "ok",
     "timestamp": 1610831208863,
     "user": {
      "displayName": "Bo Yang",
      "photoUrl": "",
      "userId": "03206198380065904075"
     },
     "user_tz": -540
    },
    "id": "hURa_Ys5ZAVX"
   },
   "outputs": [],
   "source": [
    "each_stddev_list = [[0]] + [D_1 + Ds_2 for D_1, Ds_2 in Ds_list_real[1:]]\n",
    "tp_each_stddev_list = []\n",
    "for i in range(len(each_stddev_list)):\n",
    "    tp_each_stddev_list.append([each_stddev_list[j][i] for j in range(i, len(each_stddev_list))])\n",
    "# pprint.pprint(tp_each_corr_list)"
   ]
  },
  {
   "cell_type": "code",
   "execution_count": 37,
   "metadata": {
    "executionInfo": {
     "elapsed": 704,
     "status": "ok",
     "timestamp": 1610831208864,
     "user": {
      "displayName": "Bo Yang",
      "photoUrl": "",
      "userId": "03206198380065904075"
     },
     "user_tz": -540
    },
    "id": "5YAchocxmYrk"
   },
   "outputs": [],
   "source": [
    "max_size = 27"
   ]
  },
  {
   "cell_type": "code",
   "execution_count": 38,
   "metadata": {
    "colab": {
     "base_uri": "https://localhost:8080/",
     "height": 454
    },
    "executionInfo": {
     "elapsed": 1171,
     "status": "ok",
     "timestamp": 1610831211195,
     "user": {
      "displayName": "Bo Yang",
      "photoUrl": "",
      "userId": "03206198380065904075"
     },
     "user_tz": -540
    },
    "id": "dNLAmHZUS7eu",
    "outputId": "42dcfbd2-e683-494d-b16b-20efa7381775"
   },
   "outputs": [
    {
     "data": {
      "image/png": "[encoded data removed]",
      "text/plain": [
       "<Figure size 432x288 with 1 Axes>"
      ]
     },
     "metadata": {
      "needs_background": "light"
     },
     "output_type": "display_data"
    }
   ],
   "source": [
    "plt.clf()\n",
    "for i, (each_corr, each_stddev) in enumerate(zip(tp_each_corr_list, tp_each_stddev_list)):\n",
    "    if i == 0:\n",
    "        plt.plot(list(range(2, max_size + 1)), each_corr[1:], color=[min(1, 2*i/max_size), 0, min(1, 2*(1-i/max_size))])\n",
    "        plt.errorbar(list(range(2, max_size + 1)), each_corr[1:], label=str(i), color=[min(1, 2*i/max_size), 0, min(1, 2*(1-i/max_size))], fmt=\"x\", yerr=each_stddev[1:], capsize=3)\n",
    "    else:\n",
    "        plt.plot(list(range(i+1, max_size + 1)), each_corr, color=[min(1, 2*i/max_size), 0, min(1, 2*(1-i/max_size))])\n",
    "        plt.errorbar(list(range(i+1, max_size + 1)), each_corr, label=str(i), color=[min(1, 2*i/max_size), 0, min(1, 2*(1-i/max_size))], fmt=\"v\", yerr=each_stddev, capsize=3)\n",
    "#  plt.plot(list(range(1, max_size + 1)), damped_vibration, label=\"damped vibration\", color=[0, 0, 1])\n",
    "plt.legend(bbox_to_anchor=(1.05, 1), loc='upper left', borderaxespad=0)\n",
    "plt.xlabel(\"graph size\")\n",
    "plt.ylabel(\"correlation\")\n",
    "plt.xticks(list(range(max_size + 2)))\n",
    "plt.ylim([-1,1])\n",
    "plt.title(\"correlation of each term (ibmq_sydney)\")\n",
    "plt.show()"
   ]
  },
  {
   "cell_type": "code",
   "execution_count": 39,
   "metadata": {
    "executionInfo": {
     "elapsed": 672,
     "status": "ok",
     "timestamp": 1610831214722,
     "user": {
      "displayName": "Bo Yang",
      "photoUrl": "",
      "userId": "03206198380065904075"
     },
     "user_tz": -540
    },
    "id": "ADOKuOVES7ev"
   },
   "outputs": [],
   "source": [
    "mitigated_each_corr_list = [[0]] + [E_1 + Es_2 for E_1, Es_2 in tensored_Es_list_real[1:]]\n",
    "mitigated_tp_each_corr_list = []\n",
    "for i in range(len(mitigated_each_corr_list)):\n",
    "    mitigated_tp_each_corr_list.append([mitigated_each_corr_list[j][i] for j in range(i, len(mitigated_each_corr_list))])\n",
    "# pprint.pprint(tp_each_corr_list)"
   ]
  },
  {
   "cell_type": "code",
   "execution_count": 40,
   "metadata": {
    "executionInfo": {
     "elapsed": 419,
     "status": "ok",
     "timestamp": 1610831215014,
     "user": {
      "displayName": "Bo Yang",
      "photoUrl": "",
      "userId": "03206198380065904075"
     },
     "user_tz": -540
    },
    "id": "14Ug4Xzx3gPK"
   },
   "outputs": [],
   "source": [
    "mitigated_each_stddev_list = [[0]] + [D_1 + Ds_2 for D_1, Ds_2 in tensored_Ds_list_real[1:]]\n",
    "mitigated_tp_each_stddev_list = []\n",
    "for i in range(len(mitigated_each_stddev_list)):\n",
    "    mitigated_tp_each_stddev_list.append([mitigated_each_stddev_list[j][i] for j in range(i, len(mitigated_each_stddev_list))])\n",
    "# pprint.pprint(tp_each_corr_list)"
   ]
  },
  {
   "cell_type": "code",
   "execution_count": 41,
   "metadata": {
    "executionInfo": {
     "elapsed": 742,
     "status": "ok",
     "timestamp": 1610831217116,
     "user": {
      "displayName": "Bo Yang",
      "photoUrl": "",
      "userId": "03206198380065904075"
     },
     "user_tz": -540
    },
    "id": "uv-2eHpDhsph"
   },
   "outputs": [],
   "source": [
    "max_size = 15"
   ]
  },
  {
   "cell_type": "code",
   "execution_count": 42,
   "metadata": {
    "colab": {
     "base_uri": "https://localhost:8080/",
     "height": 294
    },
    "executionInfo": {
     "elapsed": 1048,
     "status": "ok",
     "timestamp": 1610831217808,
     "user": {
      "displayName": "Bo Yang",
      "photoUrl": "",
      "userId": "03206198380065904075"
     },
     "user_tz": -540
    },
    "id": "dyPyB6L4a6Cw",
    "outputId": "2009dd08-4fc9-467a-f43d-ce65ad7f18c9"
   },
   "outputs": [
    {
     "data": {
      "image/png": "[encoded data removed]",
      "text/plain": [
       "<Figure size 432x288 with 1 Axes>"
      ]
     },
     "metadata": {
      "needs_background": "light"
     },
     "output_type": "display_data"
    }
   ],
   "source": [
    "plt.clf()\n",
    "for i, (each_corr, each_stddev) in enumerate(zip(mitigated_tp_each_corr_list, mitigated_tp_each_stddev_list)):\n",
    "    if i == 0:\n",
    "        plt.plot(list(range(2, max_size + 1)), each_corr[1:], color=[min(1, 2*i/max_size), 0, min(1, 2*(1-i/max_size))])\n",
    "        plt.errorbar(list(range(2, max_size + 1)), each_corr[1:], label=str(i), color=[min(1, 2*i/max_size), 0, min(1, 2*(1-i/max_size))], fmt=\"x\", yerr=each_stddev[1:], capsize=3)\n",
    "    else:\n",
    "        plt.plot(list(range(i+1, max_size + 1)), each_corr, color=[min(1, 2*i/max_size), 0, min(1, 2*(1-i/max_size))])\n",
    "        plt.errorbar(list(range(i+1, max_size + 1)), each_corr, label=str(i), color=[min(1, 2*i/max_size), 0, min(1, 2*(1-i/max_size))], fmt=\"v\", yerr=each_stddev, capsize=3)\n",
    "#  plt.plot(list(range(1, max_size + 1)), damped_vibration, label=\"damped vibration\", color=[0, 0, 1])\n",
    "plt.legend(bbox_to_anchor=(1.05, 1), loc='upper left', borderaxespad=0)\n",
    "plt.xlabel(\"graph size\")\n",
    "plt.ylabel(\"correlation\")\n",
    "plt.xticks(list(range(max_size + 2)))\n",
    "plt.ylim([-1,1])\n",
    "plt.title(\"mitigated correlation of each term (ibmq_sydney)\")\n",
    "plt.show()"
   ]
  },
  {
   "cell_type": "code",
   "execution_count": 44,
   "metadata": {
    "id": "xa0r3IeFhuKk"
   },
   "outputs": [
    {
     "data": {
      "image/png": "[encoded data removed]",
      "text/plain": [
       "<Figure size 432x288 with 1 Axes>"
      ]
     },
     "metadata": {
      "needs_background": "light"
     },
     "output_type": "display_data"
    }
   ],
   "source": [
    "max_size = 15\n",
    "plt.clf()\n",
    "for i, (each_corr, each_stddev) in enumerate(zip(mitigated_tp_each_corr_list, mitigated_tp_each_stddev_list)):\n",
    "    if i == 0:\n",
    "        plt.plot(list(range(2, max_size + 1)), each_corr[1:], color=[min(1, 2*i/max_size), 0, min(1, 2*(1-i/max_size))])\n",
    "        plt.errorbar(list(range(2, max_size + 1)), each_corr[1:], label=str(i), color=[min(1, 2*i/max_size), 0, min(1, 2*(1-i/max_size))], fmt=\"x\", yerr=each_stddev[1:], capsize=3)\n",
    "    else:\n",
    "        plt.plot(list(range(i+1, max_size + 1)), each_corr, color=[min(1, 2*i/max_size), 0, min(1, 2*(1-i/max_size))])\n",
    "        plt.errorbar(list(range(i+1, max_size + 1)), each_corr, label=str(i), color=[min(1, 2*i/max_size), 0, min(1, 2*(1-i/max_size))], fmt=\"v\", yerr=each_stddev, capsize=3)\n",
    "#  plt.plot(list(range(1, max_size + 1)), damped_vibration, label=\"damped vibration\", color=[0, 0, 1])\n",
    "plt.legend(bbox_to_anchor=(1.05, 1), loc='upper left', borderaxespad=0)\n",
    "plt.xlabel(\"graph size\")\n",
    "plt.ylabel(\"correlation\")\n",
    "plt.xticks(list(range(max_size + 2)))\n",
    "plt.ylim([-1,1.1])\n",
    "plt.title(\"mitigated correlation of each term (ibmq_sydney)\")\n",
    "plt.show()"
   ]
  },
  {
   "cell_type": "code",
   "execution_count": null,
   "metadata": {},
   "outputs": [],
   "source": []
  },
  {
   "cell_type": "code",
   "execution_count": null,
   "metadata": {},
   "outputs": [],
   "source": []
  }
 ],
 "metadata": {
  "colab": {
   "collapsed_sections": [],
   "name": "sydney_new.ipynb",
   "provenance": []
  },
  "kernelspec": {
   "display_name": "Python 3",
   "language": "python",
   "name": "python3"
  },
  "language_info": {
   "codemirror_mode": {
    "name": "ipython",
    "version": 3
   },
   "file_extension": ".py",
   "mimetype": "text/x-python",
   "name": "python",
   "nbconvert_exporter": "python",
   "pygments_lexer": "ipython3",
   "version": "3.6.10"
  }
 },
 "nbformat": 4,
 "nbformat_minor": 1
}
