{
 "cells": [
  {
   "cell_type": "markdown",
   "metadata": {
    "id": "aT21s9W9e8Xz"
   },
   "source": [
    "# import libraries"
   ]
  },
  {
   "cell_type": "code",
   "execution_count": 1,
   "metadata": {
    "id": "vOqGZ75TS7ee"
   },
   "outputs": [],
   "source": [
    "import numpy as np\n",
    "import matplotlib.pyplot as plt\n",
    "%matplotlib inline\n",
    "from pprint import pprint\n",
    "import time\n",
    "import sys\n",
    "import platform"
   ]
  },
  {
   "cell_type": "code",
   "execution_count": 2,
   "metadata": {
    "id": "1ABk0TemrES1"
   },
   "outputs": [],
   "source": [
    "import qiskit\n",
    "from qiskit import QuantumCircuit, QuantumRegister, ClassicalRegister, Aer, execute\n",
    "from qiskit.tools.visualization import plot_histogram\n",
    "from qiskit.providers.aer import noise\n",
    "from qiskit.ignis.mitigation.measurement import tensored_meas_cal, TensoredMeasFitter"
   ]
  },
  {
   "cell_type": "markdown",
   "metadata": {},
   "source": [
    "# Environment"
   ]
  },
  {
   "cell_type": "code",
   "execution_count": 3,
   "metadata": {},
   "outputs": [
    {
     "name": "stdout",
     "output_type": "stream",
     "text": [
      "'x86_64'\n",
      "('Darwin Kernel Version 19.5.0: Tue May 26 20:41:44 PDT 2020; '\n",
      " 'root:xnu-6153.121.2~2/RELEASE_X86_64')\n",
      "'Darwin-19.5.0-x86_64-i386-64bit'\n",
      "uname_result(system='Darwin', node='Yang-no-MBP', release='19.5.0', version='Darwin Kernel Version 19.5.0: Tue May 26 20:41:44 PDT 2020; root:xnu-6153.121.2~2/RELEASE_X86_64', machine='x86_64', processor='i386')\n",
      "'Darwin'\n",
      "'i386'\n"
     ]
    }
   ],
   "source": [
    "# device version\n",
    "pprint(platform.machine())\n",
    "pprint(platform.version())\n",
    "pprint(platform.platform())\n",
    "pprint(platform.uname())\n",
    "pprint(platform.system())\n",
    "pprint(platform.processor())"
   ]
  },
  {
   "cell_type": "code",
   "execution_count": 4,
   "metadata": {},
   "outputs": [
    {
     "name": "stdout",
     "output_type": "stream",
     "text": [
      "('3.6.10 |Anaconda, Inc.| (default, Jan  7 2020, 15:01:53) \\n'\n",
      " '[GCC 4.2.1 Compatible Clang 4.0.1 (tags/RELEASE_401/final)]')\n"
     ]
    }
   ],
   "source": [
    "# python version\n",
    "pprint(sys.version)"
   ]
  },
  {
   "cell_type": "code",
   "execution_count": 5,
   "metadata": {},
   "outputs": [
    {
     "data": {
      "text/plain": [
       "{'qiskit-terra': '0.16.1',\n",
       " 'qiskit-aer': '0.7.2',\n",
       " 'qiskit-ignis': '0.6.0.dev0+6405d16',\n",
       " 'qiskit-ibmq-provider': '0.12.0.dev0+14b4ce6',\n",
       " 'qiskit-aqua': None,\n",
       " 'qiskit': None}"
      ]
     },
     "execution_count": 5,
     "metadata": {},
     "output_type": "execute_result"
    }
   ],
   "source": [
    "# qiskit version\n",
    "qiskit.__qiskit_version__"
   ]
  },
  {
   "cell_type": "markdown",
   "metadata": {
    "id": "OMrkLw_VfC5h"
   },
   "source": [
    "# Measure the time of tensored calibration for GHZ state from size 2 to 12\n",
    "- Testing for \"pseudo_inverse\" method\n",
    "- Using the original TensoredFilter.apply() function"
   ]
  },
  {
   "cell_type": "code",
   "execution_count": 6,
   "metadata": {},
   "outputs": [],
   "source": [
    "import pdb"
   ]
  },
  {
   "cell_type": "code",
   "execution_count": 7,
   "metadata": {
    "scrolled": true
   },
   "outputs": [
    {
     "name": "stdout",
     "output_type": "stream",
     "text": [
      "experiment of  5 -qubit GHZ state\n",
      "mit pattern:  [[0, 2], [4], [1, 3]]\n",
      "number of calibration circuits:  4\n",
      "[array([[0.898 , 0.    , 0.2404, 0.    ],\n",
      "       [0.    , 0.9058, 0.    , 0.2496],\n",
      "       [0.102 , 0.    , 0.7596, 0.    ],\n",
      "       [0.    , 0.0942, 0.    , 0.7504]]), array([[0.898 , 0.2485],\n",
      "       [0.102 , 0.7515]]), array([[0.8962, 0.    , 0.2486, 0.    ],\n",
      "       [0.    , 0.9044, 0.    , 0.2484],\n",
      "       [0.1038, 0.    , 0.7514, 0.    ],\n",
      "       [0.    , 0.0956, 0.    , 0.7516]])]\n",
      "self._mit_pattern\n",
      "[[0, 2], [4], [1, 3]]\n",
      "time of mitigation for 5 qubits GHZ state:  0.0029921531677246094 [s]\n",
      "{'00000': 1847,\n",
      " '00011': 36,\n",
      " '00100': 202,\n",
      " '00111': 117,\n",
      " '01000': 193,\n",
      " '01011': 121,\n",
      " '01100': 17,\n",
      " '01111': 355,\n",
      " '10000': 212,\n",
      " '10011': 98,\n",
      " '10100': 29,\n",
      " '10111': 367,\n",
      " '11000': 25,\n",
      " '11011': 349,\n",
      " '11100': 1,\n",
      " '11111': 1031}\n",
      "{'00000': 2664.487159733967,\n",
      " '00001': -357.79053487738867,\n",
      " '00010': 1.9830880568919675,\n",
      " '00011': -7.196639270563669,\n",
      " '00100': -11.422909588569883,\n",
      " '00101': 1.5338820142629404,\n",
      " '00110': -0.004050270501693376,\n",
      " '00111': 0.014698457614002791,\n",
      " '01000': -34.788372626536386,\n",
      " '01001': 4.671424444321616,\n",
      " '01010': -2.389227963823303,\n",
      " '01011': 8.670523596278628,\n",
      " '01100': -8.883541752439749,\n",
      " '01101': 1.192892652381324,\n",
      " '01110': -238.8436958329295,\n",
      " '01111': 866.7653032270337,\n",
      " '10000': 297.4634007807253,\n",
      " '10001': -39.94374260088727,\n",
      " '10010': 13.123509567167865,\n",
      " '10011': -47.62530034431353,\n",
      " '10100': 10.114787086463373,\n",
      " '10101': -1.3582257541064542,\n",
      " '10110': -17.009564532563406,\n",
      " '10111': 61.727818724342775,\n",
      " '11000': 6.031613632382949,\n",
      " '11001': -0.8099323203041865,\n",
      " '11010': -6.3989219949396485,\n",
      " '11011': 23.221728938366716,\n",
      " '11100': -5.19556792292944,\n",
      " '11101': 0.6976670986556115,\n",
      " '11110': -691.5010638808714,\n",
      " '11111': 2509.46179352281}\n",
      "\n"
     ]
    }
   ],
   "source": [
    "n = 5\n",
    "print(\"experiment of \", n, \"-qubit GHZ state\")\n",
    "\n",
    "# create n qubit tensored measurement calibration circuits\n",
    "qr = qiskit.QuantumRegister(n)\n",
    "# mit_pattern = [[i] for i in range(n)]\n",
    "mit_pattern = [[0, 2], [4], [1, 3]] # , [2]]\n",
    "meas_calibs, state_labels = tensored_meas_cal(mit_pattern=mit_pattern, qr=qr, circlabel='mcal')\n",
    "print(\"mit pattern: \", mit_pattern)\n",
    "print(\"number of calibration circuits: \", len(meas_calibs))\n",
    "\n",
    "# prepare noise model of n qubits\n",
    "noise_model = noise.NoiseModel()\n",
    "for qi in range(n):\n",
    "    if qi <= 1:\n",
    "        continue\n",
    "    read_err = noise.errors.readout_error.ReadoutError([[0.9, 0.1],[0.25,0.75]])\n",
    "    noise_model.add_readout_error(read_err, [qi])\n",
    "\n",
    "# execute the calibration circuits\n",
    "job = qiskit.execute(meas_calibs, backend=Aer.get_backend('qasm_simulator'), shots=5000, noise_model=noise_model)\n",
    "cal_results = job.result()\n",
    "meas_fitter = TensoredMeasFitter(cal_results, mit_pattern=mit_pattern)\n",
    "print(meas_fitter.cal_matrices)\n",
    "\n",
    "# create n-qubit GHZ state\n",
    "m = n\n",
    "cr = ClassicalRegister(m)\n",
    "ghz = QuantumCircuit(qr, cr)\n",
    "ghz.h(qr[0])\n",
    "for i in range(1,m):\n",
    "    ghz.cx(qr[0], qr[i])\n",
    "ghz.barrier()\n",
    "for i in range(m):\n",
    "    ghz.measure(qr[i],cr[i])\n",
    "# ghz.draw(\"mpl\")\n",
    "\n",
    "# execute GHZ circuit\n",
    "job = qiskit.execute([ghz], backend=Aer.get_backend(\"qasm_simulator\"), shots=5000, noise_model=noise_model)\n",
    "noisy_counts = job.result().get_counts()\n",
    "\n",
    "# Get the filter object\n",
    "meas_filter = meas_fitter.filter\n",
    "\n",
    "t1 = time.time()\n",
    "# Results with mitigation\n",
    "# pdb.set_trace()\n",
    "mitigated_counts = meas_filter.apply(noisy_counts, \"pseudo_inverse\")\n",
    "t2 = time.time()\n",
    "\n",
    "print(\"time of mitigation for\", n, \"qubits GHZ state: \", t2 - t1, \"[s]\")\n",
    "\n",
    "pprint(noisy_counts)\n",
    "pprint(mitigated_counts)\n",
    "\n",
    "print()"
   ]
  },
  {
   "cell_type": "code",
   "execution_count": 8,
   "metadata": {},
   "outputs": [
    {
     "name": "stdout",
     "output_type": "stream",
     "text": [
      "experiment of  5 -qubit GHZ state\n",
      "mit pattern:  [[0, 2], [1], [4, 3]]\n",
      "number of calibration circuits:  4\n",
      "[array([[1., 0., 0., 0.],\n",
      "       [0., 1., 0., 0.],\n",
      "       [0., 0., 1., 0.],\n",
      "       [0., 0., 0., 1.]]), array([[1., 0.],\n",
      "       [0., 1.]]), array([[0.8988, 0.    , 0.246 , 0.    ],\n",
      "       [0.    , 0.8934, 0.    , 0.2584],\n",
      "       [0.1012, 0.    , 0.754 , 0.    ],\n",
      "       [0.    , 0.1066, 0.    , 0.7416]])]\n",
      "self._mit_pattern\n",
      "[[0, 2], [1], [4, 3]]\n",
      "time of mitigation for 5 qubits GHZ state:  0.0019979476928710938 [s]\n"
     ]
    },
    {
     "ename": "NameError",
     "evalue": "name 'times' is not defined",
     "output_type": "error",
     "traceback": [
      "\u001b[0;31m---------------------------------------------------------------------------\u001b[0m",
      "\u001b[0;31mNameError\u001b[0m                                 Traceback (most recent call last)",
      "\u001b[0;32m<ipython-input-8-aec6996aaece>\u001b[0m in \u001b[0;36m<module>\u001b[0;34m\u001b[0m\n\u001b[1;32m     50\u001b[0m \u001b[0;34m\u001b[0m\u001b[0m\n\u001b[1;32m     51\u001b[0m \u001b[0mprint\u001b[0m\u001b[0;34m(\u001b[0m\u001b[0;34m\"time of mitigation for\"\u001b[0m\u001b[0;34m,\u001b[0m \u001b[0mn\u001b[0m\u001b[0;34m,\u001b[0m \u001b[0;34m\"qubits GHZ state: \"\u001b[0m\u001b[0;34m,\u001b[0m \u001b[0mt2\u001b[0m \u001b[0;34m-\u001b[0m \u001b[0mt1\u001b[0m\u001b[0;34m,\u001b[0m \u001b[0;34m\"[s]\"\u001b[0m\u001b[0;34m)\u001b[0m\u001b[0;34m\u001b[0m\u001b[0;34m\u001b[0m\u001b[0m\n\u001b[0;32m---> 52\u001b[0;31m \u001b[0mtimes\u001b[0m\u001b[0;34m.\u001b[0m\u001b[0mappend\u001b[0m\u001b[0;34m(\u001b[0m\u001b[0mt2\u001b[0m \u001b[0;34m-\u001b[0m \u001b[0mt1\u001b[0m\u001b[0;34m)\u001b[0m\u001b[0;34m\u001b[0m\u001b[0;34m\u001b[0m\u001b[0m\n\u001b[0m\u001b[1;32m     53\u001b[0m \u001b[0;34m\u001b[0m\u001b[0m\n\u001b[1;32m     54\u001b[0m \u001b[0mpprint\u001b[0m\u001b[0;34m(\u001b[0m\u001b[0mnoisy_counts\u001b[0m\u001b[0;34m)\u001b[0m\u001b[0;34m\u001b[0m\u001b[0;34m\u001b[0m\u001b[0m\n",
      "\u001b[0;31mNameError\u001b[0m: name 'times' is not defined"
     ]
    }
   ],
   "source": [
    "n = 5\n",
    "print(\"experiment of \", n, \"-qubit GHZ state\")\n",
    "\n",
    "# create n qubit tensored measurement calibration circuits\n",
    "qr = qiskit.QuantumRegister(n)\n",
    "# mit_pattern = [[i] for i in range(n)]\n",
    "mit_pattern = [[0, 2], [1], [4, 3]] # , [2]]\n",
    "meas_calibs, state_labels = tensored_meas_cal(mit_pattern=mit_pattern, qr=qr, circlabel='mcal')\n",
    "print(\"mit pattern: \", mit_pattern)\n",
    "print(\"number of calibration circuits: \", len(meas_calibs))\n",
    "\n",
    "# prepare noise model of n qubits\n",
    "noise_model = noise.NoiseModel()\n",
    "for qi in range(n):\n",
    "    if qi != 3:\n",
    "        continue\n",
    "    read_err = noise.errors.readout_error.ReadoutError([[0.9, 0.1],[0.25,0.75]])\n",
    "    noise_model.add_readout_error(read_err, [qi])\n",
    "\n",
    "# execute the calibration circuits\n",
    "job = qiskit.execute(meas_calibs, backend=Aer.get_backend('qasm_simulator'), shots=5000, noise_model=noise_model)\n",
    "cal_results = job.result()\n",
    "meas_fitter = TensoredMeasFitter(cal_results, mit_pattern=mit_pattern)\n",
    "print(meas_fitter.cal_matrices)\n",
    "\n",
    "# create n-qubit GHZ state\n",
    "m = n\n",
    "cr = ClassicalRegister(m)\n",
    "ghz = QuantumCircuit(qr, cr)\n",
    "ghz.h(qr[0])\n",
    "for i in range(1,m):\n",
    "    ghz.cx(qr[0], qr[i])\n",
    "ghz.barrier()\n",
    "for i in range(m):\n",
    "    ghz.measure(qr[i],cr[i])\n",
    "# ghz.draw(\"mpl\")\n",
    "\n",
    "# execute GHZ circuit\n",
    "job = qiskit.execute([ghz], backend=Aer.get_backend(\"qasm_simulator\"), shots=5000, noise_model=noise_model)\n",
    "noisy_counts = job.result().get_counts()\n",
    "\n",
    "# Get the filter object\n",
    "meas_filter = meas_fitter.filter\n",
    "\n",
    "t1 = time.time()\n",
    "# Results with mitigation\n",
    "# pdb.set_trace()\n",
    "mitigated_counts = meas_filter.apply(noisy_counts, \"pseudo_inverse\")\n",
    "t2 = time.time()\n",
    "\n",
    "print(\"time of mitigation for\", n, \"qubits GHZ state: \", t2 - t1, \"[s]\")\n",
    "\n",
    "pprint(noisy_counts)\n",
    "pprint(mitigated_counts)\n",
    "\n",
    "print()"
   ]
  },
  {
   "cell_type": "code",
   "execution_count": null,
   "metadata": {},
   "outputs": [],
   "source": [
    "n = 5\n",
    "print(\"experiment of \", n, \"-qubit GHZ state\")\n",
    "\n",
    "# create n qubit tensored measurement calibration circuits\n",
    "qr = qiskit.QuantumRegister(n)\n",
    "# mit_pattern = [[i] for i in range(n)]\n",
    "mit_pattern = [[0, 2], [1], [3, 4]] # , [2]]\n",
    "meas_calibs, state_labels = tensored_meas_cal(mit_pattern=mit_pattern, qr=qr, circlabel='mcal')\n",
    "print(\"mit pattern: \", mit_pattern)\n",
    "print(\"number of calibration circuits: \", len(meas_calibs))\n",
    "\n",
    "# prepare noise model of n qubits\n",
    "noise_model = noise.NoiseModel()\n",
    "for qi in range(n):\n",
    "    if qi != 3:\n",
    "        continue\n",
    "    read_err = noise.errors.readout_error.ReadoutError([[0.9, 0.1],[0.25,0.75]])\n",
    "    noise_model.add_readout_error(read_err, [qi])\n",
    "\n",
    "# execute the calibration circuits\n",
    "job = qiskit.execute(meas_calibs, backend=Aer.get_backend('qasm_simulator'), shots=5000, noise_model=noise_model)\n",
    "cal_results = job.result()\n",
    "meas_fitter = TensoredMeasFitter(cal_results, mit_pattern=mit_pattern)\n",
    "print(meas_fitter.cal_matrices)\n",
    "\n",
    "# create n-qubit GHZ state\n",
    "m = n\n",
    "cr = ClassicalRegister(m)\n",
    "ghz = QuantumCircuit(qr, cr)\n",
    "ghz.h(qr[0])\n",
    "for i in range(1,m):\n",
    "    ghz.cx(qr[0], qr[i])\n",
    "ghz.barrier()\n",
    "for i in range(m):\n",
    "    ghz.measure(qr[i],cr[i])\n",
    "# ghz.draw(\"mpl\")\n",
    "\n",
    "# execute GHZ circuit\n",
    "job = qiskit.execute([ghz], backend=Aer.get_backend(\"qasm_simulator\"), shots=5000, noise_model=noise_model)\n",
    "noisy_counts = job.result().get_counts()\n",
    "\n",
    "# Get the filter object\n",
    "meas_filter = meas_fitter.filter\n",
    "\n",
    "t1 = time.time()\n",
    "# Results with mitigation\n",
    "# pdb.set_trace()\n",
    "mitigated_counts = meas_filter.apply(noisy_counts, \"pseudo_inverse\")\n",
    "t2 = time.time()\n",
    "\n",
    "print(\"time of mitigation for\", n, \"qubits GHZ state: \", t2 - t1, \"[s]\")\n",
    "\n",
    "pprint(noisy_counts)\n",
    "pprint(mitigated_counts)\n",
    "\n",
    "print()"
   ]
  }
 ],
 "metadata": {
  "colab": {
   "collapsed_sections": [],
   "name": "tensored_filter.ipynb",
   "provenance": []
  },
  "kernelspec": {
   "display_name": "Python 3",
   "language": "python",
   "name": "python3"
  },
  "language_info": {
   "codemirror_mode": {
    "name": "ipython",
    "version": 3
   },
   "file_extension": ".py",
   "mimetype": "text/x-python",
   "name": "python",
   "nbconvert_exporter": "python",
   "pygments_lexer": "ipython3",
   "version": "3.6.10"
  }
 },
 "nbformat": 4,
 "nbformat_minor": 1
}
